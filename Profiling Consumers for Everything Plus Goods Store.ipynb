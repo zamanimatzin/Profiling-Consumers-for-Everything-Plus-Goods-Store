{
 "cells": [
  {
   "cell_type": "markdown",
   "id": "f6d8780d",
   "metadata": {},
   "source": [
    "# Project Description\n",
    "The household goods store Everything Plus needs analysts to help us eliminate drabness and distribute coziness to every corner of the galaxy. Our tasks for the near future are to identify consumer profiles\n",
    "\n",
    "Purpose: Segment users based on their consumer profiles"
   ]
  },
  {
   "cell_type": "markdown",
   "id": "4c97d583",
   "metadata": {},
   "source": [
    "Link Slide Presentation: \n",
    "https://docs.google.com/presentation/d/1YELbL8syxiFOL3XyyPkCtrTrSejcR7u9bjo_tNS7LLk/edit?usp=sharing"
   ]
  },
  {
   "cell_type": "code",
   "execution_count": 1,
   "id": "79222b58",
   "metadata": {
    "ExecuteTime": {
     "end_time": "2023-09-06T03:57:03.685198Z",
     "start_time": "2023-09-06T03:57:02.103888Z"
    }
   },
   "outputs": [],
   "source": [
    "import pandas as pd\n",
    "import seaborn as sns\n",
    "import matplotlib.pyplot as plt\n",
    "import numpy as np\n",
    "import re\n",
    "import warnings\n",
    "warnings.filterwarnings('ignore')\n",
    "from sklearn.cluster import KMeans\n",
    "from sklearn.preprocessing import StandardScaler\n",
    "from sklearn.metrics import silhouette_score\n",
    "import scipy.stats as stats\n",
    "from scipy.stats import ttest_ind"
   ]
  },
  {
   "cell_type": "code",
   "execution_count": 2,
   "id": "491b6b93",
   "metadata": {
    "ExecuteTime": {
     "end_time": "2023-09-06T03:57:07.900116Z",
     "start_time": "2023-09-06T03:57:07.438677Z"
    }
   },
   "outputs": [],
   "source": [
    "ecomm = pd.read_csv('C:/Users/zaman/OneDrive/Desktop/Practicum/Project/Project 13/Final_project/ecommerce_dataset_us.csv',sep=\"\\t\")"
   ]
  },
  {
   "cell_type": "markdown",
   "id": "00e45f88",
   "metadata": {},
   "source": [
    "# Data Preprocessing\n"
   ]
  },
  {
   "cell_type": "code",
   "execution_count": 3,
   "id": "2f2b43bc",
   "metadata": {
    "ExecuteTime": {
     "end_time": "2023-09-06T03:57:11.241020Z",
     "start_time": "2023-09-06T03:57:11.222511Z"
    }
   },
   "outputs": [
    {
     "data": {
      "text/html": [
       "<div>\n",
       "<style scoped>\n",
       "    .dataframe tbody tr th:only-of-type {\n",
       "        vertical-align: middle;\n",
       "    }\n",
       "\n",
       "    .dataframe tbody tr th {\n",
       "        vertical-align: top;\n",
       "    }\n",
       "\n",
       "    .dataframe thead th {\n",
       "        text-align: right;\n",
       "    }\n",
       "</style>\n",
       "<table border=\"1\" class=\"dataframe\">\n",
       "  <thead>\n",
       "    <tr style=\"text-align: right;\">\n",
       "      <th></th>\n",
       "      <th>InvoiceNo</th>\n",
       "      <th>StockCode</th>\n",
       "      <th>Description</th>\n",
       "      <th>Quantity</th>\n",
       "      <th>InvoiceDate</th>\n",
       "      <th>UnitPrice</th>\n",
       "      <th>CustomerID</th>\n",
       "    </tr>\n",
       "  </thead>\n",
       "  <tbody>\n",
       "    <tr>\n",
       "      <th>0</th>\n",
       "      <td>536365</td>\n",
       "      <td>85123A</td>\n",
       "      <td>WHITE HANGING HEART T-LIGHT HOLDER</td>\n",
       "      <td>6</td>\n",
       "      <td>11/29/2018 08:26</td>\n",
       "      <td>2.55</td>\n",
       "      <td>17850.0</td>\n",
       "    </tr>\n",
       "    <tr>\n",
       "      <th>1</th>\n",
       "      <td>536365</td>\n",
       "      <td>71053</td>\n",
       "      <td>WHITE METAL LANTERN</td>\n",
       "      <td>6</td>\n",
       "      <td>11/29/2018 08:26</td>\n",
       "      <td>3.39</td>\n",
       "      <td>17850.0</td>\n",
       "    </tr>\n",
       "    <tr>\n",
       "      <th>2</th>\n",
       "      <td>536365</td>\n",
       "      <td>84406B</td>\n",
       "      <td>CREAM CUPID HEARTS COAT HANGER</td>\n",
       "      <td>8</td>\n",
       "      <td>11/29/2018 08:26</td>\n",
       "      <td>2.75</td>\n",
       "      <td>17850.0</td>\n",
       "    </tr>\n",
       "    <tr>\n",
       "      <th>3</th>\n",
       "      <td>536365</td>\n",
       "      <td>84029G</td>\n",
       "      <td>KNITTED UNION FLAG HOT WATER BOTTLE</td>\n",
       "      <td>6</td>\n",
       "      <td>11/29/2018 08:26</td>\n",
       "      <td>3.39</td>\n",
       "      <td>17850.0</td>\n",
       "    </tr>\n",
       "    <tr>\n",
       "      <th>4</th>\n",
       "      <td>536365</td>\n",
       "      <td>84029E</td>\n",
       "      <td>RED WOOLLY HOTTIE WHITE HEART.</td>\n",
       "      <td>6</td>\n",
       "      <td>11/29/2018 08:26</td>\n",
       "      <td>3.39</td>\n",
       "      <td>17850.0</td>\n",
       "    </tr>\n",
       "    <tr>\n",
       "      <th>...</th>\n",
       "      <td>...</td>\n",
       "      <td>...</td>\n",
       "      <td>...</td>\n",
       "      <td>...</td>\n",
       "      <td>...</td>\n",
       "      <td>...</td>\n",
       "      <td>...</td>\n",
       "    </tr>\n",
       "    <tr>\n",
       "      <th>541904</th>\n",
       "      <td>581587</td>\n",
       "      <td>22613</td>\n",
       "      <td>PACK OF 20 SPACEBOY NAPKINS</td>\n",
       "      <td>12</td>\n",
       "      <td>12/07/2019 12:50</td>\n",
       "      <td>0.85</td>\n",
       "      <td>12680.0</td>\n",
       "    </tr>\n",
       "    <tr>\n",
       "      <th>541905</th>\n",
       "      <td>581587</td>\n",
       "      <td>22899</td>\n",
       "      <td>CHILDREN'S APRON DOLLY GIRL</td>\n",
       "      <td>6</td>\n",
       "      <td>12/07/2019 12:50</td>\n",
       "      <td>2.10</td>\n",
       "      <td>12680.0</td>\n",
       "    </tr>\n",
       "    <tr>\n",
       "      <th>541906</th>\n",
       "      <td>581587</td>\n",
       "      <td>23254</td>\n",
       "      <td>CHILDRENS CUTLERY DOLLY GIRL</td>\n",
       "      <td>4</td>\n",
       "      <td>12/07/2019 12:50</td>\n",
       "      <td>4.15</td>\n",
       "      <td>12680.0</td>\n",
       "    </tr>\n",
       "    <tr>\n",
       "      <th>541907</th>\n",
       "      <td>581587</td>\n",
       "      <td>23255</td>\n",
       "      <td>CHILDRENS CUTLERY CIRCUS PARADE</td>\n",
       "      <td>4</td>\n",
       "      <td>12/07/2019 12:50</td>\n",
       "      <td>4.15</td>\n",
       "      <td>12680.0</td>\n",
       "    </tr>\n",
       "    <tr>\n",
       "      <th>541908</th>\n",
       "      <td>581587</td>\n",
       "      <td>22138</td>\n",
       "      <td>BAKING SET 9 PIECE RETROSPOT</td>\n",
       "      <td>3</td>\n",
       "      <td>12/07/2019 12:50</td>\n",
       "      <td>4.95</td>\n",
       "      <td>12680.0</td>\n",
       "    </tr>\n",
       "  </tbody>\n",
       "</table>\n",
       "<p>541909 rows × 7 columns</p>\n",
       "</div>"
      ],
      "text/plain": [
       "       InvoiceNo StockCode                          Description  Quantity  \\\n",
       "0         536365    85123A   WHITE HANGING HEART T-LIGHT HOLDER         6   \n",
       "1         536365     71053                  WHITE METAL LANTERN         6   \n",
       "2         536365    84406B       CREAM CUPID HEARTS COAT HANGER         8   \n",
       "3         536365    84029G  KNITTED UNION FLAG HOT WATER BOTTLE         6   \n",
       "4         536365    84029E       RED WOOLLY HOTTIE WHITE HEART.         6   \n",
       "...          ...       ...                                  ...       ...   \n",
       "541904    581587     22613          PACK OF 20 SPACEBOY NAPKINS        12   \n",
       "541905    581587     22899         CHILDREN'S APRON DOLLY GIRL          6   \n",
       "541906    581587     23254        CHILDRENS CUTLERY DOLLY GIRL          4   \n",
       "541907    581587     23255      CHILDRENS CUTLERY CIRCUS PARADE         4   \n",
       "541908    581587     22138        BAKING SET 9 PIECE RETROSPOT          3   \n",
       "\n",
       "             InvoiceDate  UnitPrice  CustomerID  \n",
       "0       11/29/2018 08:26       2.55     17850.0  \n",
       "1       11/29/2018 08:26       3.39     17850.0  \n",
       "2       11/29/2018 08:26       2.75     17850.0  \n",
       "3       11/29/2018 08:26       3.39     17850.0  \n",
       "4       11/29/2018 08:26       3.39     17850.0  \n",
       "...                  ...        ...         ...  \n",
       "541904  12/07/2019 12:50       0.85     12680.0  \n",
       "541905  12/07/2019 12:50       2.10     12680.0  \n",
       "541906  12/07/2019 12:50       4.15     12680.0  \n",
       "541907  12/07/2019 12:50       4.15     12680.0  \n",
       "541908  12/07/2019 12:50       4.95     12680.0  \n",
       "\n",
       "[541909 rows x 7 columns]"
      ]
     },
     "execution_count": 3,
     "metadata": {},
     "output_type": "execute_result"
    }
   ],
   "source": [
    "ecomm"
   ]
  },
  {
   "cell_type": "code",
   "execution_count": 4,
   "id": "8b38bd4d",
   "metadata": {
    "ExecuteTime": {
     "end_time": "2023-09-06T03:57:22.151236Z",
     "start_time": "2023-09-06T03:57:21.878081Z"
    }
   },
   "outputs": [
    {
     "name": "stdout",
     "output_type": "stream",
     "text": [
      "<class 'pandas.core.frame.DataFrame'>\n",
      "RangeIndex: 541909 entries, 0 to 541908\n",
      "Data columns (total 7 columns):\n",
      " #   Column       Non-Null Count   Dtype  \n",
      "---  ------       --------------   -----  \n",
      " 0   InvoiceNo    541909 non-null  object \n",
      " 1   StockCode    541909 non-null  object \n",
      " 2   Description  540455 non-null  object \n",
      " 3   Quantity     541909 non-null  int64  \n",
      " 4   InvoiceDate  541909 non-null  object \n",
      " 5   UnitPrice    541909 non-null  float64\n",
      " 6   CustomerID   406829 non-null  float64\n",
      "dtypes: float64(2), int64(1), object(4)\n",
      "memory usage: 28.9+ MB\n"
     ]
    }
   ],
   "source": [
    "ecomm.info()"
   ]
  },
  {
   "cell_type": "code",
   "execution_count": 5,
   "id": "73104523",
   "metadata": {
    "ExecuteTime": {
     "end_time": "2023-09-06T03:57:25.969150Z",
     "start_time": "2023-09-06T03:57:25.717926Z"
    }
   },
   "outputs": [
    {
     "data": {
      "text/plain": [
       "InvoiceNo           0\n",
       "StockCode           0\n",
       "Description      1454\n",
       "Quantity            0\n",
       "InvoiceDate         0\n",
       "UnitPrice           0\n",
       "CustomerID     135080\n",
       "dtype: int64"
      ]
     },
     "execution_count": 5,
     "metadata": {},
     "output_type": "execute_result"
    }
   ],
   "source": [
    "ecomm.isna().sum()"
   ]
  },
  {
   "cell_type": "code",
   "execution_count": 6,
   "id": "d8e9b663",
   "metadata": {
    "ExecuteTime": {
     "end_time": "2023-09-06T03:57:29.783611Z",
     "start_time": "2023-09-06T03:57:29.549768Z"
    }
   },
   "outputs": [
    {
     "data": {
      "text/plain": [
       "5268"
      ]
     },
     "execution_count": 6,
     "metadata": {},
     "output_type": "execute_result"
    }
   ],
   "source": [
    "ecomm.duplicated().sum()"
   ]
  },
  {
   "cell_type": "code",
   "execution_count": 7,
   "id": "e964000e",
   "metadata": {
    "ExecuteTime": {
     "end_time": "2023-09-06T03:57:32.929225Z",
     "start_time": "2023-09-06T03:57:32.877633Z"
    }
   },
   "outputs": [
    {
     "data": {
      "text/html": [
       "<div>\n",
       "<style scoped>\n",
       "    .dataframe tbody tr th:only-of-type {\n",
       "        vertical-align: middle;\n",
       "    }\n",
       "\n",
       "    .dataframe tbody tr th {\n",
       "        vertical-align: top;\n",
       "    }\n",
       "\n",
       "    .dataframe thead th {\n",
       "        text-align: right;\n",
       "    }\n",
       "</style>\n",
       "<table border=\"1\" class=\"dataframe\">\n",
       "  <thead>\n",
       "    <tr style=\"text-align: right;\">\n",
       "      <th></th>\n",
       "      <th>Quantity</th>\n",
       "      <th>UnitPrice</th>\n",
       "      <th>CustomerID</th>\n",
       "    </tr>\n",
       "  </thead>\n",
       "  <tbody>\n",
       "    <tr>\n",
       "      <th>count</th>\n",
       "      <td>541909.000000</td>\n",
       "      <td>541909.000000</td>\n",
       "      <td>406829.000000</td>\n",
       "    </tr>\n",
       "    <tr>\n",
       "      <th>mean</th>\n",
       "      <td>9.552250</td>\n",
       "      <td>4.611114</td>\n",
       "      <td>15287.690570</td>\n",
       "    </tr>\n",
       "    <tr>\n",
       "      <th>std</th>\n",
       "      <td>218.081158</td>\n",
       "      <td>96.759853</td>\n",
       "      <td>1713.600303</td>\n",
       "    </tr>\n",
       "    <tr>\n",
       "      <th>min</th>\n",
       "      <td>-80995.000000</td>\n",
       "      <td>-11062.060000</td>\n",
       "      <td>12346.000000</td>\n",
       "    </tr>\n",
       "    <tr>\n",
       "      <th>25%</th>\n",
       "      <td>1.000000</td>\n",
       "      <td>1.250000</td>\n",
       "      <td>13953.000000</td>\n",
       "    </tr>\n",
       "    <tr>\n",
       "      <th>50%</th>\n",
       "      <td>3.000000</td>\n",
       "      <td>2.080000</td>\n",
       "      <td>15152.000000</td>\n",
       "    </tr>\n",
       "    <tr>\n",
       "      <th>75%</th>\n",
       "      <td>10.000000</td>\n",
       "      <td>4.130000</td>\n",
       "      <td>16791.000000</td>\n",
       "    </tr>\n",
       "    <tr>\n",
       "      <th>max</th>\n",
       "      <td>80995.000000</td>\n",
       "      <td>38970.000000</td>\n",
       "      <td>18287.000000</td>\n",
       "    </tr>\n",
       "  </tbody>\n",
       "</table>\n",
       "</div>"
      ],
      "text/plain": [
       "            Quantity      UnitPrice     CustomerID\n",
       "count  541909.000000  541909.000000  406829.000000\n",
       "mean        9.552250       4.611114   15287.690570\n",
       "std       218.081158      96.759853    1713.600303\n",
       "min    -80995.000000  -11062.060000   12346.000000\n",
       "25%         1.000000       1.250000   13953.000000\n",
       "50%         3.000000       2.080000   15152.000000\n",
       "75%        10.000000       4.130000   16791.000000\n",
       "max     80995.000000   38970.000000   18287.000000"
      ]
     },
     "execution_count": 7,
     "metadata": {},
     "output_type": "execute_result"
    }
   ],
   "source": [
    "ecomm.describe()"
   ]
  },
  {
   "cell_type": "markdown",
   "id": "9ebd5477",
   "metadata": {
    "ExecuteTime": {
     "end_time": "2023-09-06T03:57:37.468494Z",
     "start_time": "2023-09-06T03:57:37.461445Z"
    }
   },
   "source": [
    "**Summary**\n",
    "\n",
    "- InvoiceDate columns should in datetime format\n",
    "- missing value in Description and CustomerID\n",
    "- 5268 duplicated data"
   ]
  },
  {
   "cell_type": "markdown",
   "id": "5e5a27b1",
   "metadata": {},
   "source": [
    "## Fix data"
   ]
  },
  {
   "cell_type": "code",
   "execution_count": 9,
   "id": "870dc369",
   "metadata": {
    "ExecuteTime": {
     "end_time": "2023-09-06T03:57:50.481742Z",
     "start_time": "2023-09-06T03:57:50.460927Z"
    }
   },
   "outputs": [],
   "source": [
    "copy_ecomm = ecomm.copy()\n"
   ]
  },
  {
   "cell_type": "markdown",
   "id": "467b89c3",
   "metadata": {
    "ExecuteTime": {
     "end_time": "2023-09-06T03:57:54.662696Z",
     "start_time": "2023-09-06T03:57:54.652764Z"
    }
   },
   "source": [
    "**Change the data type**"
   ]
  },
  {
   "cell_type": "code",
   "execution_count": 11,
   "id": "960b08e4",
   "metadata": {
    "ExecuteTime": {
     "end_time": "2023-09-06T03:58:01.329557Z",
     "start_time": "2023-09-06T03:58:01.188499Z"
    }
   },
   "outputs": [
    {
     "name": "stdout",
     "output_type": "stream",
     "text": [
      "<class 'pandas.core.series.Series'>\n",
      "RangeIndex: 541909 entries, 0 to 541908\n",
      "Series name: InvoiceDate\n",
      "Non-Null Count   Dtype         \n",
      "--------------   -----         \n",
      "541909 non-null  datetime64[ns]\n",
      "dtypes: datetime64[ns](1)\n",
      "memory usage: 4.1 MB\n"
     ]
    }
   ],
   "source": [
    "copy_ecomm['InvoiceDate'] = pd.to_datetime(copy_ecomm['InvoiceDate'],format = '%m/%d/%Y %H:%M')\n",
    "copy_ecomm['InvoiceDate'].info()"
   ]
  },
  {
   "cell_type": "markdown",
   "id": "25c1fe4b",
   "metadata": {},
   "source": [
    "**Drop duplicated**"
   ]
  },
  {
   "cell_type": "code",
   "execution_count": 12,
   "id": "2987e087",
   "metadata": {
    "ExecuteTime": {
     "end_time": "2023-09-06T03:58:11.646839Z",
     "start_time": "2023-09-06T03:58:11.212091Z"
    }
   },
   "outputs": [
    {
     "data": {
      "text/plain": [
       "0"
      ]
     },
     "execution_count": 12,
     "metadata": {},
     "output_type": "execute_result"
    }
   ],
   "source": [
    "copy_ecomm.drop_duplicates(inplace=True)\n",
    "copy_ecomm.duplicated().sum()"
   ]
  },
  {
   "cell_type": "markdown",
   "id": "04053c8c",
   "metadata": {
    "ExecuteTime": {
     "end_time": "2023-09-06T03:58:15.250209Z",
     "start_time": "2023-09-06T03:58:15.235935Z"
    }
   },
   "source": [
    "**Check the missing data** "
   ]
  },
  {
   "cell_type": "code",
   "execution_count": 14,
   "id": "98333e2a",
   "metadata": {
    "ExecuteTime": {
     "end_time": "2023-09-06T03:58:20.507634Z",
     "start_time": "2023-09-06T03:58:20.459186Z"
    }
   },
   "outputs": [
    {
     "data": {
      "text/html": [
       "<div>\n",
       "<style scoped>\n",
       "    .dataframe tbody tr th:only-of-type {\n",
       "        vertical-align: middle;\n",
       "    }\n",
       "\n",
       "    .dataframe tbody tr th {\n",
       "        vertical-align: top;\n",
       "    }\n",
       "\n",
       "    .dataframe thead th {\n",
       "        text-align: right;\n",
       "    }\n",
       "</style>\n",
       "<table border=\"1\" class=\"dataframe\">\n",
       "  <thead>\n",
       "    <tr style=\"text-align: right;\">\n",
       "      <th></th>\n",
       "      <th>InvoiceNo</th>\n",
       "      <th>StockCode</th>\n",
       "      <th>Description</th>\n",
       "      <th>Quantity</th>\n",
       "      <th>InvoiceDate</th>\n",
       "      <th>UnitPrice</th>\n",
       "      <th>CustomerID</th>\n",
       "    </tr>\n",
       "  </thead>\n",
       "  <tbody>\n",
       "    <tr>\n",
       "      <th>622</th>\n",
       "      <td>536414</td>\n",
       "      <td>22139</td>\n",
       "      <td>NaN</td>\n",
       "      <td>56</td>\n",
       "      <td>2018-11-29 11:52:00</td>\n",
       "      <td>0.0</td>\n",
       "      <td>NaN</td>\n",
       "    </tr>\n",
       "    <tr>\n",
       "      <th>1970</th>\n",
       "      <td>536545</td>\n",
       "      <td>21134</td>\n",
       "      <td>NaN</td>\n",
       "      <td>1</td>\n",
       "      <td>2018-11-29 14:32:00</td>\n",
       "      <td>0.0</td>\n",
       "      <td>NaN</td>\n",
       "    </tr>\n",
       "    <tr>\n",
       "      <th>1971</th>\n",
       "      <td>536546</td>\n",
       "      <td>22145</td>\n",
       "      <td>NaN</td>\n",
       "      <td>1</td>\n",
       "      <td>2018-11-29 14:33:00</td>\n",
       "      <td>0.0</td>\n",
       "      <td>NaN</td>\n",
       "    </tr>\n",
       "    <tr>\n",
       "      <th>1972</th>\n",
       "      <td>536547</td>\n",
       "      <td>37509</td>\n",
       "      <td>NaN</td>\n",
       "      <td>1</td>\n",
       "      <td>2018-11-29 14:33:00</td>\n",
       "      <td>0.0</td>\n",
       "      <td>NaN</td>\n",
       "    </tr>\n",
       "    <tr>\n",
       "      <th>1987</th>\n",
       "      <td>536549</td>\n",
       "      <td>85226A</td>\n",
       "      <td>NaN</td>\n",
       "      <td>1</td>\n",
       "      <td>2018-11-29 14:34:00</td>\n",
       "      <td>0.0</td>\n",
       "      <td>NaN</td>\n",
       "    </tr>\n",
       "    <tr>\n",
       "      <th>...</th>\n",
       "      <td>...</td>\n",
       "      <td>...</td>\n",
       "      <td>...</td>\n",
       "      <td>...</td>\n",
       "      <td>...</td>\n",
       "      <td>...</td>\n",
       "      <td>...</td>\n",
       "    </tr>\n",
       "    <tr>\n",
       "      <th>535322</th>\n",
       "      <td>581199</td>\n",
       "      <td>84581</td>\n",
       "      <td>NaN</td>\n",
       "      <td>-2</td>\n",
       "      <td>2019-12-05 18:26:00</td>\n",
       "      <td>0.0</td>\n",
       "      <td>NaN</td>\n",
       "    </tr>\n",
       "    <tr>\n",
       "      <th>535326</th>\n",
       "      <td>581203</td>\n",
       "      <td>23406</td>\n",
       "      <td>NaN</td>\n",
       "      <td>15</td>\n",
       "      <td>2019-12-05 18:31:00</td>\n",
       "      <td>0.0</td>\n",
       "      <td>NaN</td>\n",
       "    </tr>\n",
       "    <tr>\n",
       "      <th>535332</th>\n",
       "      <td>581209</td>\n",
       "      <td>21620</td>\n",
       "      <td>NaN</td>\n",
       "      <td>6</td>\n",
       "      <td>2019-12-05 18:35:00</td>\n",
       "      <td>0.0</td>\n",
       "      <td>NaN</td>\n",
       "    </tr>\n",
       "    <tr>\n",
       "      <th>536981</th>\n",
       "      <td>581234</td>\n",
       "      <td>72817</td>\n",
       "      <td>NaN</td>\n",
       "      <td>27</td>\n",
       "      <td>2019-12-06 10:33:00</td>\n",
       "      <td>0.0</td>\n",
       "      <td>NaN</td>\n",
       "    </tr>\n",
       "    <tr>\n",
       "      <th>538554</th>\n",
       "      <td>581408</td>\n",
       "      <td>85175</td>\n",
       "      <td>NaN</td>\n",
       "      <td>20</td>\n",
       "      <td>2019-12-06 14:06:00</td>\n",
       "      <td>0.0</td>\n",
       "      <td>NaN</td>\n",
       "    </tr>\n",
       "  </tbody>\n",
       "</table>\n",
       "<p>1454 rows × 7 columns</p>\n",
       "</div>"
      ],
      "text/plain": [
       "       InvoiceNo StockCode Description  Quantity         InvoiceDate  \\\n",
       "622       536414     22139         NaN        56 2018-11-29 11:52:00   \n",
       "1970      536545     21134         NaN         1 2018-11-29 14:32:00   \n",
       "1971      536546     22145         NaN         1 2018-11-29 14:33:00   \n",
       "1972      536547     37509         NaN         1 2018-11-29 14:33:00   \n",
       "1987      536549    85226A         NaN         1 2018-11-29 14:34:00   \n",
       "...          ...       ...         ...       ...                 ...   \n",
       "535322    581199     84581         NaN        -2 2019-12-05 18:26:00   \n",
       "535326    581203     23406         NaN        15 2019-12-05 18:31:00   \n",
       "535332    581209     21620         NaN         6 2019-12-05 18:35:00   \n",
       "536981    581234     72817         NaN        27 2019-12-06 10:33:00   \n",
       "538554    581408     85175         NaN        20 2019-12-06 14:06:00   \n",
       "\n",
       "        UnitPrice  CustomerID  \n",
       "622           0.0         NaN  \n",
       "1970          0.0         NaN  \n",
       "1971          0.0         NaN  \n",
       "1972          0.0         NaN  \n",
       "1987          0.0         NaN  \n",
       "...           ...         ...  \n",
       "535322        0.0         NaN  \n",
       "535326        0.0         NaN  \n",
       "535332        0.0         NaN  \n",
       "536981        0.0         NaN  \n",
       "538554        0.0         NaN  \n",
       "\n",
       "[1454 rows x 7 columns]"
      ]
     },
     "execution_count": 14,
     "metadata": {},
     "output_type": "execute_result"
    }
   ],
   "source": [
    "copy_ecomm[copy_ecomm['Description'].isna()]"
   ]
  },
  {
   "cell_type": "code",
   "execution_count": 15,
   "id": "aee8d3e7",
   "metadata": {
    "ExecuteTime": {
     "end_time": "2023-09-06T03:58:24.587070Z",
     "start_time": "2023-09-06T03:58:24.547568Z"
    }
   },
   "outputs": [
    {
     "data": {
      "text/html": [
       "<div>\n",
       "<style scoped>\n",
       "    .dataframe tbody tr th:only-of-type {\n",
       "        vertical-align: middle;\n",
       "    }\n",
       "\n",
       "    .dataframe tbody tr th {\n",
       "        vertical-align: top;\n",
       "    }\n",
       "\n",
       "    .dataframe thead th {\n",
       "        text-align: right;\n",
       "    }\n",
       "</style>\n",
       "<table border=\"1\" class=\"dataframe\">\n",
       "  <thead>\n",
       "    <tr style=\"text-align: right;\">\n",
       "      <th></th>\n",
       "      <th>Quantity</th>\n",
       "      <th>UnitPrice</th>\n",
       "      <th>CustomerID</th>\n",
       "    </tr>\n",
       "  </thead>\n",
       "  <tbody>\n",
       "    <tr>\n",
       "      <th>count</th>\n",
       "      <td>1454.000000</td>\n",
       "      <td>1454.0</td>\n",
       "      <td>0.0</td>\n",
       "    </tr>\n",
       "    <tr>\n",
       "      <th>mean</th>\n",
       "      <td>-9.359697</td>\n",
       "      <td>0.0</td>\n",
       "      <td>NaN</td>\n",
       "    </tr>\n",
       "    <tr>\n",
       "      <th>std</th>\n",
       "      <td>243.238758</td>\n",
       "      <td>0.0</td>\n",
       "      <td>NaN</td>\n",
       "    </tr>\n",
       "    <tr>\n",
       "      <th>min</th>\n",
       "      <td>-3667.000000</td>\n",
       "      <td>0.0</td>\n",
       "      <td>NaN</td>\n",
       "    </tr>\n",
       "    <tr>\n",
       "      <th>25%</th>\n",
       "      <td>-24.000000</td>\n",
       "      <td>0.0</td>\n",
       "      <td>NaN</td>\n",
       "    </tr>\n",
       "    <tr>\n",
       "      <th>50%</th>\n",
       "      <td>-3.000000</td>\n",
       "      <td>0.0</td>\n",
       "      <td>NaN</td>\n",
       "    </tr>\n",
       "    <tr>\n",
       "      <th>75%</th>\n",
       "      <td>4.000000</td>\n",
       "      <td>0.0</td>\n",
       "      <td>NaN</td>\n",
       "    </tr>\n",
       "    <tr>\n",
       "      <th>max</th>\n",
       "      <td>5568.000000</td>\n",
       "      <td>0.0</td>\n",
       "      <td>NaN</td>\n",
       "    </tr>\n",
       "  </tbody>\n",
       "</table>\n",
       "</div>"
      ],
      "text/plain": [
       "          Quantity  UnitPrice  CustomerID\n",
       "count  1454.000000     1454.0         0.0\n",
       "mean     -9.359697        0.0         NaN\n",
       "std     243.238758        0.0         NaN\n",
       "min   -3667.000000        0.0         NaN\n",
       "25%     -24.000000        0.0         NaN\n",
       "50%      -3.000000        0.0         NaN\n",
       "75%       4.000000        0.0         NaN\n",
       "max    5568.000000        0.0         NaN"
      ]
     },
     "execution_count": 15,
     "metadata": {},
     "output_type": "execute_result"
    }
   ],
   "source": [
    "copy_ecomm[copy_ecomm['Description'].isna()].describe()"
   ]
  },
  {
   "cell_type": "markdown",
   "id": "8d07d7a9",
   "metadata": {},
   "source": [
    "**Observation**\n",
    "\n",
    "- Data missing in description column also have missing value for customer id.\n",
    "- The unit price also 0.\n",
    "- Here, we can assumed that the data missing value and 0 price maybe caused by the human error because:\n",
    "    - the workers seems to ignored the description, unitprice and customerID columns \n",
    "    - maybe because they want to work fast and forgot to include the fill in the columns \n",
    "- Therfore, the missing data in Description columns will be drop"
   ]
  },
  {
   "cell_type": "code",
   "execution_count": 16,
   "id": "b56e3a8c",
   "metadata": {
    "ExecuteTime": {
     "end_time": "2023-09-06T03:59:20.849400Z",
     "start_time": "2023-09-06T03:59:20.577315Z"
    }
   },
   "outputs": [
    {
     "data": {
      "text/plain": [
       "InvoiceNo           0\n",
       "StockCode           0\n",
       "Description         0\n",
       "Quantity            0\n",
       "InvoiceDate         0\n",
       "UnitPrice           0\n",
       "CustomerID     133583\n",
       "dtype: int64"
      ]
     },
     "execution_count": 16,
     "metadata": {},
     "output_type": "execute_result"
    }
   ],
   "source": [
    "copy_ecomm.dropna(subset = ['Description'], inplace=True)\n",
    "copy_ecomm.isna().sum()"
   ]
  },
  {
   "cell_type": "markdown",
   "id": "b25ef9f7",
   "metadata": {},
   "source": [
    "Now, lets check the missing value in CustomerID column"
   ]
  },
  {
   "cell_type": "code",
   "execution_count": 17,
   "id": "1d6e10c4",
   "metadata": {
    "ExecuteTime": {
     "end_time": "2023-09-06T03:59:28.988787Z",
     "start_time": "2023-09-06T03:59:28.953989Z"
    }
   },
   "outputs": [
    {
     "data": {
      "text/html": [
       "<div>\n",
       "<style scoped>\n",
       "    .dataframe tbody tr th:only-of-type {\n",
       "        vertical-align: middle;\n",
       "    }\n",
       "\n",
       "    .dataframe tbody tr th {\n",
       "        vertical-align: top;\n",
       "    }\n",
       "\n",
       "    .dataframe thead th {\n",
       "        text-align: right;\n",
       "    }\n",
       "</style>\n",
       "<table border=\"1\" class=\"dataframe\">\n",
       "  <thead>\n",
       "    <tr style=\"text-align: right;\">\n",
       "      <th></th>\n",
       "      <th>InvoiceNo</th>\n",
       "      <th>StockCode</th>\n",
       "      <th>Description</th>\n",
       "      <th>Quantity</th>\n",
       "      <th>InvoiceDate</th>\n",
       "      <th>UnitPrice</th>\n",
       "      <th>CustomerID</th>\n",
       "    </tr>\n",
       "  </thead>\n",
       "  <tbody>\n",
       "    <tr>\n",
       "      <th>1443</th>\n",
       "      <td>536544</td>\n",
       "      <td>21773</td>\n",
       "      <td>DECORATIVE ROSE BATHROOM BOTTLE</td>\n",
       "      <td>1</td>\n",
       "      <td>2018-11-29 14:32:00</td>\n",
       "      <td>2.51</td>\n",
       "      <td>NaN</td>\n",
       "    </tr>\n",
       "    <tr>\n",
       "      <th>1444</th>\n",
       "      <td>536544</td>\n",
       "      <td>21774</td>\n",
       "      <td>DECORATIVE CATS BATHROOM BOTTLE</td>\n",
       "      <td>2</td>\n",
       "      <td>2018-11-29 14:32:00</td>\n",
       "      <td>2.51</td>\n",
       "      <td>NaN</td>\n",
       "    </tr>\n",
       "    <tr>\n",
       "      <th>1445</th>\n",
       "      <td>536544</td>\n",
       "      <td>21786</td>\n",
       "      <td>POLKADOT RAIN HAT</td>\n",
       "      <td>4</td>\n",
       "      <td>2018-11-29 14:32:00</td>\n",
       "      <td>0.85</td>\n",
       "      <td>NaN</td>\n",
       "    </tr>\n",
       "    <tr>\n",
       "      <th>1446</th>\n",
       "      <td>536544</td>\n",
       "      <td>21787</td>\n",
       "      <td>RAIN PONCHO RETROSPOT</td>\n",
       "      <td>2</td>\n",
       "      <td>2018-11-29 14:32:00</td>\n",
       "      <td>1.66</td>\n",
       "      <td>NaN</td>\n",
       "    </tr>\n",
       "    <tr>\n",
       "      <th>1447</th>\n",
       "      <td>536544</td>\n",
       "      <td>21790</td>\n",
       "      <td>VINTAGE SNAP CARDS</td>\n",
       "      <td>9</td>\n",
       "      <td>2018-11-29 14:32:00</td>\n",
       "      <td>1.66</td>\n",
       "      <td>NaN</td>\n",
       "    </tr>\n",
       "    <tr>\n",
       "      <th>...</th>\n",
       "      <td>...</td>\n",
       "      <td>...</td>\n",
       "      <td>...</td>\n",
       "      <td>...</td>\n",
       "      <td>...</td>\n",
       "      <td>...</td>\n",
       "      <td>...</td>\n",
       "    </tr>\n",
       "    <tr>\n",
       "      <th>541536</th>\n",
       "      <td>581498</td>\n",
       "      <td>85099B</td>\n",
       "      <td>JUMBO BAG RED RETROSPOT</td>\n",
       "      <td>5</td>\n",
       "      <td>2019-12-07 10:26:00</td>\n",
       "      <td>4.13</td>\n",
       "      <td>NaN</td>\n",
       "    </tr>\n",
       "    <tr>\n",
       "      <th>541537</th>\n",
       "      <td>581498</td>\n",
       "      <td>85099C</td>\n",
       "      <td>JUMBO  BAG BAROQUE BLACK WHITE</td>\n",
       "      <td>4</td>\n",
       "      <td>2019-12-07 10:26:00</td>\n",
       "      <td>4.13</td>\n",
       "      <td>NaN</td>\n",
       "    </tr>\n",
       "    <tr>\n",
       "      <th>541538</th>\n",
       "      <td>581498</td>\n",
       "      <td>85150</td>\n",
       "      <td>LADIES &amp; GENTLEMEN METAL SIGN</td>\n",
       "      <td>1</td>\n",
       "      <td>2019-12-07 10:26:00</td>\n",
       "      <td>4.96</td>\n",
       "      <td>NaN</td>\n",
       "    </tr>\n",
       "    <tr>\n",
       "      <th>541539</th>\n",
       "      <td>581498</td>\n",
       "      <td>85174</td>\n",
       "      <td>S/4 CACTI CANDLES</td>\n",
       "      <td>1</td>\n",
       "      <td>2019-12-07 10:26:00</td>\n",
       "      <td>10.79</td>\n",
       "      <td>NaN</td>\n",
       "    </tr>\n",
       "    <tr>\n",
       "      <th>541540</th>\n",
       "      <td>581498</td>\n",
       "      <td>DOT</td>\n",
       "      <td>DOTCOM POSTAGE</td>\n",
       "      <td>1</td>\n",
       "      <td>2019-12-07 10:26:00</td>\n",
       "      <td>1714.17</td>\n",
       "      <td>NaN</td>\n",
       "    </tr>\n",
       "  </tbody>\n",
       "</table>\n",
       "<p>133583 rows × 7 columns</p>\n",
       "</div>"
      ],
      "text/plain": [
       "       InvoiceNo StockCode                      Description  Quantity  \\\n",
       "1443      536544     21773  DECORATIVE ROSE BATHROOM BOTTLE         1   \n",
       "1444      536544     21774  DECORATIVE CATS BATHROOM BOTTLE         2   \n",
       "1445      536544     21786               POLKADOT RAIN HAT          4   \n",
       "1446      536544     21787            RAIN PONCHO RETROSPOT         2   \n",
       "1447      536544     21790               VINTAGE SNAP CARDS         9   \n",
       "...          ...       ...                              ...       ...   \n",
       "541536    581498    85099B          JUMBO BAG RED RETROSPOT         5   \n",
       "541537    581498    85099C   JUMBO  BAG BAROQUE BLACK WHITE         4   \n",
       "541538    581498     85150    LADIES & GENTLEMEN METAL SIGN         1   \n",
       "541539    581498     85174                S/4 CACTI CANDLES         1   \n",
       "541540    581498       DOT                   DOTCOM POSTAGE         1   \n",
       "\n",
       "               InvoiceDate  UnitPrice  CustomerID  \n",
       "1443   2018-11-29 14:32:00       2.51         NaN  \n",
       "1444   2018-11-29 14:32:00       2.51         NaN  \n",
       "1445   2018-11-29 14:32:00       0.85         NaN  \n",
       "1446   2018-11-29 14:32:00       1.66         NaN  \n",
       "1447   2018-11-29 14:32:00       1.66         NaN  \n",
       "...                    ...        ...         ...  \n",
       "541536 2019-12-07 10:26:00       4.13         NaN  \n",
       "541537 2019-12-07 10:26:00       4.13         NaN  \n",
       "541538 2019-12-07 10:26:00       4.96         NaN  \n",
       "541539 2019-12-07 10:26:00      10.79         NaN  \n",
       "541540 2019-12-07 10:26:00    1714.17         NaN  \n",
       "\n",
       "[133583 rows x 7 columns]"
      ]
     },
     "execution_count": 17,
     "metadata": {},
     "output_type": "execute_result"
    }
   ],
   "source": [
    "missing_id = copy_ecomm[copy_ecomm['CustomerID'].isna()]\n",
    "missing_id"
   ]
  },
  {
   "cell_type": "code",
   "execution_count": 18,
   "id": "5eaa2e46",
   "metadata": {
    "ExecuteTime": {
     "end_time": "2023-09-06T03:59:34.963901Z",
     "start_time": "2023-09-06T03:59:34.888737Z"
    }
   },
   "outputs": [
    {
     "data": {
      "text/plain": [
       "['BAG 125g SWIRLY MARBLES',\n",
       " 'BAG 250g SWIRLY MARBLES',\n",
       " \"Dr. Jam's Arouzer Stress Ball\",\n",
       " 'BAG 500g SWIRLY MARBLES',\n",
       " 'Manual',\n",
       " 'amazon',\n",
       " '3 TRADITIONAl BISCUIT CUTTERS  SET',\n",
       " 'check',\n",
       " 'damages',\n",
       " \"Dad's Cab Electronic Meter\",\n",
       " 'ESSENTIAL BALM 3.5g TIN IN ENVELOPE',\n",
       " 'FRENCH BLUE METAL DOOR SIGN No',\n",
       " 'Bank Charges',\n",
       " 'NUMBER TILE VINTAGE FONT No ',\n",
       " '*Boombox Ipod Classic',\n",
       " 'faulty',\n",
       " 'Dotcom sales',\n",
       " 'amazon sales',\n",
       " '*USB Office Mirror Ball',\n",
       " 'Dotcomgiftshop Gift Voucher £40.00',\n",
       " 'Found',\n",
       " 'Dotcomgiftshop Gift Voucher £50.00',\n",
       " 'reverse 21/5/10 adjustment',\n",
       " 'Dotcomgiftshop Gift Voucher £30.00',\n",
       " 'Dotcomgiftshop Gift Voucher £20.00',\n",
       " 'POLYESTER FILLER PAD 65CMx65CM',\n",
       " 'POLYESTER FILLER PAD 45x45cm',\n",
       " 'mouldy, thrown away.',\n",
       " 'found',\n",
       " 'counted',\n",
       " 'NUMBER TILE COTTAGE GARDEN No',\n",
       " 'Given away',\n",
       " 'Dotcom',\n",
       " 'label mix up',\n",
       " 'samples/damages',\n",
       " 'POLYESTER FILLER PAD 40x40cm',\n",
       " 'thrown away',\n",
       " 'incorrectly made-thrown away.',\n",
       " 'showroom',\n",
       " 'Adjustment',\n",
       " 'Dotcomgiftshop Gift Voucher £10.00',\n",
       " 'Dotcom set',\n",
       " 'wrongly sold as sets',\n",
       " 'Amazon sold sets',\n",
       " 'dotcom sold sets',\n",
       " 'wrongly sold sets',\n",
       " '? sold as sets?',\n",
       " '?sold as sets?',\n",
       " 'Thrown away.',\n",
       " 'damages/display',\n",
       " 'damaged stock',\n",
       " 'broken',\n",
       " 'throw away',\n",
       " 'wrong barcode (22467)',\n",
       " 'wrongly sold (22719) barcode',\n",
       " 'POLYESTER FILLER PAD 45x30cm',\n",
       " 'wrong barcode',\n",
       " 'barcode problem',\n",
       " '?lost',\n",
       " \"thrown away-can't sell.\",\n",
       " \"thrown away-can't sell\",\n",
       " 'rcvd be air temp fix for dotcom sit',\n",
       " 'damages?',\n",
       " 're dotcom quick fix.',\n",
       " \"Dotcom sold in 6's\",\n",
       " 'sold in set?',\n",
       " 'cracked',\n",
       " 'sold as 22467',\n",
       " 'Damaged',\n",
       " 'mystery! Only ever imported 1800',\n",
       " 'damaged',\n",
       " 'did  a credit  and did not tick ret',\n",
       " 'Display',\n",
       " 'Missing',\n",
       " 'adjustment',\n",
       " 'returned',\n",
       " 'wrong code?',\n",
       " 'wrong code',\n",
       " 'adjust',\n",
       " 'crushed',\n",
       " 'damages/showroom etc',\n",
       " 'samples',\n",
       " 'damages/credits from ASOS.',\n",
       " 'mailout ',\n",
       " 'mailout',\n",
       " 'Not rcvd in 10/11/2010 delivery',\n",
       " 'Thrown away-rusty',\n",
       " 'sold as set/6 by dotcom',\n",
       " 'wet/rusty',\n",
       " 'damages/dotcom?',\n",
       " 'on cargo order',\n",
       " 'smashed',\n",
       " 'incorrectly credited C550456 see 47',\n",
       " 'reverse previous adjustment',\n",
       " 'wet damaged',\n",
       " 'Water damaged',\n",
       " 'missing',\n",
       " 'sold as set on dotcom',\n",
       " 'sold as set on dotcom and amazon',\n",
       " 'water damage',\n",
       " 'sold as set by dotcom',\n",
       " 'Printing smudges/thrown away',\n",
       " 'printing smudges/thrown away',\n",
       " 'to push order througha s stock was ',\n",
       " 'found some more on shelf',\n",
       " 'Show Samples',\n",
       " 'mix up with c',\n",
       " 'mouldy, unsaleable.',\n",
       " 'wrongly marked. 23343 in box',\n",
       " 'came coded as 20713',\n",
       " 'alan hodge cant mamage this section',\n",
       " 'dotcom',\n",
       " 'stock creditted wrongly',\n",
       " 'ebay',\n",
       " 'incorrectly put back into stock',\n",
       " 'Damages/samples',\n",
       " 'Dotcomgiftshop Gift Voucher £100.00',\n",
       " 'Sold as 1 on dotcom',\n",
       " 'Adjust bad debt',\n",
       " 'taig adjust no stock',\n",
       " 'code mix up? 84930',\n",
       " '?display?',\n",
       " 'sold as 1',\n",
       " '?missing',\n",
       " 'crushed ctn',\n",
       " 'THE KING GIFT BAG 25x24x12cm',\n",
       " 'Crushed',\n",
       " 'test',\n",
       " 'temp adjustment',\n",
       " 'taig adjust',\n",
       " 'allocate stock for dotcom orders ta',\n",
       " 'add stock to allocate online orders',\n",
       " 'for online retail orders',\n",
       " 'Amazon',\n",
       " 'found box',\n",
       " 'OOPS ! adjustment',\n",
       " 'Found in w/hse',\n",
       " 'website fixed',\n",
       " 'Dagamed',\n",
       " 'historic computer difference?....se',\n",
       " 'Lighthouse Trading zero invc incorr',\n",
       " 'Incorrect stock entry.',\n",
       " 'incorrect stock entry.',\n",
       " 'michel oops',\n",
       " 'wrongly coded 20713',\n",
       " 'wrongly coded-23343',\n",
       " 'stock check',\n",
       " 'crushed boxes',\n",
       " \"can't find\",\n",
       " 'mouldy',\n",
       " 'Wet pallet-thrown away',\n",
       " 'Had been put aside.',\n",
       " 'Sale error',\n",
       " 'Amazon Adjustment',\n",
       " 'wrongly marked 23343',\n",
       " '20713 wrongly marked',\n",
       " 're-adjustment',\n",
       " 'Breakages',\n",
       " 'Marked as 23343',\n",
       " 'wrongly coded 23343',\n",
       " 'Found by jackie',\n",
       " 'Damages',\n",
       " 'Unsaleable, destroyed.',\n",
       " 'wrongly marked',\n",
       " 'dotcom sales',\n",
       " 'had been put aside',\n",
       " 'damages wax',\n",
       " 'water damaged',\n",
       " 'Wrongly mrked had 85123a in box',\n",
       " 'wrongly marked carton 22804',\n",
       " 'missing?',\n",
       " 'wet rusty',\n",
       " 'amazon adjust',\n",
       " '???lost',\n",
       " 'dotcomstock',\n",
       " 'John Lewis',\n",
       " 'sold with wrong barcode',\n",
       " 'dotcom adjust',\n",
       " 'rusty thrown away',\n",
       " 'rusty throw away',\n",
       " 'check?',\n",
       " '?? missing',\n",
       " 'wet pallet',\n",
       " '????missing',\n",
       " '???missing',\n",
       " 'lost in space',\n",
       " 'wet?',\n",
       " 'lost??',\n",
       " 'wet',\n",
       " 'wet boxes',\n",
       " '????damages????',\n",
       " 'mixed up',\n",
       " 'lost']"
      ]
     },
     "execution_count": 18,
     "metadata": {},
     "output_type": "execute_result"
    }
   ],
   "source": [
    "(missing_id[missing_id['Description'].str.contains(r'[a-z]')]['Description']).unique().tolist()"
   ]
  },
  {
   "cell_type": "code",
   "execution_count": 19,
   "id": "1b774c2a",
   "metadata": {
    "ExecuteTime": {
     "end_time": "2023-09-06T03:59:42.234882Z",
     "start_time": "2023-09-06T03:59:41.809515Z"
    }
   },
   "outputs": [
    {
     "data": {
      "text/plain": [
       "['BAG 125g SWIRLY MARBLES',\n",
       " 'BAG 250g SWIRLY MARBLES',\n",
       " \"Dr. Jam's Arouzer Stress Ball\",\n",
       " 'BAG 500g SWIRLY MARBLES',\n",
       " '3 TRADITIONAl BISCUIT CUTTERS  SET',\n",
       " \"Dad's Cab Electronic Meter\",\n",
       " 'ESSENTIAL BALM 3.5g TIN IN ENVELOPE',\n",
       " 'FRENCH BLUE METAL DOOR SIGN No',\n",
       " 'NUMBER TILE VINTAGE FONT No ',\n",
       " '*Boombox Ipod Classic',\n",
       " '*USB Office Mirror Ball',\n",
       " 'POLYESTER FILLER PAD 65CMx65CM',\n",
       " 'POLYESTER FILLER PAD 45x45cm',\n",
       " 'NUMBER TILE COTTAGE GARDEN No',\n",
       " 'POLYESTER FILLER PAD 40x40cm',\n",
       " 'POLYESTER FILLER PAD 45x30cm',\n",
       " 'returned',\n",
       " 'THE KING GIFT BAG 25x24x12cm',\n",
       " 'John Lewis']"
      ]
     },
     "execution_count": 19,
     "metadata": {},
     "output_type": "execute_result"
    }
   ],
   "source": [
    "removed_descr = ['Manual', 'amazon', 'check', 'damage', 'Bank Charges', 'faulty', 'Dotcom', 'mouldy', 'Found', 'thrown', \n",
    "                 'found', 'counted', 'Given', 'mix up', 'showroom', 'Adjustment', 'sold', 'broken', 'wrong', 'problem', \n",
    "                 'lost', 'dotcom', 'Amazon', 'cracked', 'mystery', 'credit', 'adjust', 'crush', 'sample', 'mailout', \n",
    "                 'delivery', 'Thrown', 'wet', 'cargo', 'smash', 'miss', 'stock', 'Samples', 'mould', 'came', 'section', \n",
    "                 'ebay', 'debt', 'display', 'Crush', 'test', 'online', 'Found', 'Dagamed', 'Damage', 'historic', 'incorr', \n",
    "                 'oops', 'find', 'Wet', 'error', 'aside', 'Breakages', 'Unsaleable','Display','Missing','fixed','Marked',\n",
    "                 'Wrongly','rusty','mixed','throw','DOT','AMAZON','POST','CARRIAGE','SAMPLES']\n",
    "missing_id = missing_id[~missing_id['Description'].str.contains('|'.join(removed_descr))]\n",
    "(missing_id[missing_id['Description'].str.contains(r'[a-z]')]['Description']).unique().tolist()"
   ]
  },
  {
   "cell_type": "code",
   "execution_count": 20,
   "id": "43d8a3f3",
   "metadata": {
    "ExecuteTime": {
     "end_time": "2023-09-06T03:59:47.880737Z",
     "start_time": "2023-09-06T03:59:47.792223Z"
    }
   },
   "outputs": [
    {
     "data": {
      "text/plain": [
       "['DECORATIVE ROSE BATHROOM BOTTLE',\n",
       " 'DECORATIVE CATS BATHROOM BOTTLE',\n",
       " 'RAIN PONCHO RETROSPOT',\n",
       " 'VINTAGE SNAP CARDS',\n",
       " 'VINTAGE HEADS AND TAILS CARD GAME ',\n",
       " 'CHRISTMAS TREE DECORATION WITH BELL',\n",
       " 'CHRISTMAS TREE HEART DECORATION',\n",
       " 'CHRISTMAS TREE STAR DECORATION',\n",
       " 'CHRISTMAS HANGING TREE WITH BELL',\n",
       " 'CHRISTMAS HANGING STAR WITH BELL',\n",
       " 'CHRISTMAS HANGING HEART WITH BELL',\n",
       " 'GLITTER STAR GARLAND WITH BELLS ',\n",
       " 'GLITTER CHRISTMAS TREE WITH BELLS',\n",
       " 'PAINTED METAL HEART WITH HOLLY BELL',\n",
       " 'RED RETROSPOT MUG',\n",
       " 'LILAC DIAMANTE PEN IN GIFT BOX',\n",
       " 'I CAN ONLY PLEASE ONE PERSON MUG',\n",
       " 'SAVE THE PLANET MUG',\n",
       " 'GIN AND TONIC MUG',\n",
       " 'HEARTS GIFT TAPE',\n",
       " 'CAKES AND BOWS GIFT  TAPE',\n",
       " 'BINGO SET',\n",
       " 'WOODEN BOX OF DOMINOES',\n",
       " 'TRADITIONAL WOODEN CATCH CUP GAME ',\n",
       " 'POTTING SHED SEED ENVELOPES',\n",
       " 'GARDEN METAL SIGN ',\n",
       " 'VINTAGE SNAKES & LADDERS',\n",
       " 'VINTAGE SEASIDE JIGSAW PUZZLES',\n",
       " 'BLUE HARMONICA IN BOX ',\n",
       " 'RED  HARMONICA IN BOX ',\n",
       " 'UNION STRIPE WITH FRINGE  HAMMOCK',\n",
       " 'JUMBO BAG SCANDINAVIAN PAISLEY',\n",
       " 'SUKI  SHOULDER BAG',\n",
       " 'SKULLS DESIGN FLANNEL',\n",
       " 'KITTENS DESIGN FLANNEL',\n",
       " 'SET OF 6 STRAWBERRY CHOPSTICKS',\n",
       " 'PACK OF 60 DINOSAUR CAKE CASES',\n",
       " 'PACK OF 60 PINK PAISLEY CAKE CASES',\n",
       " 'PACK OF 12 SUKI TISSUES ',\n",
       " 'MODERN FLORAL STATIONERY SET',\n",
       " 'BOHEMIAN COLLAGE STATIONERY SET',\n",
       " 'VINTAGE PAISLEY STATIONERY SET',\n",
       " 'FLORAL FOLK STATIONERY SET',\n",
       " 'ROBOT BIRTHDAY CARD',\n",
       " 'CHRISTMAS CARD SCREEN PRINT ',\n",
       " 'PINK DOUGHNUT TRINKET POT ',\n",
       " 'CHRISTMAS PUDDING TRINKET POT ',\n",
       " 'CHOC TRUFFLE GOLD TRINKET POT ',\n",
       " 'BLACK PIRATE TREASURE CHEST',\n",
       " 'BROWN  PIRATE TREASURE CHEST ',\n",
       " 'SMALL WHITE RETROSPOT MUG IN BOX ',\n",
       " '6 RIBBONS ELEGANT CHRISTMAS ',\n",
       " '6 RIBBONS EMPIRE  ',\n",
       " '6 RIBBONS RUSTIC CHARM',\n",
       " 'RIBBON REEL FLORA + FAUNA ',\n",
       " 'RIBBON REEL STRIPES DESIGN ',\n",
       " 'PAPER CHAIN KIT RETROSPOT',\n",
       " \"PAPER CHAIN KIT 50'S CHRISTMAS \",\n",
       " 'PAPER BUNTING WHITE LACE',\n",
       " 'PAPER BUNTING RETROSPOT',\n",
       " 'LADS ONLY TISSUE BOX',\n",
       " 'SKULLS SQUARE TISSUE BOX',\n",
       " 'PIZZA PLATE IN BOX',\n",
       " 'BIRD HOUSE HOT WATER BOTTLE',\n",
       " 'SCOTTIE DOG HOT WATER BOTTLE',\n",
       " 'CHOCOLATE HOT WATER BOTTLE',\n",
       " 'HOT WATER BOTTLE TEA AND SYMPATHY',\n",
       " 'METAL SIGN EMPIRE TEA',\n",
       " 'PARTY CONE CHRISTMAS DECORATION ',\n",
       " 'LADLE LOVE HEART RED ',\n",
       " 'LADLE LOVE HEART PINK',\n",
       " 'CHRISTMAS CRAFT TREE TOP ANGEL',\n",
       " 'CHRISTMAS CRAFT LITTLE FRIENDS',\n",
       " 'FELTCRAFT 6 FLOWER FRIENDS',\n",
       " 'ANGEL DECORATION STARS ON DRESS',\n",
       " 'ANGEL DECORATION 3 BUTTONS ',\n",
       " 'STAR DECORATION RUSTIC',\n",
       " 'HEART DECORATION WITH PEARLS ',\n",
       " 'HEART DECORATION RUSTIC HANGING ',\n",
       " 'HEART GARLAND RUSTIC PADDED',\n",
       " 'FAMILY ALBUM WHITE PICTURE FRAME',\n",
       " 'PHOTO CUBE',\n",
       " 'VICTORIAN GLASS HANGING T-LIGHT',\n",
       " 'CAKE STAND VICTORIAN FILIGREE SMALL',\n",
       " 'SLATE TILE NATURAL HANGING',\n",
       " 'CREAM HEART CARD HOLDER',\n",
       " 'LOCAL CAFE MUG',\n",
       " 'LARGE HEART MEASURING SPOONS',\n",
       " 'SMALL HEART MEASURING SPOONS',\n",
       " 'SMALL POPCORN HOLDER',\n",
       " 'LARGE POPCORN HOLDER ',\n",
       " 'MILK PAN RED RETROSPOT',\n",
       " 'FRYING PAN UNION FLAG',\n",
       " 'LOVEBIRD HANGING DECORATION WHITE ',\n",
       " 'WHITE LOVEBIRD LANTERN',\n",
       " 'EASTER DECORATION NATURAL CHICK',\n",
       " 'WASH BAG VINTAGE ROSE PAISLEY',\n",
       " 'HEART FILIGREE DOVE  SMALL',\n",
       " 'HEART IVORY TRELLIS LARGE',\n",
       " 'HEART IVORY TRELLIS SMALL',\n",
       " 'PIG KEYRING WITH LIGHT & SOUND ',\n",
       " 'COFFEE MUG DOG + BALL DESIGN',\n",
       " 'COFFEE MUG CAT + BIRD DESIGN',\n",
       " 'TEA COSY RED  STRIPE',\n",
       " 'IVORY KNITTED MUG COSY ',\n",
       " 'OFFICE MUG WARMER CHOC+BLUE',\n",
       " 'FIVE HEART HANGING DECORATION',\n",
       " 'HEART DECORATION PAINTED ZINC ',\n",
       " 'DOVE DECORATION PAINTED ZINC ',\n",
       " 'TEA BAG PLATE RED RETROSPOT',\n",
       " 'CHARLOTTE BAG SUKI DESIGN',\n",
       " 'KINGS CHOICE BISCUIT TIN',\n",
       " 'GLASS JAR KINGS CHOICE',\n",
       " 'GLASS JAR ENGLISH CONFECTIONERY',\n",
       " 'GLASS JAR DAISY FRESH COTTON WOOL',\n",
       " 'CHILDRENS APRON SPACEBOY DESIGN',\n",
       " 'AIRLINE BAG VINTAGE TOKYO 78',\n",
       " 'AIRLINE BAG VINTAGE JET SET BROWN',\n",
       " 'AIRLINE BAG VINTAGE JET SET WHITE',\n",
       " 'WALL TIDY RETROSPOT ',\n",
       " 'RECYCLING BAG RETROSPOT ',\n",
       " 'TOY TIDY SPACEBOY  ',\n",
       " 'LUNCH BAG SUKI  DESIGN ',\n",
       " 'PAPERWEIGHT KINGS CHOICE ',\n",
       " 'MAGNETS PACK OF 4 RETRO PHOTO',\n",
       " '10 COLOUR SPACEBOY PEN',\n",
       " 'LIPSTICK PEN RED',\n",
       " 'TOOTHPASTE TUBE PEN',\n",
       " 'REGENCY CAKESTAND 3 TIER',\n",
       " 'ENAMEL WATERING CAN CREAM',\n",
       " 'WATERING CAN PINK BUNNY',\n",
       " 'SET OF 9 BLACK SKULL BALLOONS',\n",
       " 'GROW YOUR OWN PLANT IN A CAN ',\n",
       " 'SILK PURSE BABUSHKA RED',\n",
       " 'NATURAL SLATE HEART CHALKBOARD ',\n",
       " 'HEART OF WICKER SMALL',\n",
       " 'HEART OF WICKER LARGE',\n",
       " 'TV DINNER TRAY AIR HOSTESS ',\n",
       " 'EMPIRE UNION JACK TV DINNER TRAY',\n",
       " 'WATERING CAN GARDEN MARKER',\n",
       " 'BIRDHOUSE GARDEN MARKER ',\n",
       " 'DAISY GARDEN MARKER',\n",
       " 'WHITE WOOD GARDEN PLANT LADDER',\n",
       " 'PACK OF 12 TRADITIONAL CRAYONS',\n",
       " 'EMERGENCY FIRST AID TIN ',\n",
       " 'SET OF 2 TINS VINTAGE BATHROOM ',\n",
       " 'CHILDS GARDEN SPADE PINK',\n",
       " 'CHILDS GARDEN RAKE PINK',\n",
       " 'CHILDS GARDEN BRUSH PINK',\n",
       " 'MAGIC DRAWING SLATE DOLLY GIRL ',\n",
       " 'MAGIC DRAWING SLATE CIRCUS PARADE  ',\n",
       " 'MINI JIGSAW DOLLY GIRL',\n",
       " 'MINI JIGSAW CIRCUS PARADE ',\n",
       " 'MINI JIGSAW BUNNIES',\n",
       " 'HEADS AND TAILS SPORTING FUN',\n",
       " 'PICTURE DOMINOES',\n",
       " 'HOLIDAY FUN LUDO',\n",
       " 'PLASTERS IN TIN SKULLS',\n",
       " 'PLASTERS IN TIN STRONGMAN',\n",
       " 'CLOTHES PEGS RETROSPOT PACK 24 ',\n",
       " 'TRADITIONAL MODELLING CLAY',\n",
       " 'FELTCRAFT CUSHION BUTTERFLY',\n",
       " 'ROCKING HORSE RED CHRISTMAS ',\n",
       " 'STAR WOODEN CHRISTMAS DECORATION',\n",
       " 'HEART WOODEN CHRISTMAS DECORATION',\n",
       " 'ADVENT CALENDAR GINGHAM SACK',\n",
       " 'PACK OF 6 SWEETIE GIFT BOXES',\n",
       " 'PACK OF 6 HANDBAG GIFT BOXES',\n",
       " 'CARD HOLDER GINGHAM HEART',\n",
       " 'CARDHOLDER GINGHAM STAR',\n",
       " 'CHRISTMAS GINGHAM HEART',\n",
       " 'CHRISTMAS RETROSPOT STAR WOOD',\n",
       " 'CHRISTMAS RETROSPOT ANGEL WOOD',\n",
       " 'CHRISTMAS RETROSPOT TREE WOOD',\n",
       " 'WOODEN CROQUET GARDEN SET',\n",
       " 'PACK OF 12 SPACEBOY TISSUES',\n",
       " 'PACK OF 12 LONDON TISSUES ',\n",
       " '4 TRADITIONAL SPINNING TOPS',\n",
       " 'RED KITCHEN SCALES',\n",
       " 'SPACEBOY LUNCH BOX ',\n",
       " 'HAND WARMER RED RETROSPOT',\n",
       " 'CHILDS BREAKFAST SET DOLLY GIRL ',\n",
       " 'SET OF 4 NAPKIN CHARMS HEARTS',\n",
       " 'CERAMIC CHERRY CAKE MONEY BANK',\n",
       " 'CERAMIC HEART FAIRY CAKE MONEY BANK',\n",
       " 'CERAMIC STRAWBERRY CAKE MONEY BANK',\n",
       " 'GENTLEMAN SHIRT REPAIR KIT ',\n",
       " 'DELUXE SEWING KIT ',\n",
       " 'LUNCH BAG DOLLY GIRL DESIGN',\n",
       " 'TOY TIDY DOLLY GIRL DESIGN',\n",
       " 'RECIPE BOX BLUE SKETCHBOOK DESIGN',\n",
       " 'RECIPE BOX PANTRY YELLOW DESIGN',\n",
       " 'RED BABY BUNTING ',\n",
       " 'FRENCH KITCHEN SIGN BLUE METAL',\n",
       " 'WICKER STAR ',\n",
       " 'WICKER WREATH SMALL',\n",
       " 'GREEN REGENCY TEACUP AND SAUCER',\n",
       " 'ROSES REGENCY TEACUP AND SAUCER ',\n",
       " 'GUMBALL MONOCHROME COAT RACK',\n",
       " 'ALARM CLOCK BAKELIKE RED ',\n",
       " 'ALARM CLOCK BAKELIKE PINK',\n",
       " 'ALARM CLOCK BAKELIKE ORANGE',\n",
       " 'ALARM CLOCK BAKELIKE IVORY',\n",
       " 'SET OF 6 RIBBONS VINTAGE CHRISTMAS',\n",
       " 'RIBBON REEL CHRISTMAS PRESENT ',\n",
       " 'RIBBON REEL SNOWY VILLAGE',\n",
       " 'RIBBON REEL CHRISTMAS SOCK BAUBLE',\n",
       " 'FUNKY DIVA PEN',\n",
       " 'MAKE YOUR OWN MONSOON CARD KIT',\n",
       " \"POPPY'S PLAYHOUSE BEDROOM \",\n",
       " \"POPPY'S PLAYHOUSE KITCHEN\",\n",
       " 'SMALL PURPLE BABUSHKA NOTEBOOK ',\n",
       " 'LARGE RED BABUSHKA NOTEBOOK ',\n",
       " 'LARGE PURPLE BABUSHKA NOTEBOOK  ',\n",
       " 'SET OF 3 NOTEBOOKS IN PARCEL',\n",
       " 'TRAY, BREAKFAST IN BED',\n",
       " 'CHALKBOARD KITCHEN ORGANISER',\n",
       " 'T-LIGHT GLASS FLUTED ANTIQUE',\n",
       " 'FLUTED ANTIQUE CANDLE HOLDER',\n",
       " 'ANTIQUE GLASS DRESSING TABLE POT',\n",
       " 'PACK 3 BOXES CHRISTMAS PANNETONE',\n",
       " 'PACK 3 BOXES BIRD PANNETONE ',\n",
       " 'CARD MOTORBIKE SANTA',\n",
       " 'CARD CHRISTMAS VILLAGE',\n",
       " 'CREAM WALL PLANTER HEART SHAPED',\n",
       " 'HOT WATER BOTTLE I AM SO POORLY',\n",
       " 'HOT WATER BOTTLE BABUSHKA ',\n",
       " 'VINTAGE CREAM DOG FOOD CONTAINER',\n",
       " 'BREAD BIN DINER STYLE IVORY',\n",
       " 'LOVE HEART NAPKIN BOX ',\n",
       " 'HAND WARMER OWL DESIGN',\n",
       " 'HAND WARMER SCOTTY DOG DESIGN',\n",
       " 'HAND WARMER BIRD DESIGN',\n",
       " 'NUMBER TILE COTTAGE GARDEN 8',\n",
       " \"CHILDREN'S APRON DOLLY GIRL \",\n",
       " ' SET 2 TEA TOWELS I LOVE LONDON ',\n",
       " '12 MESSAGE CARDS WITH ENVELOPES',\n",
       " 'SET OF 20 VINTAGE CHRISTMAS NAPKINS',\n",
       " 'PAPER CHAIN KIT VINTAGE CHRISTMAS',\n",
       " 'HERB MARKER THYME',\n",
       " 'HERB MARKER ROSEMARY',\n",
       " 'HERB MARKER PARSLEY',\n",
       " 'HERB MARKER MINT',\n",
       " 'HERB MARKER BASIL',\n",
       " 'HERB MARKER CHIVES ',\n",
       " 'YELLOW GIANT GARDEN THERMOMETER',\n",
       " 'FELTCRAFT CHRISTMAS FAIRY',\n",
       " 'CHRISTMAS METAL TAGS ASSORTED ',\n",
       " 'METAL DECORATION NAUGHTY CHILDREN ',\n",
       " '36 DOILIES DOLLY GIRL',\n",
       " '60 CAKE CASES DOLLY GIRL DESIGN',\n",
       " '60 CAKE CASES VINTAGE CHRISTMAS',\n",
       " '36 FOIL HEART CAKE CASES',\n",
       " 'JAM MAKING SET WITH JARS',\n",
       " 'JAM MAKING SET PRINTED',\n",
       " 'JAM JAR WITH PINK LID',\n",
       " 'JAM JAR WITH GREEN LID',\n",
       " 'GINGERBREAD MAN COOKIE CUTTER',\n",
       " 'HOMEMADE JAM SCENTED CANDLES',\n",
       " \"CHILDREN'S SPACEBOY MUG\",\n",
       " 'CHILDRENS DOLLY GIRL MUG',\n",
       " 'SPACEBOY CHILDRENS EGG CUP',\n",
       " 'CIRCUS PARADE CHILDRENS EGG CUP ',\n",
       " 'SOLDIERS EGG CUP ',\n",
       " 'BLUE VICTORIAN FABRIC OVAL BOX',\n",
       " 'RED VICTORIAN FABRIC OVAL BOX',\n",
       " 'SET OF 3 BIRD LIGHT PINK FEATHER ',\n",
       " 'PINK/WHITE CHRISTMAS TREE 60CM',\n",
       " 'PINK AND WHITE CHRISTMAS TREE 120CM',\n",
       " 'PINK CHRISTMAS FLOCK DROPLET ',\n",
       " 'ACRYLIC JEWEL ICICLE, PINK',\n",
       " 'SMALLFOLKART BAUBLE CHRISTMAS DEC',\n",
       " 'FOLKART ZINC HEART CHRISTMAS DEC',\n",
       " 'ROSE FOLKART HEART DECORATIONS',\n",
       " 'RETRO COFFEE MUGS ASSORTED',\n",
       " 'CERAMIC CAKE STAND + HANGING CAKES',\n",
       " 'CONDIMENT TRAY 4 BOWLS AND 4 SPOONS',\n",
       " 'TEA TIME OVEN GLOVE',\n",
       " 'TEA TIME DES TEA COSY',\n",
       " 'SCOTTIES CHILDRENS APRON',\n",
       " 'PINK FAIRY CAKE CHILDRENS APRON',\n",
       " 'SCOTTIE DOGS BABY BIB',\n",
       " 'DOORMAT WELCOME PUPPIES',\n",
       " 'HI TEC ALPINE HAND WARMER',\n",
       " 'WHITE METAL LANTERN',\n",
       " 'HANGING JAM JAR T-LIGHT HOLDER',\n",
       " 'SET OF 6 HALLOWEEN GHOST T-LIGHTS',\n",
       " 'IVORY PILLAR CANDLE SILVER FLOCK',\n",
       " 'IVORY PILLAR CANDLE GOLD FLOCK',\n",
       " 'SET/3 ROSE CANDLE IN JEWELLED BOX',\n",
       " 'SET/3 OCEAN SCENT CANDLE JEWEL BOX',\n",
       " 'SET/3 VANILLA SCENTED CANDLE IN BOX',\n",
       " 'SET/3 CHRISTMAS DECOUPAGE CANDLES',\n",
       " 'SET OF 2 CHRISTMAS DECOUPAGE CANDLE',\n",
       " 'TUMBLER, BAROQUE',\n",
       " 'TUMBLER, NEW ENGLAND',\n",
       " 'CHILLI LIGHTS',\n",
       " 'LAUNDRY 15C METAL SIGN',\n",
       " 'KITCHEN METAL SIGN',\n",
       " 'BATHROOM METAL SIGN',\n",
       " 'HOT BATHS METAL SIGN',\n",
       " 'METAL SIGN,CUPCAKE SINGLE HOOK',\n",
       " 'METAL SIGN CUPCAKE SINGLE HOOK',\n",
       " 'RED WOOLLY HOTTIE WHITE HEART.',\n",
       " 'KNITTED UNION FLAG HOT WATER BOTTLE',\n",
       " 'CHARLIE+LOLA RED HOT WATER BOTTLE ',\n",
       " 'CHARLIE LOLA BLUE HOT WATER BOTTLE ',\n",
       " 'CHARLIE+LOLA PINK HOT WATER BOTTLE',\n",
       " 'CHARLIE + LOLA RED HOT WATER BOTTLE',\n",
       " 'PINK HEART SHAPE EGG FRYING PAN',\n",
       " 'PINK/PURPLE RETRO RADIO',\n",
       " 'CHERRY BLOSSOM  DECORATIVE FLASK',\n",
       " 'ROTATING SILVER ANGELS T-LIGHT HLDR',\n",
       " '72 SWEETHEART FAIRY CAKE CASES',\n",
       " 'RED RETROSPOT UMBRELLA',\n",
       " 'SET OF 6 VINTAGE NOTELETS KIT',\n",
       " 'ENVELOPE 50 ROMANTIC IMAGES',\n",
       " 'ENVELOPE 50 BLOSSOM IMAGES',\n",
       " 'YULETIDE IMAGES GIFT WRAP SET',\n",
       " 'SET/4 RED MINI ROSE CANDLE IN BOWL',\n",
       " '15CM CHRISTMAS GLASS BALL 20 LIGHTS',\n",
       " 'SCANDINAVIAN REDS RIBBONS',\n",
       " 'CHOCOLATE BOX RIBBONS ',\n",
       " 'URBAN BLACK RIBBONS ',\n",
       " 'CREAM SWEETHEART LETTER RACK',\n",
       " 'JUMBO BAG RED RETROSPOT',\n",
       " 'IVORY ENCHANTED FOREST PLACEMAT',\n",
       " 'BLACK CANDELABRA T-LIGHT HOLDER',\n",
       " 'WHITE HANGING HEART T-LIGHT HOLDER',\n",
       " 'SMALL SQUARE CUT GLASS CANDLESTICK',\n",
       " 'BEADED CRYSTAL HEART PINK SMALL',\n",
       " 'BEADED CRYSTAL HEART GREEN ON STICK',\n",
       " 'CHARLIE + LOLA BISCUITS TINS',\n",
       " 'BLUE DRAGONFLY HELICOPTER',\n",
       " 'RED DRAGONFLY HELICOPTER',\n",
       " 'HAND OVER THE CHOCOLATE   SIGN ',\n",
       " 'SEWING SUSAN 21 NEEDLE SET',\n",
       " 'BASKET OF FLOWERS SEWING KIT',\n",
       " 'VICTORIAN SEWING KIT',\n",
       " 'EASTER BUNNY GARLAND OF FLOWERS',\n",
       " 'SMALL HANGING IVORY/RED WOOD BIRD',\n",
       " 'CINAMMON SET OF 9 T-LIGHTS',\n",
       " 'SET OF 3 BABUSHKA STACKING TINS',\n",
       " 'MIDNIGHT BLUE PAIR HEART HAIR SLIDE',\n",
       " 'SILVER M.O.P ORBIT DROP EARRINGS',\n",
       " 'EDWARDIAN DROP EARRINGS JET BLACK',\n",
       " 'RUBY GLASS CLUSTER EARRINGS',\n",
       " 'NECKLACE+BRACELET SET BLUE HIBISCUS',\n",
       " 'FRUIT SALAD BAG CHARM',\n",
       " 'GREEN MURANO TWIST BRACELET',\n",
       " 'PINK GLASS TASSLE BAG CHARM ',\n",
       " 'TURQUOISE GLASS TASSLE BAG CHARM ',\n",
       " 'ANT COPPER RED BOUDICCA BRACELET',\n",
       " 'SILVER/AMETHYST DROP EARRINGS LEAF',\n",
       " 'SILVER LARIAT BLACK STONE EARRINGS',\n",
       " 'PURPLE SWEETHEART BRACELET',\n",
       " 'BLUE SWEETHEART BRACELET',\n",
       " 'GREEN ENAMEL+GLASS HAIR COMB',\n",
       " 'LETTER \"D\" BLING KEY RING',\n",
       " 'LETTER \"G\" BLING KEY RING',\n",
       " 'LETTER \"H\" BLING KEY RING',\n",
       " 'LETTER \"J\" BLING KEY RING',\n",
       " 'LETTER \"R\" BLING KEY RING',\n",
       " 'SET OF 20 KIDS COOKIE CUTTERS',\n",
       " 'SET OF 3 HEART COOKIE CUTTERS',\n",
       " 'SET OF 3 BUTTERFLY COOKIE CUTTERS',\n",
       " 'FAIRY CAKE NOTEBOOK A5 SIZE',\n",
       " 'FAIRY CAKES NOTEBOOK A6 SIZE',\n",
       " 'ENGLISH ROSE NOTEBOOK A7 SIZE',\n",
       " 'FAIRY CAKES NOTEBOOK A7 SIZE',\n",
       " 'MOUSE TOY WITH PINK T-SHIRT',\n",
       " 'DOG TOY WITH PINK CROCHET SKIRT',\n",
       " 'BOYS ALPHABET IRON ON PATCHES',\n",
       " 'PINK NEW BAROQUECANDLESTICK CANDLE',\n",
       " 'BOX OF 24 COCKTAIL PARASOLS',\n",
       " 'ZINC WILLIE WINKIE  CANDLE STICK',\n",
       " 'GREEN ROSE WASHBAG',\n",
       " 'SOFT PINK ROSE TOWEL ',\n",
       " 'MINT GREEN ROSE TOWEL',\n",
       " 'PINK BUTTERFLY HANDBAG W BOBBLES',\n",
       " 'ANTIQUE SILVER TEA GLASS ETCHED',\n",
       " 'SILVER HANGING T-LIGHT HOLDER',\n",
       " 'SET OF 72 PINK HEART PAPER DOILIES',\n",
       " '60 TEATIME FAIRY CAKE CASES',\n",
       " 'DENIM PATCH PURSE PINK BUTTERFLY',\n",
       " 'BLUE PATCH PURSE PINK HEART',\n",
       " 'HAND WARMER UNION JACK',\n",
       " 'RED SPOTTY BISCUIT TIN',\n",
       " 'ROSE COTTAGE KEEPSAKE BOX ',\n",
       " 'VINTAGE CREAM CAT FOOD CONTAINER',\n",
       " 'ASSTD DESIGN RACING CAR PEN',\n",
       " 'KITTY PENCIL ERASERS',\n",
       " 'SLEEPING CAT ERASERS',\n",
       " 'PARTY TIME PENCIL ERASERS',\n",
       " 'BROCADE RING PURSE ',\n",
       " 'ORIGAMI SANDLEWOOD INCENSE+FLOWER',\n",
       " 'ORIGAMI VANILLA INCENSE/CANDLE SET ',\n",
       " 'ORIGAMI JASMINE INCENSE/CANDLE SET',\n",
       " 'ORIGAMI LAVENDER INCENSE/CANDL SET ',\n",
       " 'ORIGAMI ROSE INCENSE/CANDLE SET ',\n",
       " 'ORIGAMI OPIUM INCENSE/CANDLE SET ',\n",
       " 'ORIGAMI SANDLEWOOD INCENSE/CAND SET',\n",
       " 'BLUE GLASS GEMS IN BAG',\n",
       " 'PORCELAIN BUTTERFLY OIL BURNER',\n",
       " 'VIPPASSPORT COVER ',\n",
       " 'RED RETROSPOT LUGGAGE TAG',\n",
       " 'FIRST CLASS HOLIDAY PURSE ',\n",
       " 'DISCO BALL CHRISTMAS DECORATION',\n",
       " 'RED HEART LUGGAGE TAG',\n",
       " 'RED RETROSPOT BOWL',\n",
       " 'STRAWBERRY DREAM CHILDS UMBRELLA',\n",
       " 'DOORMAT RED RETROSPOT',\n",
       " 'WOODLAND CHARLOTTE BAG',\n",
       " 'RED RETROSPOT CHARLOTTE BAG',\n",
       " 'LUNCH BAG RED RETROSPOT',\n",
       " 'GOLD MINI TAPE MEASURE ',\n",
       " 'BLACK MINI TAPE MEASURE ',\n",
       " 'ABSTRACT CIRCLE JOURNAL ',\n",
       " 'GARDEN PATH JOURNAL',\n",
       " 'FRENCH LATTICE CUSHION COVER ',\n",
       " 'FRENCH PAISLEY CUSHION COVER ',\n",
       " 'FRENCH FLORAL CUSHION COVER ',\n",
       " 'PINK ROSE FABRIC MIRROR',\n",
       " 'VINTAGE KEEPSAKE BOX PARIS DAYS',\n",
       " 'SET/5 RED RETROSPOT LID GLASS BOWLS',\n",
       " 'PORCELAIN T-LIGHT HOLDERS ASSORTED',\n",
       " 'STRAWBERRY BATH SPONGE ',\n",
       " 'APPLE BATH SPONGE',\n",
       " 'SANDWICH BATH SPONGE',\n",
       " 'RED FLORAL FELTCRAFT SHOULDER BAG',\n",
       " 'PINK BLUE FELT CRAFT TRINKET BOX',\n",
       " 'PINK CREAM FELT CRAFT TRINKET BOX ',\n",
       " '12 PENCIL SMALL TUBE WOODLAND',\n",
       " '12 PENCILS SMALL TUBE RED RETROSPOT',\n",
       " '12 PENCILS TALL TUBE WOODLAND',\n",
       " 'JAZZ HEARTS PURSE NOTEBOOK',\n",
       " 'JAZZ HEARTS ADDRESS BOOK',\n",
       " 'ROSE DU SUD COSMETICS BAG',\n",
       " 'ANTIQUE ALL GLASS CANDLESTICK',\n",
       " 'SET/2 RED RETROSPOT TEA TOWELS ',\n",
       " 'RED RETROSPOT OVEN GLOVE DOUBLE',\n",
       " 'VINTAGE BILLBOARD LOVE/HATE MUG',\n",
       " 'VINTAGE BILLBOARD TEA MUG',\n",
       " 'VINTAGE BILLBOARD MUG ',\n",
       " 'VINTAGE BILLBOARD DRINK ME MUG',\n",
       " 'SET/20 RED RETROSPOT PAPER NAPKINS ',\n",
       " 'CHRISTMAS TOILET ROLL',\n",
       " 'CREAM SLICE FLANNEL PINK SPOT ',\n",
       " 'FAIRY CAKE FLANNEL ASSORTED COLOUR',\n",
       " 'ROSE CARAVAN DOORSTOP',\n",
       " 'OWL DOORSTOP',\n",
       " 'JINGLE BELLS TREE DECORATION',\n",
       " 'RED RETROSPOT OVEN GLOVE ',\n",
       " 'MOODY GIRL DOOR HANGER ',\n",
       " 'BEWARE OF THE CAT METAL SIGN ',\n",
       " 'COOK WITH WINE METAL SIGN ',\n",
       " \"YOU'RE CONFUSING ME METAL SIGN \",\n",
       " 'POTTERING IN THE SHED METAL SIGN',\n",
       " 'GIN + TONIC DIET METAL SIGN',\n",
       " 'WHITE HONEYCOMB PAPER GARLAND ',\n",
       " 'LARGE WHITE HONEYCOMB PAPER BELL  ',\n",
       " 'PINK  HONEYCOMB PAPER BALL ',\n",
       " 'SKULL AND CROSSBONES  GARLAND ',\n",
       " 'SET OF 72 RETROSPOT PAPER  DOILIES',\n",
       " 'PACK OF 72 RETROSPOT CAKE CASES',\n",
       " 'PACK OF 72 SKULL CAKE CASES',\n",
       " 'SET 3 RETROSPOT TEA,COFFEE,SUGAR',\n",
       " 'RED RETROSPOT ROUND CAKE TINS',\n",
       " 'SWEETHEART CERAMIC TRINKET BOX',\n",
       " 'STRAWBERRY CERAMIC TRINKET BOX',\n",
       " 'RED RETROSPOT CUP',\n",
       " 'WOODLAND  HEIGHT CHART STICKERS ',\n",
       " 'VICTORIAN SEWING BOX LARGE',\n",
       " 'WHITE GOOSE FEATHER CHRISTMAS TREE ',\n",
       " 'GLASS HEART T-LIGHT HOLDER ',\n",
       " 'SMALL GLASS HEART TRINKET POT',\n",
       " 'SKULLS WRITING SET ',\n",
       " 'BALLOONS  WRITING SET ',\n",
       " 'IVY HEART WREATH',\n",
       " 'EUCALYPTUS & PINECONE  WREATH',\n",
       " 'TOAST ITS - BEST MUM',\n",
       " 'MIRRORED WALL ART STARS',\n",
       " 'MIRRORED WALL ART PHOTO FRAMES',\n",
       " 'MIRRORED WALL ART SPLODGES',\n",
       " 'MIRRORED WALL ART TABLE LAMP',\n",
       " 'IVORY HANGING DECORATION  HEART',\n",
       " 'BROWN CHECK CAT DOORSTOP ',\n",
       " 'SPOTTY PINK DUCK DOORSTOP',\n",
       " 'RED GINGHAM ROSE JEWELLERY BOX',\n",
       " 'WHITE SKULL HOT WATER BOTTLE ',\n",
       " 'CHICK GREY HOT WATER BOTTLE',\n",
       " 'RED WHITE SCARF  HOT WATER BOTTLE',\n",
       " 'ELEPHANT, BIRTHDAY CARD, ',\n",
       " 'DOORMAT FANCY FONT HOME SWEET HOME',\n",
       " 'STRAWBERRY LUNCH BOX WITH CUTLERY',\n",
       " 'RED HEART SHAPE LOVE BUCKET ',\n",
       " 'PINK  HEART SHAPE LOVE BUCKET ',\n",
       " 'SAVE THE PLANET COTTON TOTE BAG',\n",
       " 'ASSORTED MINI MADRAS NOTEBOOK',\n",
       " 'ASSORTED TUTTI FRUTTI KEYRING BALL',\n",
       " 'GLASS  BEURRE DISH',\n",
       " 'VINTAGE GLASS COFFEE CADDY',\n",
       " 'SKULLS  STICKERS',\n",
       " 'BAG 125g SWIRLY MARBLES',\n",
       " 'BAG 250g SWIRLY MARBLES',\n",
       " 'BOYS VINTAGE TIN SEASIDE BUCKET',\n",
       " 'CANDY SHOP  STICKER SHEET',\n",
       " 'SWEET PUDDING STICKER SHEET',\n",
       " 'RED TOADSTOOL LED NIGHT LIGHT',\n",
       " 'LARGE ROUND WICKER PLATTER ',\n",
       " 'VINTAGE SHELLS PRINT',\n",
       " 'LITTLE GREEN MONSTER SOFT TOY',\n",
       " 'CARD CIRCUS PARADE',\n",
       " 'FAUX FUR CHOCOLATE THROW',\n",
       " 'COLOURING PENCILS BROWN TUBE',\n",
       " 'FUNKY MONKEY GIFT BAG MEDIUM',\n",
       " 'ORIGAMI VANILLA INCENSE CONES',\n",
       " 'FAIRY DREAMS INCENSE ',\n",
       " 'DRAGONS BLOOD INCENSE',\n",
       " 'CHERRY BLOSSOM PASSPORT COVER',\n",
       " 'FIRST CLASS PASSPORT COVER ',\n",
       " 'TROPICAL PASSPORT COVER ',\n",
       " 'CHERRY BLOSSOM LUGGAGE TAG',\n",
       " 'RED RETROSPOT CHILDRENS UMBRELLA',\n",
       " 'FLORAL SOFT CAR TOY',\n",
       " 'MOUSEY LONG LEGS SOFT TOY',\n",
       " 'GREEN CAT FLORAL CUSHION COVER ',\n",
       " 'STRAWBERRY SHOPPER BAG',\n",
       " 'RED RETROSPOT SHOPPER BAG',\n",
       " 'STRAWBERRY CHARLOTTE BAG',\n",
       " 'LUNCH BAG  BLACK SKULL.',\n",
       " 'RETROSPOT RED WASHING UP GLOVES',\n",
       " 'BLUE PAISLEY SKETCHBOOK',\n",
       " 'BLACK EAR MUFF HEADPHONES',\n",
       " 'ZINC HEART LATTICE T-LIGHT HOLDER',\n",
       " 'BLUE POT PLANT CANDLE ',\n",
       " '12 PENCILS SMALL TUBE SKULL',\n",
       " 'ROSE DU SUD DRAWSTRING BAG',\n",
       " 'DARK BIRD HOUSE TREE DECORATION',\n",
       " 'TOOL BOX SOFT TOY ',\n",
       " 'VINTAGE RED TEATIME MUG',\n",
       " 'LARGE CAKE TOWEL, CHOCOLATE SPOTS',\n",
       " 'LARGE CAKE TOWEL PINK SPOTS',\n",
       " 'SWISS ROLL TOWEL, CHOCOLATE  SPOTS',\n",
       " 'GOLD FISHING GNOME',\n",
       " 'HOME SWEET HOME METAL SIGN ',\n",
       " 'PLEASE ONE PERSON METAL SIGN',\n",
       " '3D HEARTS  HONEYCOMB PAPER GARLAND',\n",
       " 'WHITE BELL HONEYCOMB PAPER ',\n",
       " 'PASTEL COLOUR HONEYCOMB FAN',\n",
       " 'SET/4 BADGES DOGS',\n",
       " 'VICTORIAN SEWING BOX MEDIUM',\n",
       " 'SALLE DE BAIN HOOK',\n",
       " 'VINTAGE KITCHEN PRINT FRUITS',\n",
       " 'VINTAGE KITCHEN PRINT SEAFOOD',\n",
       " 'STRIPEY CHOCOLATE NESTING BOXES',\n",
       " 'CLASSIC METAL BIRDCAGE PLANT HOLDER',\n",
       " 'TOAST ITS - FAIRY FLOWER',\n",
       " 'BASKET OF TOADSTOOLS',\n",
       " '12 IVORY ROSE PEG PLACE SETTINGS',\n",
       " 'FAWN BLUE HOT WATER BOTTLE',\n",
       " 'ROTATING LEAVES T-LIGHT HOLDER',\n",
       " 'GIN & TONIC DIET GREETING CARD ',\n",
       " 'BOOZE & WOMEN GREETING CARD ',\n",
       " 'DOORMAT SPOTTY HOME SWEET HOME',\n",
       " 'RED RETROSPOT PUDDING BOWL',\n",
       " 'SKULLS  WATER TRANSFER TATTOOS ',\n",
       " 'CERAMIC BIRDHOUSE CRESTED TIT SMALL',\n",
       " 'SET OF 6 FUNKY BEAKERS',\n",
       " 'LETS GO SHOPPING COTTON TOTE BAG',\n",
       " \"Dr. Jam's Arouzer Stress Ball\",\n",
       " 'ASSORTED TUTTI FRUTTI NOTEBOOK',\n",
       " 'ASSORTED TUTTI FRUTTI SMALL PURSE',\n",
       " 'RIDGED GLASS POSY VASE ',\n",
       " 'RED SPOT CERAMIC DRAWER KNOB',\n",
       " 'SMALL MEDINA STAMPED METAL BOWL ',\n",
       " 'MOCK LOBSTER FRIDGE MAGNET',\n",
       " 'BIG DOUGHNUT FRIDGE MAGNETS',\n",
       " 'BAG 500g SWIRLY MARBLES',\n",
       " 'RED METAL BEACH SPADE ',\n",
       " 'STAR PORTABLE TABLE LIGHT ',\n",
       " 'GAOLERS KEYS DECORATIVE GARDEN ',\n",
       " 'HOME BUILDING BLOCK WORD',\n",
       " 'LOVE BUILDING BLOCK WORD',\n",
       " 'BATH BUILDING BLOCK WORD',\n",
       " 'DECORATIVE FLORE BATHROOM BOTTLE',\n",
       " 'RECIPE BOX WITH METAL HEART',\n",
       " 'KIDS RAIN MAC PINK',\n",
       " 'GARLAND WITH STARS AND BELLS',\n",
       " 'GLITTER HEART GARLAND WITH BELLS ',\n",
       " 'ASSORTED CREEPY CRAWLIES',\n",
       " 'CHOCOLATE CALCULATOR',\n",
       " 'CAMOUFLAGE LED TORCH',\n",
       " 'PINK DIAMANTE PEN IN GIFT BOX',\n",
       " 'POTTING SHED TEA MUG',\n",
       " 'KINGS CHOICE MUG',\n",
       " 'TRADITIONAL WOODEN SKIPPING ROPE',\n",
       " 'POTTING SHED TWINE',\n",
       " 'KEY FOB , GARAGE DESIGN',\n",
       " 'PHARMACIE FIRST AID TIN',\n",
       " 'CHOCOLATE THIS WAY METAL SIGN',\n",
       " 'JUMBO BAG PINK VINTAGE PAISLEY',\n",
       " 'JUMBO STORAGE BAG SUKI',\n",
       " 'SKULL SHOULDER BAG',\n",
       " 'SET OF 36 PAISLEY FLOWER DOILIES',\n",
       " 'PACK OF 60 MUSHROOM CAKE CASES',\n",
       " 'PACK OF 12 WOODLAND TISSUES ',\n",
       " 'PACK OF 12 PINK PAISLEY TISSUES ',\n",
       " 'PACK OF 12 HEARTS DESIGN TISSUES ',\n",
       " 'RIBBON REEL LACE DESIGN ',\n",
       " 'PAPER CHAIN KIT EMPIRE',\n",
       " 'EMPIRE TISSUE BOX',\n",
       " 'FULL ENGLISH BREAKFAST PLATE',\n",
       " 'METAL SIGN HER DINNER IS SERVED ',\n",
       " 'NOEL WOODEN BLOCK LETTERS ',\n",
       " 'SET OF 2 TEA TOWELS PING MICROWAVE',\n",
       " 'CHRISTMAS CRAFT WHITE FAIRY ',\n",
       " 'FELTCRAFT BUTTERFLY HEARTS',\n",
       " 'DIAMANTE HEART SHAPED WALL MIRROR, ',\n",
       " 'CAKE STAND VICTORIAN FILIGREE MED',\n",
       " 'CAKE STAND VICTORIAN FILIGREE LARGE',\n",
       " 'BLACK HEART CARD HOLDER',\n",
       " 'WOOD STAMP SET THANK YOU',\n",
       " 'HOOK, 1 HANGER ,MAGIC GARDEN',\n",
       " 'MAGIC GARDEN FELT GARLAND ',\n",
       " 'FELT EGG COSY BLUE RABBIT ',\n",
       " 'FELT EGG COSY WHITE RABBIT ',\n",
       " 'FELT EGG COSY CHICKEN',\n",
       " 'COSMETIC BAG VINTAGE ROSE PAISLEY',\n",
       " 'OVERNIGHT BAG VINTAGE ROSE PAISLEY',\n",
       " '6 EGG HOUSE PAINTED WOOD',\n",
       " 'COFFEE MUG BLUE PAISLEY DESIGN',\n",
       " 'TEA COSY BLUE STRIPE',\n",
       " 'OFFICE MUG WARMER BLACK+SILVER ',\n",
       " 'FIVE CATS HANGING DECORATION',\n",
       " 'MOBILE VINTAGE HEARTS ',\n",
       " 'WOODLAND PARTY BAG + STICKER SET',\n",
       " 'HOME GARLAND PAINTED ZINC ',\n",
       " 'ILLUSTRATED CAT BOWL ',\n",
       " 'LUNCH BOX WITH CUTLERY RETROSPOT ',\n",
       " 'GLASS JAR DIGESTIVE BISCUITS',\n",
       " 'PAPERWEIGHT VINTAGE COLLAGE',\n",
       " 'MONEY BOX POCKET MONEY DESIGN',\n",
       " 'MONEY BOX BISCUITS DESIGN',\n",
       " 'JUMBO SHOPPER VINTAGE RED PAISLEY',\n",
       " 'METAL SIGN TAKE IT OR LEAVE IT ',\n",
       " 'LIPSTICK PEN BABY PINK',\n",
       " 'LIPSTICK PEN FUSCHIA',\n",
       " 'ENAMEL COLANDER CREAM',\n",
       " 'ENAMEL FLOWER JUG CREAM',\n",
       " 'ENAMEL FIRE BUCKET CREAM',\n",
       " 'SILK PURSE BABUSHKA PINK',\n",
       " 'CAST IRON HOOK GARDEN FORK',\n",
       " 'CAST IRON HOOK GARDEN TROWEL',\n",
       " 'GUMBALL COAT RACK',\n",
       " 'TV DINNER TRAY DOLLY GIRL',\n",
       " 'WOODEN UNION JACK BUNTING',\n",
       " 'PICNIC BASKET WICKER LARGE',\n",
       " 'CABIN BAG VINTAGE PAISLEY',\n",
       " 'DOORSTOP RETROSPOT HEART',\n",
       " 'MAGIC DRAWING SLATE SPACEBOY ',\n",
       " 'MAGIC DRAWING SLATE PURDEY',\n",
       " 'MAGIC DRAWING SLATE DINOSAUR',\n",
       " 'MINI JIGSAW SPACEBOY',\n",
       " 'MINI JIGSAW DINOSAUR ',\n",
       " 'PLASTERS IN TIN VINTAGE PAISLEY ',\n",
       " 'WOODEN SCHOOL COLOURING SET',\n",
       " 'FELTCRAFT HAIRBANDS PINK AND WHITE ',\n",
       " 'FELTCRAFT HAIRBAND PINK AND PURPLE',\n",
       " 'FELTCRAFT CUSHION RABBIT',\n",
       " 'WOOD STOCKING CHRISTMAS SCANDISPOT',\n",
       " 'PACK OF 6 PANNETONE GIFT BOXES',\n",
       " 'FELTCRAFT HAIRBAND PINK AND BLUE',\n",
       " 'FELTCRAFT HAIRBAND RED AND BLUE',\n",
       " 'CHRISTMAS RETROSPOT HEART WOOD',\n",
       " 'SET OF 6 SOLDIER SKITTLES',\n",
       " 'BOX OF VINTAGE ALPHABET BLOCKS',\n",
       " 'IVORY KITCHEN SCALES',\n",
       " 'CIRCUS PARADE LUNCH BOX ',\n",
       " 'PIGGY BANK RETROSPOT ',\n",
       " 'STRAWBERRY FAIRY CAKE TEAPOT',\n",
       " 'LUNCH BOX I LOVE LONDON',\n",
       " 'JUMBO BAG DOLLY GIRL DESIGN',\n",
       " 'PINK BABY BUNTING',\n",
       " 'FRENCH GARDEN SIGN BLUE METAL',\n",
       " 'FRENCH BLUE METAL DOOR SIGN 3',\n",
       " 'DOORMAT WELCOME TO OUR HOME',\n",
       " 'WICKER WREATH LARGE',\n",
       " 'CARD DOLLY GIRL ',\n",
       " 'CARD I LOVE LONDON ',\n",
       " 'ALARM CLOCK BAKELIKE GREEN',\n",
       " 'RIBBON REEL SOCKS AND MITTENS',\n",
       " 'MAKE YOUR OWN PLAYTIME CARD KIT',\n",
       " \"POPPY'S PLAYHOUSE LIVINGROOM \",\n",
       " \"POPPY'S PLAYHOUSE BATHROOM\",\n",
       " 'FELTCRAFT PRINCESS CHARLOTTE DOLL',\n",
       " 'FELTCRAFT PRINCESS OLIVIA DOLL',\n",
       " 'SMALL RED BABUSHKA NOTEBOOK ',\n",
       " 'LARGE YELLOW BABUSHKA NOTEBOOK ',\n",
       " 'PURPLE DRAWERKNOB ACRYLIC EDWARDIAN',\n",
       " 'GUMBALL MAGAZINE RACK',\n",
       " 'BROCANTE COAT RACK',\n",
       " 'SWEETHEART WIRE MAGAZINE RACK',\n",
       " 'SWEETHEART RECIPE BOOK STAND',\n",
       " 'ANTIQUE TALL SWIRLGLASS TRINKET POT',\n",
       " 'ANTIQUE GLASS PEDESTAL BOWL',\n",
       " 'BLUE DRAWER KNOB ACRYLIC EDWARDIAN',\n",
       " 'SET OF 6 T-LIGHTS SNOWMEN',\n",
       " 'CARD PARTY GAMES ',\n",
       " 'WHITE BROCANTE SOAP DISH',\n",
       " 'HAND WARMER BABUSHKA DESIGN',\n",
       " 'ROUND CAKE TIN VINTAGE GREEN',\n",
       " 'CREAM SWEETHEART EGG HOLDER',\n",
       " 'FINE WICKER HEART ',\n",
       " 'SOAP DISH BROCANTE',\n",
       " 'NUMBER TILE COTTAGE GARDEN 2',\n",
       " 'NOVELTY BISCUITS CAKE STAND 3 TIER',\n",
       " 'SET OF 2 TEA TOWELS APPLE AND PEARS',\n",
       " 'OVEN MITT APPLES DESIGN',\n",
       " 'CHILDRENS APRON APPLES DESIGN',\n",
       " 'CALENDAR PAPER CUT DESIGN',\n",
       " 'ASSORTED BOTTLE TOP  MAGNETS ',\n",
       " 'CHRISTMAS LIGHTS 10 REINDEER',\n",
       " 'WOODEN ADVENT CALENDAR CREAM',\n",
       " 'WOODEN ADVENT CALENDAR RED',\n",
       " \"CHILDREN'S CIRCUS PARADE MUG\",\n",
       " 'DOLLY GIRL CHILDRENS EGG CUP',\n",
       " 'BLACK CHRISTMAS TREE 60CM',\n",
       " 'IVORY STRING CURTAIN WITH POLE ',\n",
       " 'BLUE FELT HANGING HEART W FLOWER',\n",
       " 'PINK FELT HANGING HEART W FLOWER',\n",
       " 'FOLKART CLIP ON STARS',\n",
       " 'FOLKART HEART NAPKIN RINGS',\n",
       " 'FOLK ART METAL STAR T-LIGHT HOLDER',\n",
       " 'PINK BREAKFAST CUP AND SAUCER ',\n",
       " 'MINI CAKE STAND WITH HANGING CAKES',\n",
       " 'CERAMIC CAKE BOWL + HANGING CAKES',\n",
       " 'YELLOW/PINK CERAMIC CANDLE HOLDER',\n",
       " 'SUNSET COLOUR CHUNKY KNITTED THROW',\n",
       " 'WOVEN BERRIES CUSHION COVER ',\n",
       " 'RETRO LONGBOARD IRONING BOARD COVER',\n",
       " 'TEA TIME PARTY BUNTING',\n",
       " 'TEA TIME KITCHEN APRON',\n",
       " 'BLUE HAPPY BIRTHDAY BUNTING',\n",
       " 'PINK HAPPY BIRTHDAY BUNTING',\n",
       " 'CAROUSEL DESIGN WASHBAG',\n",
       " 'PINK PARTY BAGS',\n",
       " 'DOORMAT 3 SMILEY CATS',\n",
       " 'DOORMAT UNION FLAG',\n",
       " 'DOORMAT NEW ENGLAND',\n",
       " 'DOORMAT HEARTS',\n",
       " 'FEATHER PEN,HOT PINK',\n",
       " 'FEATHER PEN,COAL BLACK',\n",
       " 'LOVE HEART POCKET WARMER',\n",
       " 'COLOUR GLASS. STAR T-LIGHT HOLDER',\n",
       " 'A4 WALL TIDY BLUE OFFICE',\n",
       " 'COLUMBIAN  CUBE CANDLE ',\n",
       " 'GRAND CHOCOLATECANDLE',\n",
       " 'CORONA MEXICAN TRAY',\n",
       " 'ART LIGHTS,FUNK MONKEY',\n",
       " 'WASHROOM METAL SIGN',\n",
       " 'AREA PATROLLED METAL SIGN',\n",
       " \"FANNY'S REST STOPMETAL SIGN\",\n",
       " 'MIDNIGHT GLAMOUR SCARF KNITTING KIT',\n",
       " 'YELLOW METAL CHICKEN HEART ',\n",
       " 'SET OF 4 ENGLISH ROSE PLACEMATS',\n",
       " 'SET OF 4 ENGLISH ROSE COASTERS',\n",
       " 'PACK 20 ENGLISH ROSE PAPER NAPKINS',\n",
       " '3D SHEET OF DOG STICKERS',\n",
       " '3D SHEET OF CAT STICKERS',\n",
       " 'MIXED NUTS LIGHT GREEN BOWL',\n",
       " 'TALL ROCOCO CANDLE HOLDER',\n",
       " 'WHITE TRAVEL ALARM CLOCK',\n",
       " 'GRASS HOPPER WOODEN WALL CLOCK ',\n",
       " 'S/15 SILVER GLASS BAUBLES IN BAG',\n",
       " 'COLOUR GLASS T-LIGHT HOLDER HANGING',\n",
       " 'JUNGLE POPSICLES ICE LOLLY HOLDERS',\n",
       " 'LARGE TAHITI BEACH BAG',\n",
       " 'ASSORTED COLOUR BIRD ORNAMENT',\n",
       " 'HAND TOWEL PINK FLOWER AND DAISY',\n",
       " 'ASSORTED COLOUR T-LIGHT HOLDER',\n",
       " 'BOX OF 6 ASSORTED COLOUR TEASPOONS',\n",
       " 'SINGLE HEART ZINC T-LIGHT HOLDER',\n",
       " 'HANGING HEART ZINC T-LIGHT HOLDER',\n",
       " 'SMALL HEART FLOWERS HOOK ',\n",
       " 'RECTANGULAR SHAPED MIRROR',\n",
       " 'SET OF 3 CONEY ISLAND OVAL BOXES',\n",
       " 'SET/4 BLUE FLOWER CANDLES IN BOWL',\n",
       " 'TRADITIONAL CHRISTMAS RIBBONS',\n",
       " 'FRENCH ENAMEL CANDLEHOLDER',\n",
       " 'JUMBO BAG STRAWBERRY',\n",
       " 'BLACK ENCHANTED FOREST PLACEMAT',\n",
       " 'RED ENCHANTED FOREST PLACEMAT',\n",
       " 'BEADED CRYSTAL HEART PINK ON STICK',\n",
       " 'YELLOW SHARK HELICOPTER',\n",
       " 'RED SHARK HELICOPTER',\n",
       " 'LADIES & GENTLEMEN METAL SIGN',\n",
       " 'SET/6 PINK BIRD T-LIGHT CANDLES',\n",
       " 'LARGE HANGING IVORY & RED WOOD BIRD',\n",
       " 'MINI PAINTED GARDEN DECORATION ',\n",
       " 'SET OF 6 3D KIT CARDS FOR KIDS',\n",
       " 'SET/3 DECOUPAGE STACKING TINS',\n",
       " 'BLACK VINTAGE EARRINGS',\n",
       " 'GOLD M.O.P ORBIT DROP EARRINGS',\n",
       " 'GOLD M.O.P ORBIT BRACELET',\n",
       " \"NEW BAROQUE B'FLY NECKLACE GREEN\",\n",
       " 'FLOWER GLASS GARLD NECKL36\"TURQUOIS',\n",
       " 'MURANO STYLE GLASS BRACELET BLACK',\n",
       " 'CRACKED GLAZE NECKLACE RED',\n",
       " 'CRACKED GLAZE EARRINGS RED',\n",
       " 'BLACK DIAMOND CLUSTER EARRINGS',\n",
       " 'BLUE MURANO TWIST NECKLACE',\n",
       " 'OLD ROSE COMBO BEAD NECKLACE',\n",
       " 'WHITE/PINK MINI CRYSTALS NECKLACE',\n",
       " 'ANT COPPER TURQ BOUDICCA BRACELET',\n",
       " 'PINK & WHITE ROSEBUD RING',\n",
       " 'PAIR BUTTERFLY HAIR CLIPS',\n",
       " 'DROP DIAMANTE EARRINGS CRYSTAL',\n",
       " 'DROP DIAMANTE EARRINGS GREEN',\n",
       " 'AMETHYST GLASS/SHELL/PEARL NECKLACE',\n",
       " 'JADE DROP EARRINGS W FILIGREE',\n",
       " 'CRYSTAL DIAMANTE STAR BROOCH',\n",
       " 'PINK ENAMEL+GLASS HAIR COMB',\n",
       " 'DIAMOND LAS VEGAS NECKLACE 45CM',\n",
       " 'LETTER \"A\" BLING KEY RING',\n",
       " 'LETTER \"E\" BLING KEY RING',\n",
       " 'LETTER \"S\" BLING KEY RING',\n",
       " 'PINK FLORAL FELTCRAFT SHOULDER BAG',\n",
       " 'SQUARECUSHION COVER PINK UNION FLAG',\n",
       " 'WHITE STITCHED CUSHION COVER',\n",
       " 'LUNCH BAG CARS BLUE',\n",
       " 'WOODEN FRAME ANTIQUE WHITE ',\n",
       " 'PIN CUSHION BABUSHKA RED',\n",
       " 'PIN CUSHION BABUSHKA BLUE',\n",
       " 'PIN CUSHION BABUSHKA PINK',\n",
       " 'RED RETROSPOT PURSE ',\n",
       " 'VINTAGE UNION JACK DOORSTOP',\n",
       " 'PACK OF 12 SKULL TISSUES',\n",
       " 'WAKE UP COCKEREL TILE COASTER',\n",
       " 'CHARLOTTE BAG DOLLY GIRL DESIGN',\n",
       " 'GARDENIA 3 WICK MORRIS BOXED CANDLE',\n",
       " 'RECIPE BOX RETROSPOT ',\n",
       " 'CHEST 7 DRAWER MA CAMPAGNE',\n",
       " 'BLUE GEISHA GIRL ',\n",
       " 'GREEN GEISHA GIRL ',\n",
       " 'PINK SWEETHEART BRACELET',\n",
       " 'PLASTERS IN TIN SPACEBOY',\n",
       " '3 TIER CAKE TIN RED AND CREAM',\n",
       " 'KEY FOB , FRONT  DOOR ',\n",
       " 'INFLATABLE POLITICAL GLOBE ',\n",
       " 'CHRISTMAS LIGHTS 10 VINTAGE BAUBLES',\n",
       " 'DOORMAT BLACK FLOCK ',\n",
       " '6 ROCKET BALLOONS ',\n",
       " 'GREY HEART HOT WATER BOTTLE',\n",
       " 'FELTCRAFT PRINCESS LOLA DOLL',\n",
       " 'FELTCRAFT CUSHION OWL',\n",
       " 'EDWARDIAN PARASOL BLACK',\n",
       " 'EDWARDIAN PARASOL PINK',\n",
       " 'FROG CANDLE',\n",
       " 'VINTAGE RED MUG',\n",
       " 'SET/6 RED SPOTTY PAPER CUPS',\n",
       " 'RETROSPOT CHILDRENS APRON',\n",
       " 'MULTICOLOUR 3D BALLS GARLAND',\n",
       " 'VICTORIAN SEWING BOX SMALL ',\n",
       " 'LOVE LARGE WOOD LETTERS ',\n",
       " 'POTTERING MUG',\n",
       " 'S/6 WOODEN SKITTLES IN COTTON BAG',\n",
       " 'EMPIRE BIRTHDAY CARD',\n",
       " 'LOVE HEART SOCK HANGER',\n",
       " ' OVAL WALL MIRROR DIAMANTE ',\n",
       " '3 HOOK PHOTO SHELF ANTIQUE WHITE',\n",
       " 'METAL 4 HOOK HANGER FRENCH CHATEAU',\n",
       " 'SET 10 LIGHTS NIGHT OWL',\n",
       " 'RED STAR CARD HOLDER',\n",
       " 'KINGS CHOICE TEA CADDY ',\n",
       " 'METAL SIGN NEIGHBOURHOOD WITCH ',\n",
       " 'ENAMEL MEASURING JUG CREAM',\n",
       " 'PICNIC BASKET WICKER SMALL',\n",
       " 'CHILDRENS GARDEN GLOVES PINK',\n",
       " 'MINT KITCHEN SCALES',\n",
       " 'PHOTO FRAME CORNICE',\n",
       " 'PINK DRAWER KNOB ACRYLIC EDWARDIAN',\n",
       " 'SWEETHEART CAKESTAND 3 TIER',\n",
       " 'CUSHION COVER PINK UNION JACK',\n",
       " '3 TIER CAKE TIN GREEN AND CREAM',\n",
       " 'SET/6 PURPLE BUTTERFLY T-LIGHTS',\n",
       " 'TEATIME FUNKY FLOWER BACKPACK FOR 2',\n",
       " '6 CHOCOLATE LOVE HEART T-LIGHTS',\n",
       " 'BOX OF 9 PEBBLE CANDLES',\n",
       " 'RED HANGING HEART T-LIGHT HOLDER',\n",
       " 'STRAWBERRIES  DESIGN FLANNEL ',\n",
       " 'SET OF 6 CAKE CHOPSTICKS',\n",
       " 'RED RETROSPOT TISSUE BOX',\n",
       " 'PINK LOVE HEART SHAPE CUP',\n",
       " 'GREEN CHRISTMAS TREE CARD HOLDER',\n",
       " 'NATURAL SLATE CHALKBOARD LARGE ',\n",
       " '3 PIECE SPACEBOY COOKIE CUTTER SET',\n",
       " 'PARTY BUNTING',\n",
       " 'WOOD BLACK BOARD ANT WHITE FINISH',\n",
       " 'QUEEN OF SKIES LUGGAGE TAG',\n",
       " 'EDWARDIAN PARASOL RED',\n",
       " 'RED RETROSPOT MINI CASES',\n",
       " 'CHARLIE AND LOLA CHARLOTTE BAG',\n",
       " 'RED RETROSPOT WASHBAG',\n",
       " 'TROPICAL  HONEYCOMB PAPER GARLAND ',\n",
       " 'GINGHAM HEART  DOORSTOP RED',\n",
       " 'SKULL LUNCH BOX WITH CUTLERY ',\n",
       " 'PINK UNION JACK  PASSPORT COVER ',\n",
       " 'SET 12 RETRO WHITE CHALK STICKS',\n",
       " 'PACK OF 6 SKULL PAPER PLATES',\n",
       " 'RAINY LADIES BIRTHDAY CARD',\n",
       " 'RED LOVE HEART SHAPE CUP',\n",
       " 'WALL MIRROR RECTANGLE DIAMANTE PINK',\n",
       " 'FOUR HOOK  WHITE LOVEBIRDS',\n",
       " 'DOORMAT RESPECTABLE HOUSE',\n",
       " 'AIRLINE BAG VINTAGE JET SET RED',\n",
       " 'ENAMEL BREAD BIN CREAM',\n",
       " 'MEMO BOARD RETROSPOT  DESIGN',\n",
       " 'CHILDS GARDEN BRUSH BLUE',\n",
       " 'PICNIC BOXES SET OF 3 RETROSPOT ',\n",
       " 'CANDLEHOLDER PINK HANGING HEART',\n",
       " 'SET OF 6 T-LIGHTS TOADSTOOLS',\n",
       " 'BLUE GIANT GARDEN THERMOMETER',\n",
       " 'TOILET METAL SIGN',\n",
       " 'NO SINGING METAL SIGN',\n",
       " 'SMALL LICORICE DES PINK BOWL',\n",
       " 'ANT WHITE WIRE HEART SPIRAL',\n",
       " 'CHOCOLATE 1 WICK MORRIS BOX CANDLE',\n",
       " 'OCEAN SCENT CANDLE JEWELLED DRAWER',\n",
       " 'PENNY FARTHING BIRTHDAY CARD',\n",
       " 'RECORD FRAME 7\" SINGLE SIZE ',\n",
       " 'CHRISTMAS CARD SINGING ANGEL',\n",
       " 'CERAMIC STRAWBERRY DESIGN MUG',\n",
       " 'CARAVAN SQUARE TISSUE BOX',\n",
       " 'MIRROR MOSAIC GOBLET CANDLE HOLDER',\n",
       " 'JOY WOODEN BLOCK LETTERS',\n",
       " 'FOOD CONTAINER SET 3 LOVE HEART ',\n",
       " 'HEART STRING MEMO HOLDER HANGING',\n",
       " 'PINK OWL SOFT TOY',\n",
       " 'T-LIGHT HOLDER WHITE LACE',\n",
       " 'HANGING HEART MIRROR DECORATION ',\n",
       " '3 HOOK HANGER MAGIC GARDEN',\n",
       " 'DECORATION  PINK CHICK MAGIC GARDEN',\n",
       " 'DECORATION  BUTTERFLY  MAGIC GARDEN',\n",
       " 'BIRDHOUSE DECORATION MAGIC GARDEN',\n",
       " 'FELT TOADSTOOL  SMALL',\n",
       " 'FELTCRAFT DOLL ROSIE',\n",
       " 'FELTCRAFT DOLL MARIA',\n",
       " 'FELTCRAFT DOLL MOLLY',\n",
       " 'FELTCRAFT DOLL EMILY',\n",
       " 'HANGING METAL RABBIT DECORATION',\n",
       " 'ROUND SNACK BOXES SET OF4 WOODLAND ',\n",
       " 'STAR DECORATION PAINTED ZINC ',\n",
       " 'GLASS JAR MARMALADE ',\n",
       " 'LUNCH BAG SPACEBOY DESIGN ',\n",
       " 'PAPERWEIGHT VINTAGE PAISLEY',\n",
       " 'MAGNETS PACK OF 4 VINTAGE COLLAGE',\n",
       " 'MONEY BOX KINGS CHOICE DESIGN',\n",
       " 'EMBOSSED GLASS TEALIGHT HOLDER',\n",
       " 'FAIRY TALE COTTAGE NIGHTLIGHT',\n",
       " 'TV DINNER TRAY VINTAGE PAISLEY',\n",
       " 'RED GINGHAM TEDDY BEAR ',\n",
       " 'PACK OF 12 COLOURED PENCILS',\n",
       " 'MINI PAINT SET VINTAGE ',\n",
       " 'PAINT YOUR OWN CANVAS SET',\n",
       " 'MINI JIGSAW PURDEY',\n",
       " 'PLASTERS IN TIN WOODLAND ANIMALS',\n",
       " '20 DOLLY PEGS RETROSPOT',\n",
       " 'METAL MERRY CHRISTMAS WREATH',\n",
       " 'SWALLOW WOODEN CHRISTMAS DECORATION',\n",
       " 'WOODEN HEART CHRISTMAS SCANDINAVIAN',\n",
       " 'WOODEN STAR CHRISTMAS SCANDINAVIAN',\n",
       " 'CHRISTMAS GINGHAM STAR',\n",
       " 'CHRISTMAS GINGHAM TREE',\n",
       " 'PENS ASSORTED SPACEBALL',\n",
       " 'TRADITIONAL KNITTING NANCY',\n",
       " 'BLACK KITCHEN SCALES',\n",
       " 'DOLLY GIRL LUNCH BOX',\n",
       " 'CARD DOG AND BALL ',\n",
       " '3D CHRISTMAS STAMPS STICKERS ',\n",
       " 'RIBBON REEL MAKING SNOWMEN ',\n",
       " 'MAKE YOUR OWN FLOWERPOWER CARD KIT',\n",
       " 'SET 7 BABUSHKA NESTING BOXES',\n",
       " 'SMALL YELLOW BABUSHKA NOTEBOOK ',\n",
       " 'CUPBOARD 3 DRAWER MA CAMPAGNE',\n",
       " 'FAMILY PHOTO FRAME CORNICE',\n",
       " 'GLASS CLOCHE LARGE',\n",
       " 'PHOTO FRAME 3 CLASSIC HANGING',\n",
       " 'SET OF 6 T-LIGHTS SANTA',\n",
       " 'SET OF 6 T-LIGHTS CACTI ',\n",
       " 'SET 20 NAPKINS FAIRY CAKES DESIGN ',\n",
       " 'NUMBER TILE VINTAGE FONT 3',\n",
       " 'NUMBER TILE VINTAGE FONT 5',\n",
       " 'TOTE BAG I LOVE LONDON',\n",
       " 'PACK OF 20 NAPKINS RED APPLES',\n",
       " 'IVORY GIANT GARDEN THERMOMETER',\n",
       " 'GREEN GIANT GARDEN THERMOMETER',\n",
       " 'BLACK CHRISTMAS TREE 120CM',\n",
       " 'SMALL FOLKART STAR CHRISTMAS DEC',\n",
       " 'ASSORTED CIRCULAR MOBILE',\n",
       " ...]"
      ]
     },
     "execution_count": 20,
     "metadata": {},
     "output_type": "execute_result"
    }
   ],
   "source": [
    "(missing_id[missing_id['Description'].str.contains(r'[A-Z]')]['Description']).unique().tolist()"
   ]
  },
  {
   "cell_type": "markdown",
   "id": "18caacd3",
   "metadata": {},
   "source": [
    "check stock code"
   ]
  },
  {
   "cell_type": "code",
   "execution_count": 21,
   "id": "317fc998",
   "metadata": {
    "ExecuteTime": {
     "end_time": "2023-09-06T04:00:05.778989Z",
     "start_time": "2023-09-06T04:00:05.727498Z"
    }
   },
   "outputs": [
    {
     "data": {
      "text/plain": [
       "array(['15056bl', '15056BL', 'DCGS0076', 'DCGS0003', 'DCGS0070',\n",
       "       'DCGS0069', 'DCGSSBOY', 'DCGSSGIRL', 'DCGS0004'], dtype=object)"
      ]
     },
     "execution_count": 21,
     "metadata": {},
     "output_type": "execute_result"
    }
   ],
   "source": [
    "(missing_id[~missing_id['StockCode'].astype(str).str.len().between(5, 6)])['StockCode'].unique()"
   ]
  },
  {
   "cell_type": "code",
   "execution_count": 22,
   "id": "c3cb361b",
   "metadata": {
    "ExecuteTime": {
     "end_time": "2023-09-06T04:00:10.122779Z",
     "start_time": "2023-09-06T04:00:09.944340Z"
    }
   },
   "outputs": [
    {
     "data": {
      "text/plain": [
       "InvoiceNo           0\n",
       "StockCode           0\n",
       "Description         0\n",
       "Quantity            0\n",
       "InvoiceDate         0\n",
       "UnitPrice           0\n",
       "CustomerID     133583\n",
       "dtype: int64"
      ]
     },
     "execution_count": 22,
     "metadata": {},
     "output_type": "execute_result"
    }
   ],
   "source": [
    "copy_ecomm.isna().sum()"
   ]
  },
  {
   "cell_type": "markdown",
   "id": "2f396e2a",
   "metadata": {
    "ExecuteTime": {
     "end_time": "2023-09-06T04:00:16.083377Z",
     "start_time": "2023-09-06T04:00:16.072089Z"
    }
   },
   "source": [
    "**Check the stock code**"
   ]
  },
  {
   "cell_type": "code",
   "execution_count": 24,
   "id": "21e581be",
   "metadata": {
    "ExecuteTime": {
     "end_time": "2023-09-06T04:00:22.287099Z",
     "start_time": "2023-09-06T04:00:22.151839Z"
    }
   },
   "outputs": [
    {
     "data": {
      "text/plain": [
       "array(['POST', '15056BL', 'D', 'C2', 'DOT', 'M', 'BANK CHARGES',\n",
       "       '15056bl', 'S', 'AMAZONFEE', 'DCGS0076', 'DCGS0003',\n",
       "       'gift_0001_40', 'DCGS0070', 'm', 'gift_0001_50', 'gift_0001_30',\n",
       "       'gift_0001_20', 'DCGS0069', 'DCGSSBOY', 'DCGSSGIRL',\n",
       "       'gift_0001_10', 'PADS', 'DCGS0004', 'DCGS0073', 'DCGS0068',\n",
       "       'DCGS0067', 'B', 'CRUK', '79323GR', '79323LP'], dtype=object)"
      ]
     },
     "execution_count": 24,
     "metadata": {},
     "output_type": "execute_result"
    }
   ],
   "source": [
    "list_rare_code = (copy_ecomm[~copy_ecomm['StockCode'].astype(str).str.len().between(5, 6)])['StockCode'].unique()\n",
    "list_rare_code"
   ]
  },
  {
   "cell_type": "code",
   "execution_count": 25,
   "id": "f12a579e",
   "metadata": {
    "ExecuteTime": {
     "end_time": "2023-09-06T04:00:26.758696Z",
     "start_time": "2023-09-06T04:00:26.710663Z"
    }
   },
   "outputs": [
    {
     "data": {
      "text/html": [
       "<div>\n",
       "<style scoped>\n",
       "    .dataframe tbody tr th:only-of-type {\n",
       "        vertical-align: middle;\n",
       "    }\n",
       "\n",
       "    .dataframe tbody tr th {\n",
       "        vertical-align: top;\n",
       "    }\n",
       "\n",
       "    .dataframe thead th {\n",
       "        text-align: right;\n",
       "    }\n",
       "</style>\n",
       "<table border=\"1\" class=\"dataframe\">\n",
       "  <thead>\n",
       "    <tr style=\"text-align: right;\">\n",
       "      <th></th>\n",
       "      <th>InvoiceNo</th>\n",
       "      <th>StockCode</th>\n",
       "      <th>Description</th>\n",
       "      <th>Quantity</th>\n",
       "      <th>InvoiceDate</th>\n",
       "      <th>UnitPrice</th>\n",
       "      <th>CustomerID</th>\n",
       "    </tr>\n",
       "  </thead>\n",
       "  <tbody>\n",
       "    <tr>\n",
       "      <th>141</th>\n",
       "      <td>C536379</td>\n",
       "      <td>D</td>\n",
       "      <td>Discount</td>\n",
       "      <td>-1</td>\n",
       "      <td>2018-11-29 09:41:00</td>\n",
       "      <td>27.50</td>\n",
       "      <td>14527.0</td>\n",
       "    </tr>\n",
       "    <tr>\n",
       "      <th>9038</th>\n",
       "      <td>C537164</td>\n",
       "      <td>D</td>\n",
       "      <td>Discount</td>\n",
       "      <td>-1</td>\n",
       "      <td>2018-12-03 13:21:00</td>\n",
       "      <td>29.29</td>\n",
       "      <td>14527.0</td>\n",
       "    </tr>\n",
       "    <tr>\n",
       "      <th>14498</th>\n",
       "      <td>C537597</td>\n",
       "      <td>D</td>\n",
       "      <td>Discount</td>\n",
       "      <td>-1</td>\n",
       "      <td>2018-12-05 12:34:00</td>\n",
       "      <td>281.00</td>\n",
       "      <td>15498.0</td>\n",
       "    </tr>\n",
       "    <tr>\n",
       "      <th>19392</th>\n",
       "      <td>C537857</td>\n",
       "      <td>D</td>\n",
       "      <td>Discount</td>\n",
       "      <td>-1</td>\n",
       "      <td>2018-12-06 16:00:00</td>\n",
       "      <td>267.12</td>\n",
       "      <td>17340.0</td>\n",
       "    </tr>\n",
       "    <tr>\n",
       "      <th>31134</th>\n",
       "      <td>C538897</td>\n",
       "      <td>D</td>\n",
       "      <td>Discount</td>\n",
       "      <td>-1</td>\n",
       "      <td>2018-12-13 09:14:00</td>\n",
       "      <td>5.76</td>\n",
       "      <td>16422.0</td>\n",
       "    </tr>\n",
       "    <tr>\n",
       "      <th>...</th>\n",
       "      <td>...</td>\n",
       "      <td>...</td>\n",
       "      <td>...</td>\n",
       "      <td>...</td>\n",
       "      <td>...</td>\n",
       "      <td>...</td>\n",
       "      <td>...</td>\n",
       "    </tr>\n",
       "    <tr>\n",
       "      <th>479868</th>\n",
       "      <td>C577227</td>\n",
       "      <td>D</td>\n",
       "      <td>Discount</td>\n",
       "      <td>-1</td>\n",
       "      <td>2019-11-16 12:06:00</td>\n",
       "      <td>19.82</td>\n",
       "      <td>14527.0</td>\n",
       "    </tr>\n",
       "    <tr>\n",
       "      <th>479869</th>\n",
       "      <td>C577227</td>\n",
       "      <td>D</td>\n",
       "      <td>Discount</td>\n",
       "      <td>-1</td>\n",
       "      <td>2019-11-16 12:06:00</td>\n",
       "      <td>16.76</td>\n",
       "      <td>14527.0</td>\n",
       "    </tr>\n",
       "    <tr>\n",
       "      <th>493613</th>\n",
       "      <td>C578239</td>\n",
       "      <td>D</td>\n",
       "      <td>Discount</td>\n",
       "      <td>-1</td>\n",
       "      <td>2019-11-21 12:29:00</td>\n",
       "      <td>26.33</td>\n",
       "      <td>14912.0</td>\n",
       "    </tr>\n",
       "    <tr>\n",
       "      <th>516221</th>\n",
       "      <td>C579884</td>\n",
       "      <td>D</td>\n",
       "      <td>Discount</td>\n",
       "      <td>-1</td>\n",
       "      <td>2019-11-28 17:34:00</td>\n",
       "      <td>20.53</td>\n",
       "      <td>14527.0</td>\n",
       "    </tr>\n",
       "    <tr>\n",
       "      <th>516455</th>\n",
       "      <td>C579908</td>\n",
       "      <td>D</td>\n",
       "      <td>Discount</td>\n",
       "      <td>-1</td>\n",
       "      <td>2019-11-29 08:49:00</td>\n",
       "      <td>28.68</td>\n",
       "      <td>14527.0</td>\n",
       "    </tr>\n",
       "  </tbody>\n",
       "</table>\n",
       "<p>77 rows × 7 columns</p>\n",
       "</div>"
      ],
      "text/plain": [
       "       InvoiceNo StockCode Description  Quantity         InvoiceDate  \\\n",
       "141      C536379         D    Discount        -1 2018-11-29 09:41:00   \n",
       "9038     C537164         D    Discount        -1 2018-12-03 13:21:00   \n",
       "14498    C537597         D    Discount        -1 2018-12-05 12:34:00   \n",
       "19392    C537857         D    Discount        -1 2018-12-06 16:00:00   \n",
       "31134    C538897         D    Discount        -1 2018-12-13 09:14:00   \n",
       "...          ...       ...         ...       ...                 ...   \n",
       "479868   C577227         D    Discount        -1 2019-11-16 12:06:00   \n",
       "479869   C577227         D    Discount        -1 2019-11-16 12:06:00   \n",
       "493613   C578239         D    Discount        -1 2019-11-21 12:29:00   \n",
       "516221   C579884         D    Discount        -1 2019-11-28 17:34:00   \n",
       "516455   C579908         D    Discount        -1 2019-11-29 08:49:00   \n",
       "\n",
       "        UnitPrice  CustomerID  \n",
       "141         27.50     14527.0  \n",
       "9038        29.29     14527.0  \n",
       "14498      281.00     15498.0  \n",
       "19392      267.12     17340.0  \n",
       "31134        5.76     16422.0  \n",
       "...           ...         ...  \n",
       "479868      19.82     14527.0  \n",
       "479869      16.76     14527.0  \n",
       "493613      26.33     14912.0  \n",
       "516221      20.53     14527.0  \n",
       "516455      28.68     14527.0  \n",
       "\n",
       "[77 rows x 7 columns]"
      ]
     },
     "execution_count": 25,
     "metadata": {},
     "output_type": "execute_result"
    }
   ],
   "source": [
    "copy_ecomm[copy_ecomm['StockCode']=='D']"
   ]
  },
  {
   "cell_type": "markdown",
   "id": "9ce1c593",
   "metadata": {
    "ExecuteTime": {
     "end_time": "2023-09-06T04:00:32.027456Z",
     "start_time": "2023-09-06T04:00:32.022438Z"
    }
   },
   "source": [
    "Discount doesnt need to drop because it also tells some information about customer purchase behaviour"
   ]
  },
  {
   "cell_type": "markdown",
   "id": "f0cc0471",
   "metadata": {
    "ExecuteTime": {
     "end_time": "2023-09-06T04:00:41.720578Z",
     "start_time": "2023-09-06T04:00:41.703067Z"
    }
   },
   "source": [
    "**Check description**"
   ]
  },
  {
   "cell_type": "code",
   "execution_count": 28,
   "id": "abb02469",
   "metadata": {
    "ExecuteTime": {
     "end_time": "2023-09-06T04:00:50.315629Z",
     "start_time": "2023-09-06T04:00:50.085722Z"
    }
   },
   "outputs": [
    {
     "data": {
      "text/plain": [
       "array(['Discount', 'BAG 500g SWIRLY MARBLES',\n",
       "       'POLYESTER FILLER PAD 45x45cm', 'BAG 125g SWIRLY MARBLES',\n",
       "       'BAG 250g SWIRLY MARBLES', 'POLYESTER FILLER PAD 45x30cm',\n",
       "       'POLYESTER FILLER PAD 40x40cm', 'FRENCH BLUE METAL DOOR SIGN No',\n",
       "       'Manual', \"Dr. Jam's Arouzer Stress Ball\",\n",
       "       '3 TRADITIONAl BISCUIT CUTTERS  SET', 'Bank Charges',\n",
       "       'NUMBER TILE COTTAGE GARDEN No', 'amazon',\n",
       "       'FOLK ART GREETING CARD,pack/12',\n",
       "       'ESSENTIAL BALM 3.5g TIN IN ENVELOPE',\n",
       "       'POLYESTER FILLER PAD 65CMx65CM', 'check', 'damages',\n",
       "       \"Dad's Cab Electronic Meter\", 'NUMBER TILE VINTAGE FONT No ',\n",
       "       '*Boombox Ipod Classic', 'faulty', 'Dotcom sales', 'amazon sales',\n",
       "       '*USB Office Mirror Ball', 'POLYESTER FILLER PAD 30CMx30CM',\n",
       "       'Dotcomgiftshop Gift Voucher £40.00', 'Found',\n",
       "       'Dotcomgiftshop Gift Voucher £50.00', 'reverse 21/5/10 adjustment',\n",
       "       'Dotcomgiftshop Gift Voucher £30.00',\n",
       "       'Dotcomgiftshop Gift Voucher £20.00', 'mouldy, thrown away.',\n",
       "       'found', 'counted', 'Given away', 'Dotcom', 'label mix up',\n",
       "       'samples/damages', 'thrown away', 'incorrectly made-thrown away.',\n",
       "       'showroom', 'Adjustment', 'Dotcomgiftshop Gift Voucher £10.00',\n",
       "       'Dotcom set', 'wrongly sold as sets', 'Amazon sold sets',\n",
       "       'dotcom sold sets', 'wrongly sold sets', '? sold as sets?',\n",
       "       '?sold as sets?', 'Thrown away.', 'damages/display',\n",
       "       'damaged stock', 'broken', 'throw away', 'wrong barcode (22467)',\n",
       "       'wrongly sold (22719) barcode', 'wrong barcode', 'barcode problem',\n",
       "       '?lost', \"thrown away-can't sell.\", \"thrown away-can't sell\",\n",
       "       'rcvd be air temp fix for dotcom sit', 'damages?',\n",
       "       're dotcom quick fix.', \"Dotcom sold in 6's\", 'sold in set?',\n",
       "       'cracked', 'sold as 22467', 'Damaged',\n",
       "       'mystery! Only ever imported 1800', 'damaged',\n",
       "       'did  a credit  and did not tick ret', 'Display', 'Missing',\n",
       "       'adjustment', 'returned', 'wrong code?', 'wrong code', 'adjust',\n",
       "       'crushed', 'damages/showroom etc', 'samples',\n",
       "       'damages/credits from ASOS.', 'POLYESTER FILLER PAD 60x40cm',\n",
       "       'mailout ', 'mailout', 'Not rcvd in 10/11/2010 delivery',\n",
       "       'Thrown away-rusty', 'FLOWERS HANDBAG blue and orange',\n",
       "       'sold as set/6 by dotcom', 'wet/rusty', 'damages/dotcom?',\n",
       "       'on cargo order', 'smashed', 'incorrectly credited C550456 see 47',\n",
       "       'reverse previous adjustment', 'Next Day Carriage', 'wet damaged',\n",
       "       'Water damaged', 'missing', 'sold as set on dotcom',\n",
       "       'sold as set on dotcom and amazon', 'water damage',\n",
       "       'sold as set by dotcom', 'Printing smudges/thrown away',\n",
       "       'printing smudges/thrown away',\n",
       "       'to push order througha s stock was ', 'found some more on shelf',\n",
       "       'Show Samples', 'mix up with c', 'mouldy, unsaleable.',\n",
       "       'wrongly marked. 23343 in box', 'came coded as 20713',\n",
       "       'alan hodge cant mamage this section', 'dotcom',\n",
       "       'THE KING GIFT BAG 25x24x12cm', 'stock creditted wrongly', 'ebay',\n",
       "       'incorrectly put back into stock', 'Damages/samples',\n",
       "       'Dotcomgiftshop Gift Voucher £100.00', 'Sold as 1 on dotcom',\n",
       "       'Adjust bad debt', 'taig adjust no stock', 'CRUK Commission',\n",
       "       'code mix up? 84930', '?display?', 'sold as 1', '?missing',\n",
       "       'crushed ctn', 'Crushed', 'test', 'temp adjustment', 'taig adjust',\n",
       "       'allocate stock for dotcom orders ta',\n",
       "       'add stock to allocate online orders', 'for online retail orders',\n",
       "       'Amazon', 'found box', 'OOPS ! adjustment', 'Found in w/hse',\n",
       "       'website fixed', 'Dagamed', 'historic computer difference?....se',\n",
       "       'Lighthouse Trading zero invc incorr', 'Incorrect stock entry.',\n",
       "       'incorrect stock entry.', 'michel oops', 'wrongly coded 20713',\n",
       "       'wrongly coded-23343', 'stock check', 'crushed boxes',\n",
       "       \"can't find\", 'mouldy', 'Wet pallet-thrown away',\n",
       "       'Had been put aside.', 'Sale error', 'High Resolution Image',\n",
       "       'Amazon Adjustment', 'wrongly marked 23343',\n",
       "       '20713 wrongly marked', 're-adjustment', 'Breakages',\n",
       "       'Marked as 23343', 'wrongly coded 23343', 'Found by jackie',\n",
       "       'Damages', 'Unsaleable, destroyed.', 'wrongly marked',\n",
       "       'dotcom sales', 'had been put aside', 'damages wax',\n",
       "       'water damaged', 'Wrongly mrked had 85123a in box',\n",
       "       'wrongly marked carton 22804', 'missing?', 'wet rusty',\n",
       "       'amazon adjust', '???lost', 'dotcomstock', 'John Lewis',\n",
       "       'sold with wrong barcode', 'dotcom adjust', 'rusty thrown away',\n",
       "       'rusty throw away', 'check?', '?? missing', 'wet pallet',\n",
       "       '????missing', '???missing', 'lost in space', 'wet?', 'lost??',\n",
       "       'wet', 'wet boxes', '????damages????', 'mixed up', 'lost'],\n",
       "      dtype=object)"
      ]
     },
     "execution_count": 28,
     "metadata": {},
     "output_type": "execute_result"
    }
   ],
   "source": [
    "lower_desc = copy_ecomm[copy_ecomm['Description'].str.contains(r'[a-z]')]\n",
    "lower_desc['Description'].unique()"
   ]
  },
  {
   "cell_type": "markdown",
   "id": "92a004de",
   "metadata": {
    "ExecuteTime": {
     "end_time": "2023-09-06T04:00:55.997748Z",
     "start_time": "2023-09-06T04:00:55.981473Z"
    }
   },
   "source": [
    "Looks the description for lowercase can tells about customer purchase behaviour"
   ]
  },
  {
   "cell_type": "markdown",
   "id": "38a3503a",
   "metadata": {},
   "source": [
    "## Enrich data"
   ]
  },
  {
   "cell_type": "code",
   "execution_count": 30,
   "id": "9b70a70c",
   "metadata": {
    "ExecuteTime": {
     "end_time": "2023-09-06T04:01:11.256004Z",
     "start_time": "2023-09-06T04:01:08.197998Z"
    }
   },
   "outputs": [],
   "source": [
    "copy_ecomm['Date'] = copy_ecomm['InvoiceDate'].dt.date\n",
    "copy_ecomm['Date'] = pd.to_datetime(copy_ecomm['Date'],format = '%Y-%m-%d')\n",
    "copy_ecomm['Time'] = copy_ecomm['InvoiceDate'].dt.time\n",
    "copy_ecomm['Month'] = copy_ecomm['InvoiceDate'].dt.strftime('%Y-%m')"
   ]
  },
  {
   "cell_type": "code",
   "execution_count": 32,
   "id": "9df5ea0c",
   "metadata": {
    "ExecuteTime": {
     "end_time": "2023-09-06T04:01:22.825907Z",
     "start_time": "2023-09-06T04:01:22.805901Z"
    }
   },
   "outputs": [
    {
     "data": {
      "text/html": [
       "<div>\n",
       "<style scoped>\n",
       "    .dataframe tbody tr th:only-of-type {\n",
       "        vertical-align: middle;\n",
       "    }\n",
       "\n",
       "    .dataframe tbody tr th {\n",
       "        vertical-align: top;\n",
       "    }\n",
       "\n",
       "    .dataframe thead th {\n",
       "        text-align: right;\n",
       "    }\n",
       "</style>\n",
       "<table border=\"1\" class=\"dataframe\">\n",
       "  <thead>\n",
       "    <tr style=\"text-align: right;\">\n",
       "      <th></th>\n",
       "      <th>InvoiceNo</th>\n",
       "      <th>StockCode</th>\n",
       "      <th>Description</th>\n",
       "      <th>Quantity</th>\n",
       "      <th>InvoiceDate</th>\n",
       "      <th>UnitPrice</th>\n",
       "      <th>CustomerID</th>\n",
       "      <th>Date</th>\n",
       "      <th>Time</th>\n",
       "      <th>Month</th>\n",
       "    </tr>\n",
       "  </thead>\n",
       "  <tbody>\n",
       "    <tr>\n",
       "      <th>0</th>\n",
       "      <td>536365</td>\n",
       "      <td>85123A</td>\n",
       "      <td>WHITE HANGING HEART T-LIGHT HOLDER</td>\n",
       "      <td>6</td>\n",
       "      <td>2018-11-29 08:26:00</td>\n",
       "      <td>2.55</td>\n",
       "      <td>17850.0</td>\n",
       "      <td>2018-11-29</td>\n",
       "      <td>08:26:00</td>\n",
       "      <td>2018-11</td>\n",
       "    </tr>\n",
       "    <tr>\n",
       "      <th>1</th>\n",
       "      <td>536365</td>\n",
       "      <td>71053</td>\n",
       "      <td>WHITE METAL LANTERN</td>\n",
       "      <td>6</td>\n",
       "      <td>2018-11-29 08:26:00</td>\n",
       "      <td>3.39</td>\n",
       "      <td>17850.0</td>\n",
       "      <td>2018-11-29</td>\n",
       "      <td>08:26:00</td>\n",
       "      <td>2018-11</td>\n",
       "    </tr>\n",
       "    <tr>\n",
       "      <th>2</th>\n",
       "      <td>536365</td>\n",
       "      <td>84406B</td>\n",
       "      <td>CREAM CUPID HEARTS COAT HANGER</td>\n",
       "      <td>8</td>\n",
       "      <td>2018-11-29 08:26:00</td>\n",
       "      <td>2.75</td>\n",
       "      <td>17850.0</td>\n",
       "      <td>2018-11-29</td>\n",
       "      <td>08:26:00</td>\n",
       "      <td>2018-11</td>\n",
       "    </tr>\n",
       "    <tr>\n",
       "      <th>3</th>\n",
       "      <td>536365</td>\n",
       "      <td>84029G</td>\n",
       "      <td>KNITTED UNION FLAG HOT WATER BOTTLE</td>\n",
       "      <td>6</td>\n",
       "      <td>2018-11-29 08:26:00</td>\n",
       "      <td>3.39</td>\n",
       "      <td>17850.0</td>\n",
       "      <td>2018-11-29</td>\n",
       "      <td>08:26:00</td>\n",
       "      <td>2018-11</td>\n",
       "    </tr>\n",
       "    <tr>\n",
       "      <th>4</th>\n",
       "      <td>536365</td>\n",
       "      <td>84029E</td>\n",
       "      <td>RED WOOLLY HOTTIE WHITE HEART.</td>\n",
       "      <td>6</td>\n",
       "      <td>2018-11-29 08:26:00</td>\n",
       "      <td>3.39</td>\n",
       "      <td>17850.0</td>\n",
       "      <td>2018-11-29</td>\n",
       "      <td>08:26:00</td>\n",
       "      <td>2018-11</td>\n",
       "    </tr>\n",
       "  </tbody>\n",
       "</table>\n",
       "</div>"
      ],
      "text/plain": [
       "  InvoiceNo StockCode                          Description  Quantity  \\\n",
       "0    536365    85123A   WHITE HANGING HEART T-LIGHT HOLDER         6   \n",
       "1    536365     71053                  WHITE METAL LANTERN         6   \n",
       "2    536365    84406B       CREAM CUPID HEARTS COAT HANGER         8   \n",
       "3    536365    84029G  KNITTED UNION FLAG HOT WATER BOTTLE         6   \n",
       "4    536365    84029E       RED WOOLLY HOTTIE WHITE HEART.         6   \n",
       "\n",
       "          InvoiceDate  UnitPrice  CustomerID       Date      Time    Month  \n",
       "0 2018-11-29 08:26:00       2.55     17850.0 2018-11-29  08:26:00  2018-11  \n",
       "1 2018-11-29 08:26:00       3.39     17850.0 2018-11-29  08:26:00  2018-11  \n",
       "2 2018-11-29 08:26:00       2.75     17850.0 2018-11-29  08:26:00  2018-11  \n",
       "3 2018-11-29 08:26:00       3.39     17850.0 2018-11-29  08:26:00  2018-11  \n",
       "4 2018-11-29 08:26:00       3.39     17850.0 2018-11-29  08:26:00  2018-11  "
      ]
     },
     "execution_count": 32,
     "metadata": {},
     "output_type": "execute_result"
    }
   ],
   "source": [
    "copy_ecomm.head(5)"
   ]
  },
  {
   "cell_type": "markdown",
   "id": "5dacdf12",
   "metadata": {
    "ExecuteTime": {
     "end_time": "2023-09-06T04:01:31.047580Z",
     "start_time": "2023-09-06T04:01:31.029073Z"
    }
   },
   "source": [
    "Create 1 year transaction"
   ]
  },
  {
   "cell_type": "code",
   "execution_count": 34,
   "id": "f8ef4c5b",
   "metadata": {
    "ExecuteTime": {
     "end_time": "2023-09-06T04:01:36.349480Z",
     "start_time": "2023-09-06T04:01:36.253371Z"
    }
   },
   "outputs": [
    {
     "name": "stdout",
     "output_type": "stream",
     "text": [
      "2018-12-01 09:31:00\n",
      "2019-11-30 17:59:00\n"
     ]
    }
   ],
   "source": [
    "copy_ecomm = copy_ecomm[(copy_ecomm['InvoiceDate'] >= '2018-12-01 00:00:00') & (copy_ecomm['InvoiceDate'] < '2019-12-01 00:00:00')]\n",
    "print (copy_ecomm['InvoiceDate'].min())\n",
    "print(copy_ecomm['InvoiceDate'].max())"
   ]
  },
  {
   "cell_type": "code",
   "execution_count": 35,
   "id": "d6f716cd",
   "metadata": {
    "ExecuteTime": {
     "end_time": "2023-09-06T04:01:41.684927Z",
     "start_time": "2023-09-06T04:01:41.668647Z"
    }
   },
   "outputs": [
    {
     "name": "stdout",
     "output_type": "stream",
     "text": [
      "(541909, 7)\n",
      "(510552, 10)\n"
     ]
    }
   ],
   "source": [
    "print(ecomm.shape)\n",
    "print(copy_ecomm.shape)"
   ]
  },
  {
   "cell_type": "markdown",
   "id": "e000c4c4",
   "metadata": {
    "ExecuteTime": {
     "end_time": "2023-09-06T04:01:45.497624Z",
     "start_time": "2023-09-06T04:01:45.492486Z"
    }
   },
   "source": [
    "9% loss from original data. "
   ]
  },
  {
   "cell_type": "markdown",
   "id": "54d8e3ae",
   "metadata": {
    "ExecuteTime": {
     "end_time": "2023-09-06T04:01:52.582713Z",
     "start_time": "2023-09-06T04:01:52.572202Z"
    }
   },
   "source": [
    "# EDA"
   ]
  },
  {
   "cell_type": "markdown",
   "id": "22c5f41a",
   "metadata": {},
   "source": [
    "## Separate transaction and returned data"
   ]
  },
  {
   "cell_type": "code",
   "execution_count": 38,
   "id": "7ea68768",
   "metadata": {
    "ExecuteTime": {
     "end_time": "2023-09-06T04:02:04.652293Z",
     "start_time": "2023-09-06T04:02:04.347730Z"
    }
   },
   "outputs": [
    {
     "data": {
      "text/html": [
       "<div>\n",
       "<style scoped>\n",
       "    .dataframe tbody tr th:only-of-type {\n",
       "        vertical-align: middle;\n",
       "    }\n",
       "\n",
       "    .dataframe tbody tr th {\n",
       "        vertical-align: top;\n",
       "    }\n",
       "\n",
       "    .dataframe thead th {\n",
       "        text-align: right;\n",
       "    }\n",
       "</style>\n",
       "<table border=\"1\" class=\"dataframe\">\n",
       "  <thead>\n",
       "    <tr style=\"text-align: right;\">\n",
       "      <th></th>\n",
       "      <th>InvoiceNo</th>\n",
       "      <th>StockCode</th>\n",
       "      <th>Description</th>\n",
       "      <th>Quantity</th>\n",
       "      <th>InvoiceDate</th>\n",
       "      <th>UnitPrice</th>\n",
       "      <th>CustomerID</th>\n",
       "      <th>Date</th>\n",
       "      <th>Time</th>\n",
       "      <th>Month</th>\n",
       "    </tr>\n",
       "  </thead>\n",
       "  <tbody>\n",
       "    <tr>\n",
       "      <th>225530</th>\n",
       "      <td>556691</td>\n",
       "      <td>23005</td>\n",
       "      <td>printing smudges/thrown away</td>\n",
       "      <td>-9600</td>\n",
       "      <td>2019-06-12 10:37:00</td>\n",
       "      <td>0.0</td>\n",
       "      <td>NaN</td>\n",
       "      <td>2019-06-12</td>\n",
       "      <td>10:37:00</td>\n",
       "      <td>2019-06</td>\n",
       "    </tr>\n",
       "    <tr>\n",
       "      <th>225529</th>\n",
       "      <td>556690</td>\n",
       "      <td>23005</td>\n",
       "      <td>printing smudges/thrown away</td>\n",
       "      <td>-9600</td>\n",
       "      <td>2019-06-12 10:37:00</td>\n",
       "      <td>0.0</td>\n",
       "      <td>NaN</td>\n",
       "      <td>2019-06-12</td>\n",
       "      <td>10:37:00</td>\n",
       "      <td>2019-06</td>\n",
       "    </tr>\n",
       "    <tr>\n",
       "      <th>225528</th>\n",
       "      <td>556687</td>\n",
       "      <td>23003</td>\n",
       "      <td>Printing smudges/thrown away</td>\n",
       "      <td>-9058</td>\n",
       "      <td>2019-06-12 10:36:00</td>\n",
       "      <td>0.0</td>\n",
       "      <td>NaN</td>\n",
       "      <td>2019-06-12</td>\n",
       "      <td>10:36:00</td>\n",
       "      <td>2019-06</td>\n",
       "    </tr>\n",
       "    <tr>\n",
       "      <th>115818</th>\n",
       "      <td>546152</td>\n",
       "      <td>72140F</td>\n",
       "      <td>throw away</td>\n",
       "      <td>-5368</td>\n",
       "      <td>2019-03-07 17:25:00</td>\n",
       "      <td>0.0</td>\n",
       "      <td>NaN</td>\n",
       "      <td>2019-03-07</td>\n",
       "      <td>17:25:00</td>\n",
       "      <td>2019-03</td>\n",
       "    </tr>\n",
       "    <tr>\n",
       "      <th>431381</th>\n",
       "      <td>573596</td>\n",
       "      <td>79323W</td>\n",
       "      <td>Unsaleable, destroyed.</td>\n",
       "      <td>-4830</td>\n",
       "      <td>2019-10-29 15:17:00</td>\n",
       "      <td>0.0</td>\n",
       "      <td>NaN</td>\n",
       "      <td>2019-10-29</td>\n",
       "      <td>15:17:00</td>\n",
       "      <td>2019-10</td>\n",
       "    </tr>\n",
       "  </tbody>\n",
       "</table>\n",
       "</div>"
      ],
      "text/plain": [
       "       InvoiceNo StockCode                   Description  Quantity  \\\n",
       "225530    556691     23005  printing smudges/thrown away     -9600   \n",
       "225529    556690     23005  printing smudges/thrown away     -9600   \n",
       "225528    556687     23003  Printing smudges/thrown away     -9058   \n",
       "115818    546152    72140F                    throw away     -5368   \n",
       "431381    573596    79323W        Unsaleable, destroyed.     -4830   \n",
       "\n",
       "               InvoiceDate  UnitPrice  CustomerID       Date      Time  \\\n",
       "225530 2019-06-12 10:37:00        0.0         NaN 2019-06-12  10:37:00   \n",
       "225529 2019-06-12 10:37:00        0.0         NaN 2019-06-12  10:37:00   \n",
       "225528 2019-06-12 10:36:00        0.0         NaN 2019-06-12  10:36:00   \n",
       "115818 2019-03-07 17:25:00        0.0         NaN 2019-03-07  17:25:00   \n",
       "431381 2019-10-29 15:17:00        0.0         NaN 2019-10-29  15:17:00   \n",
       "\n",
       "          Month  \n",
       "225530  2019-06  \n",
       "225529  2019-06  \n",
       "225528  2019-06  \n",
       "115818  2019-03  \n",
       "431381  2019-10  "
      ]
     },
     "execution_count": 38,
     "metadata": {},
     "output_type": "execute_result"
    }
   ],
   "source": [
    "transaction_data = copy_ecomm[~copy_ecomm['InvoiceNo'].str.startswith('C')]\n",
    "transaction_data.sort_values(by='Quantity',ascending=True).head()"
   ]
  },
  {
   "cell_type": "code",
   "execution_count": 39,
   "id": "2e615567",
   "metadata": {
    "ExecuteTime": {
     "end_time": "2023-09-06T04:02:08.597999Z",
     "start_time": "2023-09-06T04:02:08.450559Z"
    }
   },
   "outputs": [
    {
     "data": {
      "text/html": [
       "<div>\n",
       "<style scoped>\n",
       "    .dataframe tbody tr th:only-of-type {\n",
       "        vertical-align: middle;\n",
       "    }\n",
       "\n",
       "    .dataframe tbody tr th {\n",
       "        vertical-align: top;\n",
       "    }\n",
       "\n",
       "    .dataframe thead th {\n",
       "        text-align: right;\n",
       "    }\n",
       "</style>\n",
       "<table border=\"1\" class=\"dataframe\">\n",
       "  <thead>\n",
       "    <tr style=\"text-align: right;\">\n",
       "      <th></th>\n",
       "      <th>InvoiceNo</th>\n",
       "      <th>StockCode</th>\n",
       "      <th>Description</th>\n",
       "      <th>Quantity</th>\n",
       "      <th>InvoiceDate</th>\n",
       "      <th>UnitPrice</th>\n",
       "      <th>CustomerID</th>\n",
       "      <th>Date</th>\n",
       "      <th>Time</th>\n",
       "      <th>Month</th>\n",
       "    </tr>\n",
       "  </thead>\n",
       "  <tbody>\n",
       "    <tr>\n",
       "      <th>61624</th>\n",
       "      <td>C541433</td>\n",
       "      <td>23166</td>\n",
       "      <td>MEDIUM CERAMIC TOP STORAGE JAR</td>\n",
       "      <td>-74215</td>\n",
       "      <td>2019-01-16 10:17:00</td>\n",
       "      <td>1.04</td>\n",
       "      <td>12346.0</td>\n",
       "      <td>2019-01-16</td>\n",
       "      <td>10:17:00</td>\n",
       "      <td>2019-01</td>\n",
       "    </tr>\n",
       "    <tr>\n",
       "      <th>160145</th>\n",
       "      <td>C550456</td>\n",
       "      <td>21108</td>\n",
       "      <td>FAIRY CAKE FLANNEL ASSORTED COLOUR</td>\n",
       "      <td>-3114</td>\n",
       "      <td>2019-04-16 13:08:00</td>\n",
       "      <td>2.10</td>\n",
       "      <td>15749.0</td>\n",
       "      <td>2019-04-16</td>\n",
       "      <td>13:08:00</td>\n",
       "      <td>2019-04</td>\n",
       "    </tr>\n",
       "    <tr>\n",
       "      <th>160144</th>\n",
       "      <td>C550456</td>\n",
       "      <td>21175</td>\n",
       "      <td>GIN + TONIC DIET METAL SIGN</td>\n",
       "      <td>-2000</td>\n",
       "      <td>2019-04-16 13:08:00</td>\n",
       "      <td>1.85</td>\n",
       "      <td>15749.0</td>\n",
       "      <td>2019-04-16</td>\n",
       "      <td>13:08:00</td>\n",
       "      <td>2019-04</td>\n",
       "    </tr>\n",
       "    <tr>\n",
       "      <th>160143</th>\n",
       "      <td>C550456</td>\n",
       "      <td>85123A</td>\n",
       "      <td>WHITE HANGING HEART T-LIGHT HOLDER</td>\n",
       "      <td>-1930</td>\n",
       "      <td>2019-04-16 13:08:00</td>\n",
       "      <td>2.55</td>\n",
       "      <td>15749.0</td>\n",
       "      <td>2019-04-16</td>\n",
       "      <td>13:08:00</td>\n",
       "      <td>2019-04</td>\n",
       "    </tr>\n",
       "    <tr>\n",
       "      <th>224419</th>\n",
       "      <td>C556522</td>\n",
       "      <td>22920</td>\n",
       "      <td>HERB MARKER BASIL</td>\n",
       "      <td>-1515</td>\n",
       "      <td>2019-06-11 11:21:00</td>\n",
       "      <td>0.55</td>\n",
       "      <td>16938.0</td>\n",
       "      <td>2019-06-11</td>\n",
       "      <td>11:21:00</td>\n",
       "      <td>2019-06</td>\n",
       "    </tr>\n",
       "  </tbody>\n",
       "</table>\n",
       "</div>"
      ],
      "text/plain": [
       "       InvoiceNo StockCode                         Description  Quantity  \\\n",
       "61624    C541433     23166      MEDIUM CERAMIC TOP STORAGE JAR    -74215   \n",
       "160145   C550456     21108  FAIRY CAKE FLANNEL ASSORTED COLOUR     -3114   \n",
       "160144   C550456     21175         GIN + TONIC DIET METAL SIGN     -2000   \n",
       "160143   C550456    85123A  WHITE HANGING HEART T-LIGHT HOLDER     -1930   \n",
       "224419   C556522     22920                   HERB MARKER BASIL     -1515   \n",
       "\n",
       "               InvoiceDate  UnitPrice  CustomerID       Date      Time  \\\n",
       "61624  2019-01-16 10:17:00       1.04     12346.0 2019-01-16  10:17:00   \n",
       "160145 2019-04-16 13:08:00       2.10     15749.0 2019-04-16  13:08:00   \n",
       "160144 2019-04-16 13:08:00       1.85     15749.0 2019-04-16  13:08:00   \n",
       "160143 2019-04-16 13:08:00       2.55     15749.0 2019-04-16  13:08:00   \n",
       "224419 2019-06-11 11:21:00       0.55     16938.0 2019-06-11  11:21:00   \n",
       "\n",
       "          Month  \n",
       "61624   2019-01  \n",
       "160145  2019-04  \n",
       "160144  2019-04  \n",
       "160143  2019-04  \n",
       "224419  2019-06  "
      ]
     },
     "execution_count": 39,
     "metadata": {},
     "output_type": "execute_result"
    }
   ],
   "source": [
    "returned_data = copy_ecomm[copy_ecomm['InvoiceNo'].str.startswith('C')]\n",
    "returned_data.sort_values(by='Quantity',ascending=True).head()"
   ]
  },
  {
   "cell_type": "markdown",
   "id": "434b7637",
   "metadata": {
    "ExecuteTime": {
     "end_time": "2023-09-06T04:02:13.568725Z",
     "start_time": "2023-09-06T04:02:13.555362Z"
    }
   },
   "source": [
    "## Quantity range for analysis"
   ]
  },
  {
   "cell_type": "code",
   "execution_count": 41,
   "id": "5fc7d61d",
   "metadata": {
    "ExecuteTime": {
     "end_time": "2023-09-06T04:02:19.113314Z",
     "start_time": "2023-09-06T04:02:18.923141Z"
    }
   },
   "outputs": [
    {
     "data": {
      "image/png": "[encoded data removed]",
      "text/plain": [
       "<Figure size 640x480 with 1 Axes>"
      ]
     },
     "metadata": {},
     "output_type": "display_data"
    }
   ],
   "source": [
    "boxplot_quantity = [transaction_data['Quantity'], returned_data['Quantity']]\n",
    "\n",
    "plt.boxplot(boxplot_quantity, labels=['Transaction', 'Returned'],vert=False)\n",
    "plt.xlabel('Data Sets')\n",
    "plt.ylabel('Quantity')\n",
    "plt.title('Boxplot of Quantity')\n",
    "plt.show()"
   ]
  },
  {
   "cell_type": "markdown",
   "id": "47194cf5",
   "metadata": {},
   "source": [
    "Lets remove the obvious outliers "
   ]
  },
  {
   "cell_type": "code",
   "execution_count": 42,
   "id": "169b2c7a",
   "metadata": {
    "ExecuteTime": {
     "end_time": "2023-09-06T04:02:31.447263Z",
     "start_time": "2023-09-06T04:02:31.386644Z"
    }
   },
   "outputs": [],
   "source": [
    "transaction_data = transaction_data[transaction_data['Quantity']<= 10000]\n",
    "returned_data = returned_data[returned_data['Quantity']>= -10000]"
   ]
  },
  {
   "cell_type": "markdown",
   "id": "a60a36b3",
   "metadata": {
    "ExecuteTime": {
     "end_time": "2023-09-06T04:02:35.309792Z",
     "start_time": "2023-09-06T04:02:35.298482Z"
    }
   },
   "source": [
    "see the boxplot again"
   ]
  },
  {
   "cell_type": "code",
   "execution_count": 44,
   "id": "af4cbd90",
   "metadata": {
    "ExecuteTime": {
     "end_time": "2023-09-06T04:02:42.050298Z",
     "start_time": "2023-09-06T04:02:41.890734Z"
    }
   },
   "outputs": [
    {
     "data": {
      "image/png": "[encoded data removed]",
      "text/plain": [
       "<Figure size 640x480 with 1 Axes>"
      ]
     },
     "metadata": {},
     "output_type": "display_data"
    }
   ],
   "source": [
    "boxplot_quantity = [transaction_data['Quantity'], returned_data['Quantity']]\n",
    "\n",
    "plt.boxplot(boxplot_quantity, labels=['Transaction', 'Returned'],vert=False)\n",
    "plt.xlabel('Data Sets')\n",
    "plt.ylabel('Quantity')\n",
    "plt.title('Boxplot of Quantity')\n",
    "plt.show()"
   ]
  },
  {
   "cell_type": "markdown",
   "id": "6e4d3327",
   "metadata": {
    "ExecuteTime": {
     "end_time": "2023-09-06T04:02:47.819785Z",
     "start_time": "2023-09-06T04:02:47.801984Z"
    }
   },
   "source": [
    "We cant see the box. Lets remove the 5% from the transaction and and returned data."
   ]
  },
  {
   "cell_type": "code",
   "execution_count": 46,
   "id": "c0195d99",
   "metadata": {
    "ExecuteTime": {
     "end_time": "2023-09-06T04:02:54.256644Z",
     "start_time": "2023-09-06T04:02:54.233956Z"
    }
   },
   "outputs": [
    {
     "name": "stdout",
     "output_type": "stream",
     "text": [
      "1.0 30.0\n",
      "-36.0 -1.0\n"
     ]
    }
   ],
   "source": [
    "thresold_min_tr,thresold_max_tr = transaction_data['Quantity'].quantile([0.05,0.95])\n",
    "thresold_min_rt,thresold_max_rt = returned_data['Quantity'].quantile([0.05,0.95])\n",
    "print (thresold_min_tr,thresold_max_tr)\n",
    "print (thresold_min_rt,thresold_max_rt)"
   ]
  },
  {
   "cell_type": "code",
   "execution_count": 47,
   "id": "681e6c5d",
   "metadata": {
    "ExecuteTime": {
     "end_time": "2023-09-06T04:02:59.215306Z",
     "start_time": "2023-09-06T04:02:59.169526Z"
    }
   },
   "outputs": [],
   "source": [
    "transaction_data = transaction_data[(transaction_data['Quantity']<=thresold_max_tr) & (transaction_data['Quantity']>=thresold_min_tr)]\n",
    "returned_data = returned_data[(returned_data['Quantity']>=thresold_min_rt) & (returned_data['Quantity']<=thresold_max_rt)]"
   ]
  },
  {
   "cell_type": "code",
   "execution_count": 48,
   "id": "a9121e3f",
   "metadata": {
    "ExecuteTime": {
     "end_time": "2023-09-06T04:03:04.310385Z",
     "start_time": "2023-09-06T04:03:04.121325Z"
    }
   },
   "outputs": [
    {
     "data": {
      "image/png": "[encoded data removed]",
      "text/plain": [
       "<Figure size 640x480 with 1 Axes>"
      ]
     },
     "metadata": {},
     "output_type": "display_data"
    }
   ],
   "source": [
    "boxplot_quantity = [transaction_data['Quantity'], returned_data['Quantity']]\n",
    "\n",
    "plt.boxplot(boxplot_quantity, labels=['Transaction', 'Returned'],vert=False)\n",
    "plt.xlim(-40, 50)\n",
    "plt.xlabel('Data Sets')\n",
    "plt.ylabel('Quantity')\n",
    "plt.title('Boxplot of Quantity')\n",
    "plt.grid()\n",
    "plt.show()"
   ]
  },
  {
   "cell_type": "markdown",
   "id": "b2a25ce2",
   "metadata": {
    "ExecuteTime": {
     "end_time": "2023-09-06T04:03:09.905605Z",
     "start_time": "2023-09-06T04:03:09.889098Z"
    }
   },
   "source": [
    "30 quantity in transaction and 36 returned is acceptable and reasonable quantity."
   ]
  },
  {
   "cell_type": "markdown",
   "id": "f63f5e0a",
   "metadata": {},
   "source": [
    "## Unit price for analysis"
   ]
  },
  {
   "cell_type": "code",
   "execution_count": 50,
   "id": "31030424",
   "metadata": {
    "ExecuteTime": {
     "end_time": "2023-09-06T04:03:22.283739Z",
     "start_time": "2023-09-06T04:03:22.112609Z"
    }
   },
   "outputs": [
    {
     "data": {
      "image/png": "[encoded data removed]",
      "text/plain": [
       "<Figure size 640x480 with 1 Axes>"
      ]
     },
     "metadata": {},
     "output_type": "display_data"
    }
   ],
   "source": [
    "boxplot_quantity = [transaction_data['UnitPrice'], returned_data['UnitPrice']]\n",
    "\n",
    "plt.boxplot(boxplot_quantity, labels=['Transaction', 'Returned'],vert=False)\n",
    "plt.xlabel('Data Sets')\n",
    "plt.ylabel('UnitPrice')\n",
    "plt.title('Boxplot of UnitPrice')\n",
    "plt.show()\n"
   ]
  },
  {
   "cell_type": "markdown",
   "id": "72c6dd49",
   "metadata": {},
   "source": [
    "Lets remove the obvious outliers "
   ]
  },
  {
   "cell_type": "code",
   "execution_count": 51,
   "id": "7f9d3d0b",
   "metadata": {
    "ExecuteTime": {
     "end_time": "2023-09-06T04:03:32.372365Z",
     "start_time": "2023-09-06T04:03:32.312280Z"
    }
   },
   "outputs": [],
   "source": [
    "transaction_data = transaction_data[transaction_data['UnitPrice']<= 250]\n",
    "returned_data = returned_data[returned_data['UnitPrice']<= 250]"
   ]
  },
  {
   "cell_type": "code",
   "execution_count": 52,
   "id": "ef7f741c",
   "metadata": {
    "ExecuteTime": {
     "end_time": "2023-09-06T04:03:36.713016Z",
     "start_time": "2023-09-06T04:03:36.536024Z"
    }
   },
   "outputs": [
    {
     "data": {
      "image/png": "[encoded data removed]",
      "text/plain": [
       "<Figure size 640x480 with 1 Axes>"
      ]
     },
     "metadata": {},
     "output_type": "display_data"
    }
   ],
   "source": [
    "boxplot_quantity = [transaction_data['UnitPrice'], returned_data['UnitPrice']]\n",
    "\n",
    "plt.boxplot(boxplot_quantity, labels=['Transaction', 'Returned'],vert=False)\n",
    "plt.xlabel('UnitPrice')\n",
    "plt.ylabel('Data Sets')\n",
    "plt.title('Boxplot of UnitPrice')\n",
    "plt.show()\n"
   ]
  },
  {
   "cell_type": "markdown",
   "id": "f89be7c0",
   "metadata": {},
   "source": [
    "Lets sets the threshold to 1%"
   ]
  },
  {
   "cell_type": "code",
   "execution_count": 53,
   "id": "9c8634d8",
   "metadata": {
    "ExecuteTime": {
     "end_time": "2023-09-06T04:03:49.979559Z",
     "start_time": "2023-09-06T04:03:49.959991Z"
    }
   },
   "outputs": [
    {
     "name": "stdout",
     "output_type": "stream",
     "text": [
      "0.65 14.95\n"
     ]
    }
   ],
   "source": [
    "min_thresold_price,max_thresold_price = returned_data['UnitPrice'].quantile([0.05,0.95])\n",
    "print(min_thresold_price,max_thresold_price)"
   ]
  },
  {
   "cell_type": "code",
   "execution_count": 54,
   "id": "e512f210",
   "metadata": {
    "ExecuteTime": {
     "end_time": "2023-09-06T04:03:53.260530Z",
     "start_time": "2023-09-06T04:03:53.199858Z"
    }
   },
   "outputs": [],
   "source": [
    "transaction_data = transaction_data[(transaction_data['UnitPrice']<=max_thresold_price)&(transaction_data['UnitPrice']>=min_thresold_price)]\n",
    "returned_data = returned_data[(returned_data['UnitPrice']<=max_thresold_price)&(returned_data['UnitPrice']>=min_thresold_price)]"
   ]
  },
  {
   "cell_type": "code",
   "execution_count": 55,
   "id": "fb33aff5",
   "metadata": {
    "ExecuteTime": {
     "end_time": "2023-09-06T04:03:57.361836Z",
     "start_time": "2023-09-06T04:03:57.183711Z"
    }
   },
   "outputs": [
    {
     "data": {
      "image/png": "[encoded data removed]",
      "text/plain": [
       "<Figure size 640x480 with 1 Axes>"
      ]
     },
     "metadata": {},
     "output_type": "display_data"
    }
   ],
   "source": [
    "boxplot_quantity = [transaction_data['UnitPrice'], returned_data['UnitPrice']]\n",
    "\n",
    "plt.boxplot(boxplot_quantity, labels=['Transaction', 'Returned'],vert=False)\n",
    "plt.xlabel('UnitPrice')\n",
    "plt.ylabel('Data Sets')\n",
    "plt.title('Boxplot of UnitPrice')\n",
    "plt.show()"
   ]
  },
  {
   "cell_type": "markdown",
   "id": "7c77e041",
   "metadata": {},
   "source": [
    "The Unit price looks acceptable"
   ]
  },
  {
   "cell_type": "markdown",
   "id": "92771a80",
   "metadata": {},
   "source": [
    "##  Customer Profile for a year"
   ]
  },
  {
   "cell_type": "markdown",
   "id": "f8d8d24f",
   "metadata": {},
   "source": [
    "Lets group the buyers spending for a year"
   ]
  },
  {
   "cell_type": "code",
   "execution_count": 56,
   "id": "da7d5eba",
   "metadata": {
    "ExecuteTime": {
     "end_time": "2023-09-06T04:04:22.793410Z",
     "start_time": "2023-09-06T04:04:22.774674Z"
    }
   },
   "outputs": [
    {
     "data": {
      "text/html": [
       "<div>\n",
       "<style scoped>\n",
       "    .dataframe tbody tr th:only-of-type {\n",
       "        vertical-align: middle;\n",
       "    }\n",
       "\n",
       "    .dataframe tbody tr th {\n",
       "        vertical-align: top;\n",
       "    }\n",
       "\n",
       "    .dataframe thead th {\n",
       "        text-align: right;\n",
       "    }\n",
       "</style>\n",
       "<table border=\"1\" class=\"dataframe\">\n",
       "  <thead>\n",
       "    <tr style=\"text-align: right;\">\n",
       "      <th></th>\n",
       "      <th>InvoiceNo</th>\n",
       "      <th>StockCode</th>\n",
       "      <th>Description</th>\n",
       "      <th>Quantity</th>\n",
       "      <th>InvoiceDate</th>\n",
       "      <th>UnitPrice</th>\n",
       "      <th>CustomerID</th>\n",
       "      <th>Date</th>\n",
       "      <th>Time</th>\n",
       "      <th>Month</th>\n",
       "      <th>Total_payment</th>\n",
       "    </tr>\n",
       "  </thead>\n",
       "  <tbody>\n",
       "    <tr>\n",
       "      <th>5219</th>\n",
       "      <td>536847</td>\n",
       "      <td>22161</td>\n",
       "      <td>HEART DECORATION RUSTIC HANGING</td>\n",
       "      <td>24</td>\n",
       "      <td>2018-12-01 09:31:00</td>\n",
       "      <td>0.65</td>\n",
       "      <td>17135.0</td>\n",
       "      <td>2018-12-01</td>\n",
       "      <td>09:31:00</td>\n",
       "      <td>2018-12</td>\n",
       "      <td>15.6</td>\n",
       "    </tr>\n",
       "    <tr>\n",
       "      <th>5220</th>\n",
       "      <td>536847</td>\n",
       "      <td>22065</td>\n",
       "      <td>CHRISTMAS PUDDING TRINKET POT</td>\n",
       "      <td>24</td>\n",
       "      <td>2018-12-01 09:31:00</td>\n",
       "      <td>1.45</td>\n",
       "      <td>17135.0</td>\n",
       "      <td>2018-12-01</td>\n",
       "      <td>09:31:00</td>\n",
       "      <td>2018-12</td>\n",
       "      <td>34.8</td>\n",
       "    </tr>\n",
       "    <tr>\n",
       "      <th>5221</th>\n",
       "      <td>536847</td>\n",
       "      <td>20956</td>\n",
       "      <td>PORCELAIN T-LIGHT HOLDERS ASSORTED</td>\n",
       "      <td>12</td>\n",
       "      <td>2018-12-01 09:31:00</td>\n",
       "      <td>1.25</td>\n",
       "      <td>17135.0</td>\n",
       "      <td>2018-12-01</td>\n",
       "      <td>09:31:00</td>\n",
       "      <td>2018-12</td>\n",
       "      <td>15.0</td>\n",
       "    </tr>\n",
       "    <tr>\n",
       "      <th>5222</th>\n",
       "      <td>536847</td>\n",
       "      <td>84347</td>\n",
       "      <td>ROTATING SILVER ANGELS T-LIGHT HLDR</td>\n",
       "      <td>6</td>\n",
       "      <td>2018-12-01 09:31:00</td>\n",
       "      <td>2.55</td>\n",
       "      <td>17135.0</td>\n",
       "      <td>2018-12-01</td>\n",
       "      <td>09:31:00</td>\n",
       "      <td>2018-12</td>\n",
       "      <td>15.3</td>\n",
       "    </tr>\n",
       "    <tr>\n",
       "      <th>5223</th>\n",
       "      <td>536847</td>\n",
       "      <td>21231</td>\n",
       "      <td>SWEETHEART CERAMIC TRINKET BOX</td>\n",
       "      <td>24</td>\n",
       "      <td>2018-12-01 09:31:00</td>\n",
       "      <td>1.25</td>\n",
       "      <td>17135.0</td>\n",
       "      <td>2018-12-01</td>\n",
       "      <td>09:31:00</td>\n",
       "      <td>2018-12</td>\n",
       "      <td>30.0</td>\n",
       "    </tr>\n",
       "  </tbody>\n",
       "</table>\n",
       "</div>"
      ],
      "text/plain": [
       "     InvoiceNo StockCode                          Description  Quantity  \\\n",
       "5219    536847     22161     HEART DECORATION RUSTIC HANGING         24   \n",
       "5220    536847     22065       CHRISTMAS PUDDING TRINKET POT         24   \n",
       "5221    536847     20956   PORCELAIN T-LIGHT HOLDERS ASSORTED        12   \n",
       "5222    536847     84347  ROTATING SILVER ANGELS T-LIGHT HLDR         6   \n",
       "5223    536847     21231       SWEETHEART CERAMIC TRINKET BOX        24   \n",
       "\n",
       "             InvoiceDate  UnitPrice  CustomerID       Date      Time    Month  \\\n",
       "5219 2018-12-01 09:31:00       0.65     17135.0 2018-12-01  09:31:00  2018-12   \n",
       "5220 2018-12-01 09:31:00       1.45     17135.0 2018-12-01  09:31:00  2018-12   \n",
       "5221 2018-12-01 09:31:00       1.25     17135.0 2018-12-01  09:31:00  2018-12   \n",
       "5222 2018-12-01 09:31:00       2.55     17135.0 2018-12-01  09:31:00  2018-12   \n",
       "5223 2018-12-01 09:31:00       1.25     17135.0 2018-12-01  09:31:00  2018-12   \n",
       "\n",
       "      Total_payment  \n",
       "5219           15.6  \n",
       "5220           34.8  \n",
       "5221           15.0  \n",
       "5222           15.3  \n",
       "5223           30.0  "
      ]
     },
     "execution_count": 56,
     "metadata": {},
     "output_type": "execute_result"
    }
   ],
   "source": [
    "transaction_data['Total_payment'] = transaction_data['Quantity'] * transaction_data['UnitPrice']\n",
    "transaction_data.head()"
   ]
  },
  {
   "cell_type": "code",
   "execution_count": 57,
   "id": "db2e94f9",
   "metadata": {
    "ExecuteTime": {
     "end_time": "2023-09-06T04:04:27.648786Z",
     "start_time": "2023-09-06T04:04:27.622479Z"
    }
   },
   "outputs": [
    {
     "data": {
      "text/html": [
       "<div>\n",
       "<style scoped>\n",
       "    .dataframe tbody tr th:only-of-type {\n",
       "        vertical-align: middle;\n",
       "    }\n",
       "\n",
       "    .dataframe tbody tr th {\n",
       "        vertical-align: top;\n",
       "    }\n",
       "\n",
       "    .dataframe thead th {\n",
       "        text-align: right;\n",
       "    }\n",
       "</style>\n",
       "<table border=\"1\" class=\"dataframe\">\n",
       "  <thead>\n",
       "    <tr style=\"text-align: right;\">\n",
       "      <th></th>\n",
       "      <th>CustomerID</th>\n",
       "      <th>Total_payment_year</th>\n",
       "    </tr>\n",
       "  </thead>\n",
       "  <tbody>\n",
       "    <tr>\n",
       "      <th>0</th>\n",
       "      <td>12347.0</td>\n",
       "      <td>3243.62</td>\n",
       "    </tr>\n",
       "    <tr>\n",
       "      <th>1</th>\n",
       "      <td>12348.0</td>\n",
       "      <td>37.40</td>\n",
       "    </tr>\n",
       "    <tr>\n",
       "      <th>2</th>\n",
       "      <td>12349.0</td>\n",
       "      <td>1242.80</td>\n",
       "    </tr>\n",
       "    <tr>\n",
       "      <th>3</th>\n",
       "      <td>12350.0</td>\n",
       "      <td>294.40</td>\n",
       "    </tr>\n",
       "    <tr>\n",
       "      <th>4</th>\n",
       "      <td>12352.0</td>\n",
       "      <td>1385.74</td>\n",
       "    </tr>\n",
       "    <tr>\n",
       "      <th>...</th>\n",
       "      <td>...</td>\n",
       "      <td>...</td>\n",
       "    </tr>\n",
       "    <tr>\n",
       "      <th>4149</th>\n",
       "      <td>18280.0</td>\n",
       "      <td>180.60</td>\n",
       "    </tr>\n",
       "    <tr>\n",
       "      <th>4150</th>\n",
       "      <td>18281.0</td>\n",
       "      <td>31.80</td>\n",
       "    </tr>\n",
       "    <tr>\n",
       "      <th>4151</th>\n",
       "      <td>18282.0</td>\n",
       "      <td>159.09</td>\n",
       "    </tr>\n",
       "    <tr>\n",
       "      <th>4152</th>\n",
       "      <td>18283.0</td>\n",
       "      <td>1736.45</td>\n",
       "    </tr>\n",
       "    <tr>\n",
       "      <th>4153</th>\n",
       "      <td>18287.0</td>\n",
       "      <td>987.44</td>\n",
       "    </tr>\n",
       "  </tbody>\n",
       "</table>\n",
       "<p>4154 rows × 2 columns</p>\n",
       "</div>"
      ],
      "text/plain": [
       "      CustomerID  Total_payment_year\n",
       "0        12347.0             3243.62\n",
       "1        12348.0               37.40\n",
       "2        12349.0             1242.80\n",
       "3        12350.0              294.40\n",
       "4        12352.0             1385.74\n",
       "...          ...                 ...\n",
       "4149     18280.0              180.60\n",
       "4150     18281.0               31.80\n",
       "4151     18282.0              159.09\n",
       "4152     18283.0             1736.45\n",
       "4153     18287.0              987.44\n",
       "\n",
       "[4154 rows x 2 columns]"
      ]
     },
     "execution_count": 57,
     "metadata": {},
     "output_type": "execute_result"
    }
   ],
   "source": [
    "spending = transaction_data.groupby(['CustomerID']).agg(\n",
    "    {'Total_payment': 'sum'})\n",
    "spending.columns = ['Total_payment_year']\n",
    "spending = spending.reset_index()\n",
    "spending "
   ]
  },
  {
   "cell_type": "markdown",
   "id": "bada75ac",
   "metadata": {
    "ExecuteTime": {
     "end_time": "2023-09-06T04:04:31.992808Z",
     "start_time": "2023-09-06T04:04:31.982832Z"
    }
   },
   "source": [
    "Lets create profile spending for customer based on the classification income percentage in Malaysia. 40% first for low spending, 40% next for moderate spending, and last 20% for high spending."
   ]
  },
  {
   "cell_type": "code",
   "execution_count": 59,
   "id": "6925b7de",
   "metadata": {
    "ExecuteTime": {
     "end_time": "2023-09-06T04:04:37.184479Z",
     "start_time": "2023-09-06T04:04:37.174093Z"
    }
   },
   "outputs": [
    {
     "name": "stdout",
     "output_type": "stream",
     "text": [
      "375.732 1489.25\n"
     ]
    }
   ],
   "source": [
    "low_spend_profile,moderate_spend_profile = spending['Total_payment_year'].quantile([0.40,0.80])\n",
    "print(low_spend_profile,moderate_spend_profile )"
   ]
  },
  {
   "cell_type": "code",
   "execution_count": 60,
   "id": "c4d26ec6",
   "metadata": {
    "ExecuteTime": {
     "end_time": "2023-09-06T04:04:43.282118Z",
     "start_time": "2023-09-06T04:04:43.261852Z"
    }
   },
   "outputs": [
    {
     "data": {
      "text/html": [
       "<div>\n",
       "<style scoped>\n",
       "    .dataframe tbody tr th:only-of-type {\n",
       "        vertical-align: middle;\n",
       "    }\n",
       "\n",
       "    .dataframe tbody tr th {\n",
       "        vertical-align: top;\n",
       "    }\n",
       "\n",
       "    .dataframe thead th {\n",
       "        text-align: right;\n",
       "    }\n",
       "</style>\n",
       "<table border=\"1\" class=\"dataframe\">\n",
       "  <thead>\n",
       "    <tr style=\"text-align: right;\">\n",
       "      <th></th>\n",
       "      <th>Profile</th>\n",
       "      <th>Quantile</th>\n",
       "      <th>Total Amount</th>\n",
       "    </tr>\n",
       "  </thead>\n",
       "  <tbody>\n",
       "    <tr>\n",
       "      <th>0</th>\n",
       "      <td>Low</td>\n",
       "      <td>&lt;=40%</td>\n",
       "      <td>&lt;= 375.73</td>\n",
       "    </tr>\n",
       "    <tr>\n",
       "      <th>1</th>\n",
       "      <td>Medium</td>\n",
       "      <td>&lt;80%</td>\n",
       "      <td>&lt; 1489.25</td>\n",
       "    </tr>\n",
       "    <tr>\n",
       "      <th>2</th>\n",
       "      <td>High</td>\n",
       "      <td>&gt;80%</td>\n",
       "      <td>=&gt; 1489.25</td>\n",
       "    </tr>\n",
       "  </tbody>\n",
       "</table>\n",
       "</div>"
      ],
      "text/plain": [
       "  Profile Quantile Total Amount\n",
       "0     Low    <=40%    <= 375.73\n",
       "1  Medium     <80%    < 1489.25\n",
       "2    High     >80%   => 1489.25"
      ]
     },
     "execution_count": 60,
     "metadata": {},
     "output_type": "execute_result"
    }
   ],
   "source": [
    "profile = {\n",
    "    'Profile': ['Low', 'Medium', 'High'],\n",
    "    'Quantile': ['<=40%', '<80%', '>80%'],\n",
    "    'Total Amount': ['<= 375.73', '< 1489.25', '=> 1489.25']\n",
    "}\n",
    "\n",
    "profile = pd.DataFrame(profile)\n",
    "profile"
   ]
  },
  {
   "cell_type": "code",
   "execution_count": 61,
   "id": "6f4bc735",
   "metadata": {
    "ExecuteTime": {
     "end_time": "2023-09-06T04:04:55.846990Z",
     "start_time": "2023-09-06T04:04:52.133503Z"
    }
   },
   "outputs": [
    {
     "data": {
      "text/html": [
       "<div>\n",
       "<style scoped>\n",
       "    .dataframe tbody tr th:only-of-type {\n",
       "        vertical-align: middle;\n",
       "    }\n",
       "\n",
       "    .dataframe tbody tr th {\n",
       "        vertical-align: top;\n",
       "    }\n",
       "\n",
       "    .dataframe thead th {\n",
       "        text-align: right;\n",
       "    }\n",
       "</style>\n",
       "<table border=\"1\" class=\"dataframe\">\n",
       "  <thead>\n",
       "    <tr style=\"text-align: right;\">\n",
       "      <th></th>\n",
       "      <th>CustomerID</th>\n",
       "      <th>Total_payment_year</th>\n",
       "      <th>Profile_spend_year</th>\n",
       "    </tr>\n",
       "  </thead>\n",
       "  <tbody>\n",
       "    <tr>\n",
       "      <th>0</th>\n",
       "      <td>12347.0</td>\n",
       "      <td>3243.62</td>\n",
       "      <td>high</td>\n",
       "    </tr>\n",
       "    <tr>\n",
       "      <th>1</th>\n",
       "      <td>12348.0</td>\n",
       "      <td>37.40</td>\n",
       "      <td>low</td>\n",
       "    </tr>\n",
       "    <tr>\n",
       "      <th>2</th>\n",
       "      <td>12349.0</td>\n",
       "      <td>1242.80</td>\n",
       "      <td>moderate</td>\n",
       "    </tr>\n",
       "    <tr>\n",
       "      <th>3</th>\n",
       "      <td>12350.0</td>\n",
       "      <td>294.40</td>\n",
       "      <td>low</td>\n",
       "    </tr>\n",
       "    <tr>\n",
       "      <th>4</th>\n",
       "      <td>12352.0</td>\n",
       "      <td>1385.74</td>\n",
       "      <td>moderate</td>\n",
       "    </tr>\n",
       "    <tr>\n",
       "      <th>...</th>\n",
       "      <td>...</td>\n",
       "      <td>...</td>\n",
       "      <td>...</td>\n",
       "    </tr>\n",
       "    <tr>\n",
       "      <th>4149</th>\n",
       "      <td>18280.0</td>\n",
       "      <td>180.60</td>\n",
       "      <td>low</td>\n",
       "    </tr>\n",
       "    <tr>\n",
       "      <th>4150</th>\n",
       "      <td>18281.0</td>\n",
       "      <td>31.80</td>\n",
       "      <td>low</td>\n",
       "    </tr>\n",
       "    <tr>\n",
       "      <th>4151</th>\n",
       "      <td>18282.0</td>\n",
       "      <td>159.09</td>\n",
       "      <td>low</td>\n",
       "    </tr>\n",
       "    <tr>\n",
       "      <th>4152</th>\n",
       "      <td>18283.0</td>\n",
       "      <td>1736.45</td>\n",
       "      <td>high</td>\n",
       "    </tr>\n",
       "    <tr>\n",
       "      <th>4153</th>\n",
       "      <td>18287.0</td>\n",
       "      <td>987.44</td>\n",
       "      <td>moderate</td>\n",
       "    </tr>\n",
       "  </tbody>\n",
       "</table>\n",
       "<p>4154 rows × 3 columns</p>\n",
       "</div>"
      ],
      "text/plain": [
       "      CustomerID  Total_payment_year Profile_spend_year\n",
       "0        12347.0             3243.62               high\n",
       "1        12348.0               37.40                low\n",
       "2        12349.0             1242.80           moderate\n",
       "3        12350.0              294.40                low\n",
       "4        12352.0             1385.74           moderate\n",
       "...          ...                 ...                ...\n",
       "4149     18280.0              180.60                low\n",
       "4150     18281.0               31.80                low\n",
       "4151     18282.0              159.09                low\n",
       "4152     18283.0             1736.45               high\n",
       "4153     18287.0              987.44           moderate\n",
       "\n",
       "[4154 rows x 3 columns]"
      ]
     },
     "execution_count": 61,
     "metadata": {},
     "output_type": "execute_result"
    }
   ],
   "source": [
    "# create a function to classify the spend profile\n",
    "def classify_profile(row):\n",
    "    if row['Total_payment_year'] <= (spending['Total_payment_year'].quantile(0.4)):\n",
    "        return 'low'\n",
    "    if row['Total_payment_year'] > (spending['Total_payment_year'].quantile(0.8)):\n",
    "        return 'high'\n",
    "    else:\n",
    "        return 'moderate'\n",
    "\n",
    "# apply the function to create the 'profile_spend' column\n",
    "spending['Profile_spend'] = spending.apply(classify_profile, axis=1)\n",
    "\n",
    "# print the resulting dataframe\n",
    "spending.columns = ['CustomerID','Total_payment_year','Profile_spend_year']\n",
    "spending "
   ]
  },
  {
   "cell_type": "code",
   "execution_count": 62,
   "id": "7f0a6a62",
   "metadata": {
    "ExecuteTime": {
     "end_time": "2023-09-06T04:05:07.588021Z",
     "start_time": "2023-09-06T04:05:07.412879Z"
    }
   },
   "outputs": [
    {
     "data": {
      "text/html": [
       "<div>\n",
       "<style scoped>\n",
       "    .dataframe tbody tr th:only-of-type {\n",
       "        vertical-align: middle;\n",
       "    }\n",
       "\n",
       "    .dataframe tbody tr th {\n",
       "        vertical-align: top;\n",
       "    }\n",
       "\n",
       "    .dataframe thead th {\n",
       "        text-align: right;\n",
       "    }\n",
       "</style>\n",
       "<table border=\"1\" class=\"dataframe\">\n",
       "  <thead>\n",
       "    <tr style=\"text-align: right;\">\n",
       "      <th></th>\n",
       "      <th>InvoiceNo</th>\n",
       "      <th>StockCode</th>\n",
       "      <th>Description</th>\n",
       "      <th>Quantity</th>\n",
       "      <th>InvoiceDate</th>\n",
       "      <th>UnitPrice</th>\n",
       "      <th>CustomerID</th>\n",
       "      <th>Date</th>\n",
       "      <th>Time</th>\n",
       "      <th>Month</th>\n",
       "      <th>Total_payment</th>\n",
       "      <th>Total_payment_year</th>\n",
       "      <th>Profile_spend_year</th>\n",
       "    </tr>\n",
       "  </thead>\n",
       "  <tbody>\n",
       "    <tr>\n",
       "      <th>0</th>\n",
       "      <td>536847</td>\n",
       "      <td>22161</td>\n",
       "      <td>HEART DECORATION RUSTIC HANGING</td>\n",
       "      <td>24</td>\n",
       "      <td>2018-12-01 09:31:00</td>\n",
       "      <td>0.65</td>\n",
       "      <td>17135.0</td>\n",
       "      <td>2018-12-01</td>\n",
       "      <td>09:31:00</td>\n",
       "      <td>2018-12</td>\n",
       "      <td>15.6</td>\n",
       "      <td>603.45</td>\n",
       "      <td>moderate</td>\n",
       "    </tr>\n",
       "    <tr>\n",
       "      <th>1</th>\n",
       "      <td>536847</td>\n",
       "      <td>22065</td>\n",
       "      <td>CHRISTMAS PUDDING TRINKET POT</td>\n",
       "      <td>24</td>\n",
       "      <td>2018-12-01 09:31:00</td>\n",
       "      <td>1.45</td>\n",
       "      <td>17135.0</td>\n",
       "      <td>2018-12-01</td>\n",
       "      <td>09:31:00</td>\n",
       "      <td>2018-12</td>\n",
       "      <td>34.8</td>\n",
       "      <td>603.45</td>\n",
       "      <td>moderate</td>\n",
       "    </tr>\n",
       "    <tr>\n",
       "      <th>2</th>\n",
       "      <td>536847</td>\n",
       "      <td>20956</td>\n",
       "      <td>PORCELAIN T-LIGHT HOLDERS ASSORTED</td>\n",
       "      <td>12</td>\n",
       "      <td>2018-12-01 09:31:00</td>\n",
       "      <td>1.25</td>\n",
       "      <td>17135.0</td>\n",
       "      <td>2018-12-01</td>\n",
       "      <td>09:31:00</td>\n",
       "      <td>2018-12</td>\n",
       "      <td>15.0</td>\n",
       "      <td>603.45</td>\n",
       "      <td>moderate</td>\n",
       "    </tr>\n",
       "    <tr>\n",
       "      <th>3</th>\n",
       "      <td>536847</td>\n",
       "      <td>84347</td>\n",
       "      <td>ROTATING SILVER ANGELS T-LIGHT HLDR</td>\n",
       "      <td>6</td>\n",
       "      <td>2018-12-01 09:31:00</td>\n",
       "      <td>2.55</td>\n",
       "      <td>17135.0</td>\n",
       "      <td>2018-12-01</td>\n",
       "      <td>09:31:00</td>\n",
       "      <td>2018-12</td>\n",
       "      <td>15.3</td>\n",
       "      <td>603.45</td>\n",
       "      <td>moderate</td>\n",
       "    </tr>\n",
       "    <tr>\n",
       "      <th>4</th>\n",
       "      <td>536847</td>\n",
       "      <td>21231</td>\n",
       "      <td>SWEETHEART CERAMIC TRINKET BOX</td>\n",
       "      <td>24</td>\n",
       "      <td>2018-12-01 09:31:00</td>\n",
       "      <td>1.25</td>\n",
       "      <td>17135.0</td>\n",
       "      <td>2018-12-01</td>\n",
       "      <td>09:31:00</td>\n",
       "      <td>2018-12</td>\n",
       "      <td>30.0</td>\n",
       "      <td>603.45</td>\n",
       "      <td>moderate</td>\n",
       "    </tr>\n",
       "  </tbody>\n",
       "</table>\n",
       "</div>"
      ],
      "text/plain": [
       "  InvoiceNo StockCode                          Description  Quantity  \\\n",
       "0    536847     22161     HEART DECORATION RUSTIC HANGING         24   \n",
       "1    536847     22065       CHRISTMAS PUDDING TRINKET POT         24   \n",
       "2    536847     20956   PORCELAIN T-LIGHT HOLDERS ASSORTED        12   \n",
       "3    536847     84347  ROTATING SILVER ANGELS T-LIGHT HLDR         6   \n",
       "4    536847     21231       SWEETHEART CERAMIC TRINKET BOX        24   \n",
       "\n",
       "          InvoiceDate  UnitPrice  CustomerID       Date      Time    Month  \\\n",
       "0 2018-12-01 09:31:00       0.65     17135.0 2018-12-01  09:31:00  2018-12   \n",
       "1 2018-12-01 09:31:00       1.45     17135.0 2018-12-01  09:31:00  2018-12   \n",
       "2 2018-12-01 09:31:00       1.25     17135.0 2018-12-01  09:31:00  2018-12   \n",
       "3 2018-12-01 09:31:00       2.55     17135.0 2018-12-01  09:31:00  2018-12   \n",
       "4 2018-12-01 09:31:00       1.25     17135.0 2018-12-01  09:31:00  2018-12   \n",
       "\n",
       "   Total_payment  Total_payment_year Profile_spend_year  \n",
       "0           15.6              603.45           moderate  \n",
       "1           34.8              603.45           moderate  \n",
       "2           15.0              603.45           moderate  \n",
       "3           15.3              603.45           moderate  \n",
       "4           30.0              603.45           moderate  "
      ]
     },
     "execution_count": 62,
     "metadata": {},
     "output_type": "execute_result"
    }
   ],
   "source": [
    "transaction_data = pd.merge(transaction_data,spending, on='CustomerID')\n",
    "transaction_data.head()"
   ]
  },
  {
   "cell_type": "code",
   "execution_count": 63,
   "id": "f4f445ef",
   "metadata": {
    "ExecuteTime": {
     "end_time": "2023-09-06T04:05:12.798846Z",
     "start_time": "2023-09-06T04:05:12.772160Z"
    }
   },
   "outputs": [
    {
     "data": {
      "text/html": [
       "<div>\n",
       "<style scoped>\n",
       "    .dataframe tbody tr th:only-of-type {\n",
       "        vertical-align: middle;\n",
       "    }\n",
       "\n",
       "    .dataframe tbody tr th {\n",
       "        vertical-align: top;\n",
       "    }\n",
       "\n",
       "    .dataframe thead th {\n",
       "        text-align: right;\n",
       "    }\n",
       "</style>\n",
       "<table border=\"1\" class=\"dataframe\">\n",
       "  <thead>\n",
       "    <tr style=\"text-align: right;\">\n",
       "      <th></th>\n",
       "      <th>InvoiceNo</th>\n",
       "      <th>StockCode</th>\n",
       "      <th>Description</th>\n",
       "      <th>Quantity</th>\n",
       "      <th>InvoiceDate</th>\n",
       "      <th>UnitPrice</th>\n",
       "      <th>CustomerID</th>\n",
       "      <th>Date</th>\n",
       "      <th>Time</th>\n",
       "      <th>Month</th>\n",
       "      <th>Profile_spend_year</th>\n",
       "    </tr>\n",
       "  </thead>\n",
       "  <tbody>\n",
       "    <tr>\n",
       "      <th>0</th>\n",
       "      <td>C536854</td>\n",
       "      <td>22158</td>\n",
       "      <td>3 HEARTS HANGING DECORATION RUSTIC</td>\n",
       "      <td>-1</td>\n",
       "      <td>2018-12-01 10:09:00</td>\n",
       "      <td>2.95</td>\n",
       "      <td>15240.0</td>\n",
       "      <td>2018-12-01</td>\n",
       "      <td>10:09:00</td>\n",
       "      <td>2018-12</td>\n",
       "      <td>moderate</td>\n",
       "    </tr>\n",
       "    <tr>\n",
       "      <th>1</th>\n",
       "      <td>C536854</td>\n",
       "      <td>22944</td>\n",
       "      <td>CHRISTMAS METAL POSTCARD WITH BELLS</td>\n",
       "      <td>-1</td>\n",
       "      <td>2018-12-01 10:09:00</td>\n",
       "      <td>1.25</td>\n",
       "      <td>15240.0</td>\n",
       "      <td>2018-12-01</td>\n",
       "      <td>10:09:00</td>\n",
       "      <td>2018-12</td>\n",
       "      <td>moderate</td>\n",
       "    </tr>\n",
       "    <tr>\n",
       "      <th>2</th>\n",
       "      <td>C536854</td>\n",
       "      <td>21871</td>\n",
       "      <td>SAVE THE PLANET MUG</td>\n",
       "      <td>-1</td>\n",
       "      <td>2018-12-01 10:09:00</td>\n",
       "      <td>1.25</td>\n",
       "      <td>15240.0</td>\n",
       "      <td>2018-12-01</td>\n",
       "      <td>10:09:00</td>\n",
       "      <td>2018-12</td>\n",
       "      <td>moderate</td>\n",
       "    </tr>\n",
       "    <tr>\n",
       "      <th>3</th>\n",
       "      <td>C543779</td>\n",
       "      <td>22083</td>\n",
       "      <td>PAPER CHAIN KIT RETROSPOT</td>\n",
       "      <td>-4</td>\n",
       "      <td>2019-02-09 16:32:00</td>\n",
       "      <td>2.95</td>\n",
       "      <td>15240.0</td>\n",
       "      <td>2019-02-09</td>\n",
       "      <td>16:32:00</td>\n",
       "      <td>2019-02</td>\n",
       "      <td>moderate</td>\n",
       "    </tr>\n",
       "    <tr>\n",
       "      <th>4</th>\n",
       "      <td>C543779</td>\n",
       "      <td>21218</td>\n",
       "      <td>RED SPOTTY BISCUIT TIN</td>\n",
       "      <td>-1</td>\n",
       "      <td>2019-02-09 16:32:00</td>\n",
       "      <td>3.75</td>\n",
       "      <td>15240.0</td>\n",
       "      <td>2019-02-09</td>\n",
       "      <td>16:32:00</td>\n",
       "      <td>2019-02</td>\n",
       "      <td>moderate</td>\n",
       "    </tr>\n",
       "  </tbody>\n",
       "</table>\n",
       "</div>"
      ],
      "text/plain": [
       "  InvoiceNo StockCode                          Description  Quantity  \\\n",
       "0   C536854     22158   3 HEARTS HANGING DECORATION RUSTIC        -1   \n",
       "1   C536854     22944  CHRISTMAS METAL POSTCARD WITH BELLS        -1   \n",
       "2   C536854     21871                  SAVE THE PLANET MUG        -1   \n",
       "3   C543779     22083            PAPER CHAIN KIT RETROSPOT        -4   \n",
       "4   C543779     21218               RED SPOTTY BISCUIT TIN        -1   \n",
       "\n",
       "          InvoiceDate  UnitPrice  CustomerID       Date      Time    Month  \\\n",
       "0 2018-12-01 10:09:00       2.95     15240.0 2018-12-01  10:09:00  2018-12   \n",
       "1 2018-12-01 10:09:00       1.25     15240.0 2018-12-01  10:09:00  2018-12   \n",
       "2 2018-12-01 10:09:00       1.25     15240.0 2018-12-01  10:09:00  2018-12   \n",
       "3 2019-02-09 16:32:00       2.95     15240.0 2019-02-09  16:32:00  2019-02   \n",
       "4 2019-02-09 16:32:00       3.75     15240.0 2019-02-09  16:32:00  2019-02   \n",
       "\n",
       "  Profile_spend_year  \n",
       "0           moderate  \n",
       "1           moderate  \n",
       "2           moderate  \n",
       "3           moderate  \n",
       "4           moderate  "
      ]
     },
     "execution_count": 63,
     "metadata": {},
     "output_type": "execute_result"
    }
   ],
   "source": [
    "returned_data = pd.merge(returned_data,spending[['CustomerID','Profile_spend_year']], on='CustomerID')\n",
    "returned_data.head()"
   ]
  },
  {
   "cell_type": "code",
   "execution_count": 64,
   "id": "03d4cfee",
   "metadata": {
    "ExecuteTime": {
     "end_time": "2023-09-06T04:05:17.223644Z",
     "start_time": "2023-09-06T04:05:17.036497Z"
    }
   },
   "outputs": [
    {
     "data": {
      "image/png": "[encoded data removed]",
      "text/plain": [
       "<Figure size 1000x400 with 2 Axes>"
      ]
     },
     "metadata": {},
     "output_type": "display_data"
    }
   ],
   "source": [
    "profile_count = transaction_data.groupby('Profile_spend_year').agg({'CustomerID':'nunique'}).reset_index()\n",
    "returned_distribution = returned_data.groupby('Profile_spend_year').agg({'CustomerID':'nunique'}).reset_index()\n",
    "\n",
    "# Create the pie charts\n",
    "fig, axs = plt.subplots(1, 2, figsize=(10, 4))\n",
    "axs[1].pie(returned_distribution['CustomerID'], labels=returned_distribution['Profile_spend_year'], autopct=lambda pct: f\"{pct:.1f}%\\n{int(pct/100*sum(returned_distribution['CustomerID']))}\")\n",
    "axs[0].pie(profile_count['CustomerID'], labels=profile_count['Profile_spend_year'], autopct=lambda pct: f\"{pct:.1f}%\\n{int(pct/100*sum(profile_count['CustomerID']))}\")\n",
    "\n",
    "# Add titles\n",
    "axs[1].set_title('Customer Profile Returned Distribution')\n",
    "axs[0].set_title('Customer Profile Transaction Distribution')\n",
    "\n",
    "# Adjust spacing between subplots\n",
    "plt.tight_layout()\n",
    "\n",
    "# Display the charts\n",
    "plt.show()"
   ]
  },
  {
   "cell_type": "markdown",
   "id": "fa10dc20",
   "metadata": {
    "ExecuteTime": {
     "end_time": "2023-09-06T04:05:22.927582Z",
     "start_time": "2023-09-06T04:05:22.924262Z"
    }
   },
   "source": [
    "## Analysis based on time period"
   ]
  },
  {
   "cell_type": "markdown",
   "id": "4335ed93",
   "metadata": {},
   "source": [
    "### Total payment in transaction per month"
   ]
  },
  {
   "cell_type": "code",
   "execution_count": 66,
   "id": "771a4b66",
   "metadata": {
    "ExecuteTime": {
     "end_time": "2023-09-06T04:05:34.274797Z",
     "start_time": "2023-09-06T04:05:34.227801Z"
    }
   },
   "outputs": [
    {
     "data": {
      "text/html": [
       "<div>\n",
       "<style scoped>\n",
       "    .dataframe tbody tr th:only-of-type {\n",
       "        vertical-align: middle;\n",
       "    }\n",
       "\n",
       "    .dataframe tbody tr th {\n",
       "        vertical-align: top;\n",
       "    }\n",
       "\n",
       "    .dataframe thead th {\n",
       "        text-align: right;\n",
       "    }\n",
       "</style>\n",
       "<table border=\"1\" class=\"dataframe\">\n",
       "  <thead>\n",
       "    <tr style=\"text-align: right;\">\n",
       "      <th></th>\n",
       "      <th>Month</th>\n",
       "      <th>Total_payment</th>\n",
       "    </tr>\n",
       "  </thead>\n",
       "  <tbody>\n",
       "    <tr>\n",
       "      <th>0</th>\n",
       "      <td>2018-12</td>\n",
       "      <td>284855.13</td>\n",
       "    </tr>\n",
       "    <tr>\n",
       "      <th>1</th>\n",
       "      <td>2019-01</td>\n",
       "      <td>304155.86</td>\n",
       "    </tr>\n",
       "    <tr>\n",
       "      <th>2</th>\n",
       "      <td>2019-02</td>\n",
       "      <td>259782.33</td>\n",
       "    </tr>\n",
       "    <tr>\n",
       "      <th>3</th>\n",
       "      <td>2019-03</td>\n",
       "      <td>327362.20</td>\n",
       "    </tr>\n",
       "    <tr>\n",
       "      <th>4</th>\n",
       "      <td>2019-04</td>\n",
       "      <td>271162.42</td>\n",
       "    </tr>\n",
       "    <tr>\n",
       "      <th>5</th>\n",
       "      <td>2019-05</td>\n",
       "      <td>408048.74</td>\n",
       "    </tr>\n",
       "    <tr>\n",
       "      <th>6</th>\n",
       "      <td>2019-06</td>\n",
       "      <td>323777.70</td>\n",
       "    </tr>\n",
       "    <tr>\n",
       "      <th>7</th>\n",
       "      <td>2019-07</td>\n",
       "      <td>344783.64</td>\n",
       "    </tr>\n",
       "    <tr>\n",
       "      <th>8</th>\n",
       "      <td>2019-08</td>\n",
       "      <td>355407.49</td>\n",
       "    </tr>\n",
       "    <tr>\n",
       "      <th>9</th>\n",
       "      <td>2019-09</td>\n",
       "      <td>504388.21</td>\n",
       "    </tr>\n",
       "    <tr>\n",
       "      <th>10</th>\n",
       "      <td>2019-10</td>\n",
       "      <td>614957.13</td>\n",
       "    </tr>\n",
       "    <tr>\n",
       "      <th>11</th>\n",
       "      <td>2019-11</td>\n",
       "      <td>731719.27</td>\n",
       "    </tr>\n",
       "  </tbody>\n",
       "</table>\n",
       "</div>"
      ],
      "text/plain": [
       "      Month  Total_payment\n",
       "0   2018-12      284855.13\n",
       "1   2019-01      304155.86\n",
       "2   2019-02      259782.33\n",
       "3   2019-03      327362.20\n",
       "4   2019-04      271162.42\n",
       "5   2019-05      408048.74\n",
       "6   2019-06      323777.70\n",
       "7   2019-07      344783.64\n",
       "8   2019-08      355407.49\n",
       "9   2019-09      504388.21\n",
       "10  2019-10      614957.13\n",
       "11  2019-11      731719.27"
      ]
     },
     "execution_count": 66,
     "metadata": {},
     "output_type": "execute_result"
    }
   ],
   "source": [
    "transaction_per_month = (transaction_data.groupby('Month').agg({'Total_payment':'sum'})).reset_index()\n",
    "transaction_per_month"
   ]
  },
  {
   "cell_type": "code",
   "execution_count": 67,
   "id": "4120b465",
   "metadata": {
    "ExecuteTime": {
     "end_time": "2023-09-06T04:05:39.142097Z",
     "start_time": "2023-09-06T04:05:38.939488Z"
    }
   },
   "outputs": [
    {
     "data": {
      "image/png": "[encoded data removed]",
      "text/plain": [
       "<Figure size 1200x400 with 1 Axes>"
      ]
     },
     "metadata": {},
     "output_type": "display_data"
    }
   ],
   "source": [
    "plt.subplots(figsize=(12, 4))\n",
    "sns.barplot(data=transaction_per_month, x=\"Month\", y=\"Total_payment\")\n",
    "\n",
    "plt.xlabel('Month')\n",
    "plt.ylabel('Total payment')\n",
    "plt.title('Total payment per month')\n",
    "\n",
    "plt.show()"
   ]
  },
  {
   "cell_type": "markdown",
   "id": "fc9ece8f",
   "metadata": {},
   "source": [
    "**Summary**\n",
    "\n",
    "- **Monthly total payment fluctuations:** The total payment varies from month to month, indicating fluctuations in profit. For example, there is a noticeable increase in profit from January 2019 to May 2019, followed by a decrease in June 2019.\n",
    "\n",
    "\n",
    "- **Seasonal Trends:** By observing the monthly profit figures, there are potential seasonal trends or patterns in the business. For instance, there a consistent increase or decrease in profit during certain months across multiple years, it may indicate the influence of seasonal factors.\n",
    "\n",
    "\n",
    "- **Growth and Decline:** Comparing the total payment figures over consecutive months, it can determine where the periods of growth or decline in the business. For instance, there is a significant increase in profit from September 2019 to November 2019. Here, we can assumed that there will be an increased in payment transaction during December 2019 and it much higher compared with December 2018. \n",
    "\n",
    "\n",
    "- **Identify Peaks and Troughs:** Look for months with exceptionally high or low profits compared to the surrounding months. These peaks and troughs can provide insights into events, campaigns, or external factors that affected the business during those periods.\n",
    "\n",
    "\n",
    "- **Establishing Goals:** By analyzing the data, we can set realistic and achievable goals for the business. For example, we can create a goals for December 2019 and for the next year target that can aim to surpass the highest profit month in the following year or we can identify months where improvement is required like in February, April, and June where the fluctuation happens.\n",
    "\n",
    "\n",
    "Last but not least, it is important to note that this summary is based solely on the provided data and does not take into account external factors or provide a comprehensive analysis. Additional data points and conduct a more thorough examination using appropriate statistical methods are needed would be beneficial to gain a deeper understanding with the trends and why it occurs during that time."
   ]
  },
  {
   "cell_type": "markdown",
   "id": "6a3c86a1",
   "metadata": {
    "ExecuteTime": {
     "end_time": "2023-09-06T04:05:51.375822Z",
     "start_time": "2023-09-06T04:05:51.362609Z"
    }
   },
   "source": [
    "### Number of customer that do transaction per month"
   ]
  },
  {
   "cell_type": "code",
   "execution_count": 69,
   "id": "a8aee063",
   "metadata": {
    "ExecuteTime": {
     "end_time": "2023-09-06T04:05:56.727954Z",
     "start_time": "2023-09-06T04:05:56.667326Z"
    }
   },
   "outputs": [
    {
     "data": {
      "text/html": [
       "<div>\n",
       "<style scoped>\n",
       "    .dataframe tbody tr th:only-of-type {\n",
       "        vertical-align: middle;\n",
       "    }\n",
       "\n",
       "    .dataframe tbody tr th {\n",
       "        vertical-align: top;\n",
       "    }\n",
       "\n",
       "    .dataframe thead th {\n",
       "        text-align: right;\n",
       "    }\n",
       "</style>\n",
       "<table border=\"1\" class=\"dataframe\">\n",
       "  <thead>\n",
       "    <tr style=\"text-align: right;\">\n",
       "      <th></th>\n",
       "      <th>Month</th>\n",
       "      <th>Customer_count</th>\n",
       "    </tr>\n",
       "  </thead>\n",
       "  <tbody>\n",
       "    <tr>\n",
       "      <th>0</th>\n",
       "      <td>2018-12</td>\n",
       "      <td>732</td>\n",
       "    </tr>\n",
       "    <tr>\n",
       "      <th>1</th>\n",
       "      <td>2019-01</td>\n",
       "      <td>768</td>\n",
       "    </tr>\n",
       "    <tr>\n",
       "      <th>2</th>\n",
       "      <td>2019-02</td>\n",
       "      <td>702</td>\n",
       "    </tr>\n",
       "    <tr>\n",
       "      <th>3</th>\n",
       "      <td>2019-03</td>\n",
       "      <td>906</td>\n",
       "    </tr>\n",
       "    <tr>\n",
       "      <th>4</th>\n",
       "      <td>2019-04</td>\n",
       "      <td>788</td>\n",
       "    </tr>\n",
       "    <tr>\n",
       "      <th>5</th>\n",
       "      <td>2019-05</td>\n",
       "      <td>1035</td>\n",
       "    </tr>\n",
       "    <tr>\n",
       "      <th>6</th>\n",
       "      <td>2019-06</td>\n",
       "      <td>933</td>\n",
       "    </tr>\n",
       "    <tr>\n",
       "      <th>7</th>\n",
       "      <td>2019-07</td>\n",
       "      <td>927</td>\n",
       "    </tr>\n",
       "    <tr>\n",
       "      <th>8</th>\n",
       "      <td>2019-08</td>\n",
       "      <td>897</td>\n",
       "    </tr>\n",
       "    <tr>\n",
       "      <th>9</th>\n",
       "      <td>2019-09</td>\n",
       "      <td>1161</td>\n",
       "    </tr>\n",
       "    <tr>\n",
       "      <th>10</th>\n",
       "      <td>2019-10</td>\n",
       "      <td>1392</td>\n",
       "    </tr>\n",
       "    <tr>\n",
       "      <th>11</th>\n",
       "      <td>2019-11</td>\n",
       "      <td>1619</td>\n",
       "    </tr>\n",
       "  </tbody>\n",
       "</table>\n",
       "</div>"
      ],
      "text/plain": [
       "      Month  Customer_count\n",
       "0   2018-12             732\n",
       "1   2019-01             768\n",
       "2   2019-02             702\n",
       "3   2019-03             906\n",
       "4   2019-04             788\n",
       "5   2019-05            1035\n",
       "6   2019-06             933\n",
       "7   2019-07             927\n",
       "8   2019-08             897\n",
       "9   2019-09            1161\n",
       "10  2019-10            1392\n",
       "11  2019-11            1619"
      ]
     },
     "execution_count": 69,
     "metadata": {},
     "output_type": "execute_result"
    }
   ],
   "source": [
    "buyers_per_month = (transaction_data.groupby('Month').agg({'CustomerID':'nunique'})).reset_index()\n",
    "buyers_per_month.columns = ['Month','Customer_count']\n",
    "buyers_per_month"
   ]
  },
  {
   "cell_type": "code",
   "execution_count": 70,
   "id": "f8435a18",
   "metadata": {
    "ExecuteTime": {
     "end_time": "2023-09-06T04:06:01.138582Z",
     "start_time": "2023-09-06T04:06:00.866225Z"
    }
   },
   "outputs": [
    {
     "data": {
      "image/png": "[encoded data removed]",
      "text/plain": [
       "<Figure size 1200x400 with 1 Axes>"
      ]
     },
     "metadata": {},
     "output_type": "display_data"
    }
   ],
   "source": [
    "plt.subplots(figsize=(12, 4))\n",
    "sns.barplot(data=buyers_per_month, x=\"Month\", y=\"Customer_count\")\n",
    "\n",
    "plt.xlabel('Month')\n",
    "plt.ylabel('Number of customer')\n",
    "plt.title('Number of customer per month')\n",
    "\n",
    "plt.show()"
   ]
  },
  {
   "cell_type": "markdown",
   "id": "f61c4fce",
   "metadata": {},
   "source": [
    "**Summary**\n",
    "\n",
    "- **Customer Count Fluctuations:** The number of customers varies from month to month, indicating fluctuations in customer activity or behavior. For example, there is an increase in customer count from January 2019 to March 2019, followed by a slight decrease in April 2019.\n",
    "\n",
    "\n",
    "- **Seasonal Trends:** By observing the monthly customer count figures, there are a potential seasonal trends or patterns in customer behavior. For instance, there are a consistent increase or decrease in customer count during certain months that may indicate the influence of seasonal factors on customer engagement.\n",
    "\n",
    "\n",
    "- **Growth and Decline:** Comparing the customer count figures over consecutive months, we can see the trend for the periods of growth or decline in customer engagement for 1 year periods. For instance, there is a significant increase and decrease in the customer count from December 2018 to November 2019.\n",
    "\n",
    "\n",
    "- **Customer Acquisition and Retention:** The customer count data allows to assess the effectiveness of for the customer acquisition and retention strategies. For example, if there are consistent increases in customer count, it may indicate successful acquisition efforts. Conversely, if there are declines in customer count, it may signal a need to focus on customer retention strategies.\n",
    "\n",
    "\n",
    "- **Forecasting and Planning:** By understanding the fluctuations and trends in customer count, we has some information to  forecasts and plans for future ecommerce operations. This information can help to allocate resources, adjust marketing strategies, and optimize customer engagement initiatives.\n",
    "\n",
    "Last but not least, it is important to note that this summary is based solely on the provided data and does not take into account external factors or provide a comprehensive analysis. Additional data points and conduct a more thorough examination using appropriate statistical methods are needed would be beneficial to gain a deeper understanding with the trends and why it occurs during that time."
   ]
  },
  {
   "cell_type": "markdown",
   "id": "9aaa3f88",
   "metadata": {},
   "source": [
    "### Relationship between the number of customer and the total payment in transaction per month  "
   ]
  },
  {
   "cell_type": "code",
   "execution_count": 71,
   "id": "5a89ebee",
   "metadata": {
    "ExecuteTime": {
     "end_time": "2023-09-06T04:06:20.205855Z",
     "start_time": "2023-09-06T04:06:20.185948Z"
    }
   },
   "outputs": [
    {
     "data": {
      "text/html": [
       "<div>\n",
       "<style scoped>\n",
       "    .dataframe tbody tr th:only-of-type {\n",
       "        vertical-align: middle;\n",
       "    }\n",
       "\n",
       "    .dataframe tbody tr th {\n",
       "        vertical-align: top;\n",
       "    }\n",
       "\n",
       "    .dataframe thead th {\n",
       "        text-align: right;\n",
       "    }\n",
       "</style>\n",
       "<table border=\"1\" class=\"dataframe\">\n",
       "  <thead>\n",
       "    <tr style=\"text-align: right;\">\n",
       "      <th></th>\n",
       "      <th>Month</th>\n",
       "      <th>Customer_count</th>\n",
       "      <th>Total_payment</th>\n",
       "    </tr>\n",
       "  </thead>\n",
       "  <tbody>\n",
       "    <tr>\n",
       "      <th>0</th>\n",
       "      <td>2018-12</td>\n",
       "      <td>732</td>\n",
       "      <td>284855.13</td>\n",
       "    </tr>\n",
       "    <tr>\n",
       "      <th>1</th>\n",
       "      <td>2019-01</td>\n",
       "      <td>768</td>\n",
       "      <td>304155.86</td>\n",
       "    </tr>\n",
       "    <tr>\n",
       "      <th>2</th>\n",
       "      <td>2019-02</td>\n",
       "      <td>702</td>\n",
       "      <td>259782.33</td>\n",
       "    </tr>\n",
       "    <tr>\n",
       "      <th>3</th>\n",
       "      <td>2019-03</td>\n",
       "      <td>906</td>\n",
       "      <td>327362.20</td>\n",
       "    </tr>\n",
       "    <tr>\n",
       "      <th>4</th>\n",
       "      <td>2019-04</td>\n",
       "      <td>788</td>\n",
       "      <td>271162.42</td>\n",
       "    </tr>\n",
       "    <tr>\n",
       "      <th>5</th>\n",
       "      <td>2019-05</td>\n",
       "      <td>1035</td>\n",
       "      <td>408048.74</td>\n",
       "    </tr>\n",
       "    <tr>\n",
       "      <th>6</th>\n",
       "      <td>2019-06</td>\n",
       "      <td>933</td>\n",
       "      <td>323777.70</td>\n",
       "    </tr>\n",
       "    <tr>\n",
       "      <th>7</th>\n",
       "      <td>2019-07</td>\n",
       "      <td>927</td>\n",
       "      <td>344783.64</td>\n",
       "    </tr>\n",
       "    <tr>\n",
       "      <th>8</th>\n",
       "      <td>2019-08</td>\n",
       "      <td>897</td>\n",
       "      <td>355407.49</td>\n",
       "    </tr>\n",
       "    <tr>\n",
       "      <th>9</th>\n",
       "      <td>2019-09</td>\n",
       "      <td>1161</td>\n",
       "      <td>504388.21</td>\n",
       "    </tr>\n",
       "    <tr>\n",
       "      <th>10</th>\n",
       "      <td>2019-10</td>\n",
       "      <td>1392</td>\n",
       "      <td>614957.13</td>\n",
       "    </tr>\n",
       "    <tr>\n",
       "      <th>11</th>\n",
       "      <td>2019-11</td>\n",
       "      <td>1619</td>\n",
       "      <td>731719.27</td>\n",
       "    </tr>\n",
       "  </tbody>\n",
       "</table>\n",
       "</div>"
      ],
      "text/plain": [
       "      Month  Customer_count  Total_payment\n",
       "0   2018-12             732      284855.13\n",
       "1   2019-01             768      304155.86\n",
       "2   2019-02             702      259782.33\n",
       "3   2019-03             906      327362.20\n",
       "4   2019-04             788      271162.42\n",
       "5   2019-05            1035      408048.74\n",
       "6   2019-06             933      323777.70\n",
       "7   2019-07             927      344783.64\n",
       "8   2019-08             897      355407.49\n",
       "9   2019-09            1161      504388.21\n",
       "10  2019-10            1392      614957.13\n",
       "11  2019-11            1619      731719.27"
      ]
     },
     "execution_count": 71,
     "metadata": {},
     "output_type": "execute_result"
    }
   ],
   "source": [
    "customer_transaction_rel =  pd.merge(buyers_per_month,transaction_per_month,on='Month')\n",
    "customer_transaction_rel"
   ]
  },
  {
   "cell_type": "code",
   "execution_count": 72,
   "id": "eef3e10d",
   "metadata": {
    "ExecuteTime": {
     "end_time": "2023-09-06T04:06:25.078615Z",
     "start_time": "2023-09-06T04:06:24.745264Z"
    }
   },
   "outputs": [
    {
     "data": {
      "image/png": "[encoded data removed]",
      "text/plain": [
       "<Figure size 1000x400 with 2 Axes>"
      ]
     },
     "metadata": {},
     "output_type": "display_data"
    }
   ],
   "source": [
    "# create a figure with two subplots\n",
    "fig, axs = plt.subplots(1, 2, figsize=(10, 4))\n",
    "\n",
    "# plot the histogram of transaction data on the first subplot\n",
    "sns.lineplot(data=customer_transaction_rel, x='Month',y='Customer_count', ax=axs[0])\n",
    "axs[0].set_title('Customer count')\n",
    "axs[0].tick_params(axis='x', rotation=30)\n",
    "\n",
    "# plot the histogram of returned data on the second subplot\n",
    "sns.lineplot(data=customer_transaction_rel, x='Month',y='Total_payment', ax=axs[1])\n",
    "axs[1].set_title('Total payment')\n",
    "axs[1].tick_params(axis='x', rotation=30)\n",
    "\n",
    "# adjust the layout and show the plot\n",
    "plt.tight_layout()\n",
    "plt.show()"
   ]
  },
  {
   "cell_type": "code",
   "execution_count": 73,
   "id": "14088313",
   "metadata": {
    "ExecuteTime": {
     "end_time": "2023-09-06T04:06:29.269934Z",
     "start_time": "2023-09-06T04:06:29.121594Z"
    }
   },
   "outputs": [
    {
     "data": {
      "image/png": "[encoded data removed]",
      "text/plain": [
       "<Figure size 500x500 with 2 Axes>"
      ]
     },
     "metadata": {},
     "output_type": "display_data"
    }
   ],
   "source": [
    "# build and render a correlation matrix\n",
    "ct_cor = customer_transaction_rel.corr() # calculate correlation matrix\n",
    "fig, ax = plt.subplots(figsize =(5, 5))\n",
    "\n",
    "# plot an annotated heatmap for the correlation matrix\n",
    "sns.heatmap(ct_cor, annot = True, square=True) \n",
    "plt.show()"
   ]
  },
  {
   "cell_type": "markdown",
   "id": "e126d8b7",
   "metadata": {},
   "source": [
    "**Summary**\n",
    "\n",
    "- **Correlation:** A positive correlation between customer count and total payment meaning that as the number of customers increases, the total payment also tends to increase. It means that more customers would contribute to higher revenue.\n",
    "\n",
    "\n",
    "- **Outliers:** Sharp increase in both customer count and total payment between September 2019 and October 2019. This significant jump could be attributed to specific events or promotions during that period, which attracted a larger customer base and resulted in higher payments.\n",
    "\n",
    "Overall, while the customer count and total payment exhibit a positive relationship and show an increasing trend over time.  Further analysis and consideration of other variables may provide deeper insights into this relationship."
   ]
  },
  {
   "cell_type": "markdown",
   "id": "1c3d7034",
   "metadata": {},
   "source": [
    "## Analysis based on Customer Profile "
   ]
  },
  {
   "cell_type": "markdown",
   "id": "929b849e",
   "metadata": {
    "ExecuteTime": {
     "end_time": "2023-09-06T04:06:44.376988Z",
     "start_time": "2023-09-06T04:06:44.368985Z"
    }
   },
   "source": [
    "### Relationship between Customer profile and the average quantity"
   ]
  },
  {
   "cell_type": "code",
   "execution_count": 75,
   "id": "6ca94ada",
   "metadata": {
    "ExecuteTime": {
     "end_time": "2023-09-06T04:06:50.364849Z",
     "start_time": "2023-09-06T04:06:50.296234Z"
    }
   },
   "outputs": [
    {
     "data": {
      "text/html": [
       "<div>\n",
       "<style scoped>\n",
       "    .dataframe tbody tr th:only-of-type {\n",
       "        vertical-align: middle;\n",
       "    }\n",
       "\n",
       "    .dataframe tbody tr th {\n",
       "        vertical-align: top;\n",
       "    }\n",
       "\n",
       "    .dataframe thead th {\n",
       "        text-align: right;\n",
       "    }\n",
       "</style>\n",
       "<table border=\"1\" class=\"dataframe\">\n",
       "  <thead>\n",
       "    <tr style=\"text-align: right;\">\n",
       "      <th></th>\n",
       "      <th>Profile_spend_year</th>\n",
       "      <th>Month</th>\n",
       "      <th>Avg Quantity</th>\n",
       "    </tr>\n",
       "  </thead>\n",
       "  <tbody>\n",
       "    <tr>\n",
       "      <th>0</th>\n",
       "      <td>high</td>\n",
       "      <td>2018-12</td>\n",
       "      <td>6.891155</td>\n",
       "    </tr>\n",
       "    <tr>\n",
       "      <th>1</th>\n",
       "      <td>high</td>\n",
       "      <td>2019-01</td>\n",
       "      <td>6.810662</td>\n",
       "    </tr>\n",
       "    <tr>\n",
       "      <th>2</th>\n",
       "      <td>high</td>\n",
       "      <td>2019-02</td>\n",
       "      <td>6.693534</td>\n",
       "    </tr>\n",
       "    <tr>\n",
       "      <th>3</th>\n",
       "      <td>high</td>\n",
       "      <td>2019-03</td>\n",
       "      <td>6.526612</td>\n",
       "    </tr>\n",
       "    <tr>\n",
       "      <th>4</th>\n",
       "      <td>high</td>\n",
       "      <td>2019-04</td>\n",
       "      <td>6.884061</td>\n",
       "    </tr>\n",
       "    <tr>\n",
       "      <th>5</th>\n",
       "      <td>high</td>\n",
       "      <td>2019-05</td>\n",
       "      <td>6.923603</td>\n",
       "    </tr>\n",
       "    <tr>\n",
       "      <th>6</th>\n",
       "      <td>high</td>\n",
       "      <td>2019-06</td>\n",
       "      <td>6.744766</td>\n",
       "    </tr>\n",
       "    <tr>\n",
       "      <th>7</th>\n",
       "      <td>high</td>\n",
       "      <td>2019-07</td>\n",
       "      <td>7.246687</td>\n",
       "    </tr>\n",
       "    <tr>\n",
       "      <th>8</th>\n",
       "      <td>high</td>\n",
       "      <td>2019-08</td>\n",
       "      <td>7.363704</td>\n",
       "    </tr>\n",
       "    <tr>\n",
       "      <th>9</th>\n",
       "      <td>high</td>\n",
       "      <td>2019-09</td>\n",
       "      <td>7.027994</td>\n",
       "    </tr>\n",
       "    <tr>\n",
       "      <th>10</th>\n",
       "      <td>high</td>\n",
       "      <td>2019-10</td>\n",
       "      <td>6.697708</td>\n",
       "    </tr>\n",
       "    <tr>\n",
       "      <th>11</th>\n",
       "      <td>high</td>\n",
       "      <td>2019-11</td>\n",
       "      <td>6.570903</td>\n",
       "    </tr>\n",
       "    <tr>\n",
       "      <th>12</th>\n",
       "      <td>low</td>\n",
       "      <td>2018-12</td>\n",
       "      <td>3.960731</td>\n",
       "    </tr>\n",
       "    <tr>\n",
       "      <th>13</th>\n",
       "      <td>low</td>\n",
       "      <td>2019-01</td>\n",
       "      <td>5.735053</td>\n",
       "    </tr>\n",
       "    <tr>\n",
       "      <th>14</th>\n",
       "      <td>low</td>\n",
       "      <td>2019-02</td>\n",
       "      <td>5.542810</td>\n",
       "    </tr>\n",
       "    <tr>\n",
       "      <th>15</th>\n",
       "      <td>low</td>\n",
       "      <td>2019-03</td>\n",
       "      <td>5.246737</td>\n",
       "    </tr>\n",
       "    <tr>\n",
       "      <th>16</th>\n",
       "      <td>low</td>\n",
       "      <td>2019-04</td>\n",
       "      <td>5.953887</td>\n",
       "    </tr>\n",
       "    <tr>\n",
       "      <th>17</th>\n",
       "      <td>low</td>\n",
       "      <td>2019-05</td>\n",
       "      <td>5.833227</td>\n",
       "    </tr>\n",
       "    <tr>\n",
       "      <th>18</th>\n",
       "      <td>low</td>\n",
       "      <td>2019-06</td>\n",
       "      <td>5.291146</td>\n",
       "    </tr>\n",
       "    <tr>\n",
       "      <th>19</th>\n",
       "      <td>low</td>\n",
       "      <td>2019-07</td>\n",
       "      <td>5.006532</td>\n",
       "    </tr>\n",
       "    <tr>\n",
       "      <th>20</th>\n",
       "      <td>low</td>\n",
       "      <td>2019-08</td>\n",
       "      <td>5.677661</td>\n",
       "    </tr>\n",
       "    <tr>\n",
       "      <th>21</th>\n",
       "      <td>low</td>\n",
       "      <td>2019-09</td>\n",
       "      <td>6.426332</td>\n",
       "    </tr>\n",
       "    <tr>\n",
       "      <th>22</th>\n",
       "      <td>low</td>\n",
       "      <td>2019-10</td>\n",
       "      <td>5.145574</td>\n",
       "    </tr>\n",
       "    <tr>\n",
       "      <th>23</th>\n",
       "      <td>low</td>\n",
       "      <td>2019-11</td>\n",
       "      <td>4.157986</td>\n",
       "    </tr>\n",
       "    <tr>\n",
       "      <th>24</th>\n",
       "      <td>moderate</td>\n",
       "      <td>2018-12</td>\n",
       "      <td>5.149325</td>\n",
       "    </tr>\n",
       "    <tr>\n",
       "      <th>25</th>\n",
       "      <td>moderate</td>\n",
       "      <td>2019-01</td>\n",
       "      <td>5.840038</td>\n",
       "    </tr>\n",
       "    <tr>\n",
       "      <th>26</th>\n",
       "      <td>moderate</td>\n",
       "      <td>2019-02</td>\n",
       "      <td>6.369331</td>\n",
       "    </tr>\n",
       "    <tr>\n",
       "      <th>27</th>\n",
       "      <td>moderate</td>\n",
       "      <td>2019-03</td>\n",
       "      <td>6.464555</td>\n",
       "    </tr>\n",
       "    <tr>\n",
       "      <th>28</th>\n",
       "      <td>moderate</td>\n",
       "      <td>2019-04</td>\n",
       "      <td>5.932636</td>\n",
       "    </tr>\n",
       "    <tr>\n",
       "      <th>29</th>\n",
       "      <td>moderate</td>\n",
       "      <td>2019-05</td>\n",
       "      <td>6.673535</td>\n",
       "    </tr>\n",
       "    <tr>\n",
       "      <th>30</th>\n",
       "      <td>moderate</td>\n",
       "      <td>2019-06</td>\n",
       "      <td>6.034580</td>\n",
       "    </tr>\n",
       "    <tr>\n",
       "      <th>31</th>\n",
       "      <td>moderate</td>\n",
       "      <td>2019-07</td>\n",
       "      <td>6.416023</td>\n",
       "    </tr>\n",
       "    <tr>\n",
       "      <th>32</th>\n",
       "      <td>moderate</td>\n",
       "      <td>2019-08</td>\n",
       "      <td>6.756465</td>\n",
       "    </tr>\n",
       "    <tr>\n",
       "      <th>33</th>\n",
       "      <td>moderate</td>\n",
       "      <td>2019-09</td>\n",
       "      <td>6.773982</td>\n",
       "    </tr>\n",
       "    <tr>\n",
       "      <th>34</th>\n",
       "      <td>moderate</td>\n",
       "      <td>2019-10</td>\n",
       "      <td>5.900708</td>\n",
       "    </tr>\n",
       "    <tr>\n",
       "      <th>35</th>\n",
       "      <td>moderate</td>\n",
       "      <td>2019-11</td>\n",
       "      <td>5.658850</td>\n",
       "    </tr>\n",
       "  </tbody>\n",
       "</table>\n",
       "</div>"
      ],
      "text/plain": [
       "   Profile_spend_year    Month  Avg Quantity\n",
       "0                high  2018-12      6.891155\n",
       "1                high  2019-01      6.810662\n",
       "2                high  2019-02      6.693534\n",
       "3                high  2019-03      6.526612\n",
       "4                high  2019-04      6.884061\n",
       "5                high  2019-05      6.923603\n",
       "6                high  2019-06      6.744766\n",
       "7                high  2019-07      7.246687\n",
       "8                high  2019-08      7.363704\n",
       "9                high  2019-09      7.027994\n",
       "10               high  2019-10      6.697708\n",
       "11               high  2019-11      6.570903\n",
       "12                low  2018-12      3.960731\n",
       "13                low  2019-01      5.735053\n",
       "14                low  2019-02      5.542810\n",
       "15                low  2019-03      5.246737\n",
       "16                low  2019-04      5.953887\n",
       "17                low  2019-05      5.833227\n",
       "18                low  2019-06      5.291146\n",
       "19                low  2019-07      5.006532\n",
       "20                low  2019-08      5.677661\n",
       "21                low  2019-09      6.426332\n",
       "22                low  2019-10      5.145574\n",
       "23                low  2019-11      4.157986\n",
       "24           moderate  2018-12      5.149325\n",
       "25           moderate  2019-01      5.840038\n",
       "26           moderate  2019-02      6.369331\n",
       "27           moderate  2019-03      6.464555\n",
       "28           moderate  2019-04      5.932636\n",
       "29           moderate  2019-05      6.673535\n",
       "30           moderate  2019-06      6.034580\n",
       "31           moderate  2019-07      6.416023\n",
       "32           moderate  2019-08      6.756465\n",
       "33           moderate  2019-09      6.773982\n",
       "34           moderate  2019-10      5.900708\n",
       "35           moderate  2019-11      5.658850"
      ]
     },
     "execution_count": 75,
     "metadata": {},
     "output_type": "execute_result"
    }
   ],
   "source": [
    "quantity_spend_trend = transaction_data.groupby(['Profile_spend_year','Month']).agg({'Quantity':'mean'})\n",
    "quantity_spend_trend = quantity_spend_trend.reset_index()\n",
    "quantity_spend_trend.columns = ['Profile_spend_year','Month','Avg Quantity']\n",
    "quantity_spend_trend"
   ]
  },
  {
   "cell_type": "code",
   "execution_count": 76,
   "id": "f1121b17",
   "metadata": {
    "ExecuteTime": {
     "end_time": "2023-09-06T04:06:56.492218Z",
     "start_time": "2023-09-06T04:06:56.263993Z"
    }
   },
   "outputs": [
    {
     "data": {
      "image/png": "[encoded data removed]",
      "text/plain": [
       "<Figure size 1200x400 with 1 Axes>"
      ]
     },
     "metadata": {},
     "output_type": "display_data"
    }
   ],
   "source": [
    "plt.subplots(figsize=(12, 4))\n",
    "sns.lineplot(data=quantity_spend_trend, x=\"Month\", y=\"Avg Quantity\", hue=\"Profile_spend_year\")\n",
    "\n",
    "plt.xlabel('Month')\n",
    "plt.ylabel('Average Quantity')\n",
    "plt.title('Profile Spend Year by Quantity')\n",
    "\n",
    "plt.legend()\n",
    "plt.show()"
   ]
  },
  {
   "cell_type": "markdown",
   "id": "099b19ba",
   "metadata": {},
   "source": [
    "**Summary**\n",
    "\n",
    "- **Spending Profile:** The data is divided into three spending profiles: high, low, and moderate. These profiles suggest different spending levels of expenditure for the given time period.\n",
    "\n",
    "- **Comparison of Profiles:** By comparing the spending patterns across the different profiles, founded that there are consistent differences in average quantity between all customer profiles. 'High' customer profile tends to buy in with the consistent quantity, while 'moderate' customer profile a bit varied in average quantity, and last the 'low' customer profile a bit unpredictable in terms of average quantity.\n",
    "\n",
    "Deeper investigation is needed to gain more accurate conclusions and reasons."
   ]
  },
  {
   "cell_type": "markdown",
   "id": "f0eb2793",
   "metadata": {},
   "source": [
    "### Relationship between Customer profile and the Unit Price"
   ]
  },
  {
   "cell_type": "markdown",
   "id": "c74797c3",
   "metadata": {},
   "source": [
    "Lets see if the customer for each profile favour for a items price in average"
   ]
  },
  {
   "cell_type": "code",
   "execution_count": 77,
   "id": "b70b8627",
   "metadata": {
    "ExecuteTime": {
     "end_time": "2023-09-06T04:07:18.850061Z",
     "start_time": "2023-09-06T04:07:18.776605Z"
    }
   },
   "outputs": [
    {
     "data": {
      "text/html": [
       "<div>\n",
       "<style scoped>\n",
       "    .dataframe tbody tr th:only-of-type {\n",
       "        vertical-align: middle;\n",
       "    }\n",
       "\n",
       "    .dataframe tbody tr th {\n",
       "        vertical-align: top;\n",
       "    }\n",
       "\n",
       "    .dataframe thead th {\n",
       "        text-align: right;\n",
       "    }\n",
       "</style>\n",
       "<table border=\"1\" class=\"dataframe\">\n",
       "  <thead>\n",
       "    <tr style=\"text-align: right;\">\n",
       "      <th></th>\n",
       "      <th>Profile_spend_year</th>\n",
       "      <th>Month</th>\n",
       "      <th>UnitPrice</th>\n",
       "    </tr>\n",
       "  </thead>\n",
       "  <tbody>\n",
       "    <tr>\n",
       "      <th>0</th>\n",
       "      <td>high</td>\n",
       "      <td>2018-12</td>\n",
       "      <td>3.210771</td>\n",
       "    </tr>\n",
       "    <tr>\n",
       "      <th>1</th>\n",
       "      <td>high</td>\n",
       "      <td>2019-01</td>\n",
       "      <td>3.287080</td>\n",
       "    </tr>\n",
       "    <tr>\n",
       "      <th>2</th>\n",
       "      <td>high</td>\n",
       "      <td>2019-02</td>\n",
       "      <td>3.276258</td>\n",
       "    </tr>\n",
       "    <tr>\n",
       "      <th>3</th>\n",
       "      <td>high</td>\n",
       "      <td>2019-03</td>\n",
       "      <td>3.100028</td>\n",
       "    </tr>\n",
       "    <tr>\n",
       "      <th>4</th>\n",
       "      <td>high</td>\n",
       "      <td>2019-04</td>\n",
       "      <td>3.064394</td>\n",
       "    </tr>\n",
       "    <tr>\n",
       "      <th>5</th>\n",
       "      <td>high</td>\n",
       "      <td>2019-05</td>\n",
       "      <td>3.245840</td>\n",
       "    </tr>\n",
       "    <tr>\n",
       "      <th>6</th>\n",
       "      <td>high</td>\n",
       "      <td>2019-06</td>\n",
       "      <td>3.206145</td>\n",
       "    </tr>\n",
       "    <tr>\n",
       "      <th>7</th>\n",
       "      <td>high</td>\n",
       "      <td>2019-07</td>\n",
       "      <td>3.030957</td>\n",
       "    </tr>\n",
       "    <tr>\n",
       "      <th>8</th>\n",
       "      <td>high</td>\n",
       "      <td>2019-08</td>\n",
       "      <td>3.017352</td>\n",
       "    </tr>\n",
       "    <tr>\n",
       "      <th>9</th>\n",
       "      <td>high</td>\n",
       "      <td>2019-09</td>\n",
       "      <td>3.045135</td>\n",
       "    </tr>\n",
       "    <tr>\n",
       "      <th>10</th>\n",
       "      <td>high</td>\n",
       "      <td>2019-10</td>\n",
       "      <td>3.146966</td>\n",
       "    </tr>\n",
       "    <tr>\n",
       "      <th>11</th>\n",
       "      <td>high</td>\n",
       "      <td>2019-11</td>\n",
       "      <td>3.020208</td>\n",
       "    </tr>\n",
       "    <tr>\n",
       "      <th>12</th>\n",
       "      <td>low</td>\n",
       "      <td>2018-12</td>\n",
       "      <td>3.021521</td>\n",
       "    </tr>\n",
       "    <tr>\n",
       "      <th>13</th>\n",
       "      <td>low</td>\n",
       "      <td>2019-01</td>\n",
       "      <td>3.115595</td>\n",
       "    </tr>\n",
       "    <tr>\n",
       "      <th>14</th>\n",
       "      <td>low</td>\n",
       "      <td>2019-02</td>\n",
       "      <td>3.561879</td>\n",
       "    </tr>\n",
       "    <tr>\n",
       "      <th>15</th>\n",
       "      <td>low</td>\n",
       "      <td>2019-03</td>\n",
       "      <td>3.080013</td>\n",
       "    </tr>\n",
       "    <tr>\n",
       "      <th>16</th>\n",
       "      <td>low</td>\n",
       "      <td>2019-04</td>\n",
       "      <td>3.251851</td>\n",
       "    </tr>\n",
       "    <tr>\n",
       "      <th>17</th>\n",
       "      <td>low</td>\n",
       "      <td>2019-05</td>\n",
       "      <td>3.397059</td>\n",
       "    </tr>\n",
       "    <tr>\n",
       "      <th>18</th>\n",
       "      <td>low</td>\n",
       "      <td>2019-06</td>\n",
       "      <td>3.189892</td>\n",
       "    </tr>\n",
       "    <tr>\n",
       "      <th>19</th>\n",
       "      <td>low</td>\n",
       "      <td>2019-07</td>\n",
       "      <td>3.216704</td>\n",
       "    </tr>\n",
       "    <tr>\n",
       "      <th>20</th>\n",
       "      <td>low</td>\n",
       "      <td>2019-08</td>\n",
       "      <td>3.043883</td>\n",
       "    </tr>\n",
       "    <tr>\n",
       "      <th>21</th>\n",
       "      <td>low</td>\n",
       "      <td>2019-09</td>\n",
       "      <td>3.010546</td>\n",
       "    </tr>\n",
       "    <tr>\n",
       "      <th>22</th>\n",
       "      <td>low</td>\n",
       "      <td>2019-10</td>\n",
       "      <td>2.879360</td>\n",
       "    </tr>\n",
       "    <tr>\n",
       "      <th>23</th>\n",
       "      <td>low</td>\n",
       "      <td>2019-11</td>\n",
       "      <td>2.707503</td>\n",
       "    </tr>\n",
       "    <tr>\n",
       "      <th>24</th>\n",
       "      <td>moderate</td>\n",
       "      <td>2018-12</td>\n",
       "      <td>3.125053</td>\n",
       "    </tr>\n",
       "    <tr>\n",
       "      <th>25</th>\n",
       "      <td>moderate</td>\n",
       "      <td>2019-01</td>\n",
       "      <td>3.114291</td>\n",
       "    </tr>\n",
       "    <tr>\n",
       "      <th>26</th>\n",
       "      <td>moderate</td>\n",
       "      <td>2019-02</td>\n",
       "      <td>3.164260</td>\n",
       "    </tr>\n",
       "    <tr>\n",
       "      <th>27</th>\n",
       "      <td>moderate</td>\n",
       "      <td>2019-03</td>\n",
       "      <td>3.230654</td>\n",
       "    </tr>\n",
       "    <tr>\n",
       "      <th>28</th>\n",
       "      <td>moderate</td>\n",
       "      <td>2019-04</td>\n",
       "      <td>3.322266</td>\n",
       "    </tr>\n",
       "    <tr>\n",
       "      <th>29</th>\n",
       "      <td>moderate</td>\n",
       "      <td>2019-05</td>\n",
       "      <td>3.326875</td>\n",
       "    </tr>\n",
       "    <tr>\n",
       "      <th>30</th>\n",
       "      <td>moderate</td>\n",
       "      <td>2019-06</td>\n",
       "      <td>3.110382</td>\n",
       "    </tr>\n",
       "    <tr>\n",
       "      <th>31</th>\n",
       "      <td>moderate</td>\n",
       "      <td>2019-07</td>\n",
       "      <td>3.021924</td>\n",
       "    </tr>\n",
       "    <tr>\n",
       "      <th>32</th>\n",
       "      <td>moderate</td>\n",
       "      <td>2019-08</td>\n",
       "      <td>3.020942</td>\n",
       "    </tr>\n",
       "    <tr>\n",
       "      <th>33</th>\n",
       "      <td>moderate</td>\n",
       "      <td>2019-09</td>\n",
       "      <td>3.083821</td>\n",
       "    </tr>\n",
       "    <tr>\n",
       "      <th>34</th>\n",
       "      <td>moderate</td>\n",
       "      <td>2019-10</td>\n",
       "      <td>3.019100</td>\n",
       "    </tr>\n",
       "    <tr>\n",
       "      <th>35</th>\n",
       "      <td>moderate</td>\n",
       "      <td>2019-11</td>\n",
       "      <td>2.884696</td>\n",
       "    </tr>\n",
       "  </tbody>\n",
       "</table>\n",
       "</div>"
      ],
      "text/plain": [
       "   Profile_spend_year    Month  UnitPrice\n",
       "0                high  2018-12   3.210771\n",
       "1                high  2019-01   3.287080\n",
       "2                high  2019-02   3.276258\n",
       "3                high  2019-03   3.100028\n",
       "4                high  2019-04   3.064394\n",
       "5                high  2019-05   3.245840\n",
       "6                high  2019-06   3.206145\n",
       "7                high  2019-07   3.030957\n",
       "8                high  2019-08   3.017352\n",
       "9                high  2019-09   3.045135\n",
       "10               high  2019-10   3.146966\n",
       "11               high  2019-11   3.020208\n",
       "12                low  2018-12   3.021521\n",
       "13                low  2019-01   3.115595\n",
       "14                low  2019-02   3.561879\n",
       "15                low  2019-03   3.080013\n",
       "16                low  2019-04   3.251851\n",
       "17                low  2019-05   3.397059\n",
       "18                low  2019-06   3.189892\n",
       "19                low  2019-07   3.216704\n",
       "20                low  2019-08   3.043883\n",
       "21                low  2019-09   3.010546\n",
       "22                low  2019-10   2.879360\n",
       "23                low  2019-11   2.707503\n",
       "24           moderate  2018-12   3.125053\n",
       "25           moderate  2019-01   3.114291\n",
       "26           moderate  2019-02   3.164260\n",
       "27           moderate  2019-03   3.230654\n",
       "28           moderate  2019-04   3.322266\n",
       "29           moderate  2019-05   3.326875\n",
       "30           moderate  2019-06   3.110382\n",
       "31           moderate  2019-07   3.021924\n",
       "32           moderate  2019-08   3.020942\n",
       "33           moderate  2019-09   3.083821\n",
       "34           moderate  2019-10   3.019100\n",
       "35           moderate  2019-11   2.884696"
      ]
     },
     "execution_count": 77,
     "metadata": {},
     "output_type": "execute_result"
    }
   ],
   "source": [
    "unitpice_favour = transaction_data.groupby(['Profile_spend_year','Month']).agg({'UnitPrice':'mean'})\n",
    "unitpice_favour = unitpice_favour.reset_index()\n",
    "unitpice_favour"
   ]
  },
  {
   "cell_type": "code",
   "execution_count": 78,
   "id": "9fd19227",
   "metadata": {
    "ExecuteTime": {
     "end_time": "2023-09-06T04:07:25.193141Z",
     "start_time": "2023-09-06T04:07:24.983362Z"
    }
   },
   "outputs": [
    {
     "data": {
      "image/png": "[encoded data removed]",
      "text/plain": [
       "<Figure size 1200x400 with 1 Axes>"
      ]
     },
     "metadata": {},
     "output_type": "display_data"
    }
   ],
   "source": [
    "plt.subplots(figsize=(12, 4))\n",
    "sns.lineplot(data=unitpice_favour, x=\"Month\", y=\"UnitPrice\", hue=\"Profile_spend_year\")\n",
    "\n",
    "plt.xlabel('Month')\n",
    "plt.ylabel('Unit Price')\n",
    "plt.title('Profile Spend Year by UnitPrice')\n",
    "\n",
    "plt.legend()\n",
    "plt.show()"
   ]
  },
  {
   "cell_type": "markdown",
   "id": "21d4b3c3",
   "metadata": {},
   "source": [
    "**Summary**\n",
    "\n",
    "- **Spending Profile:** The data is divided into three spending profiles: high, low, and moderate. These profiles suggest different spending levels of expenditure for the given time period.\n",
    "\n",
    "\n",
    "- **Seasonality:** By analyzing the \"Month\" column, we can observe monthly trends and seasonal patterns. For example, there might be certain months where all the customer profiles were go higher and go lower for a certain month.\n",
    "\n",
    "\n",
    "- **Comparison of Profiles:** By comparing the spending patterns across the different profiles, founded that there are consistent differences in average unit price between all customer profiles. 'High' customer profile tends to buy in with the consistent price, while 'moderate' customer profile a bit varied in average price, and last the 'low' customer profile a bit unpredictable in terms of average price.\n",
    "\n",
    "Deeper investigation is needed to gain more accurate conclusions and reasons."
   ]
  },
  {
   "cell_type": "markdown",
   "id": "bcabe01b",
   "metadata": {},
   "source": [
    "###  Relationship between Customer profile and the returned unit price"
   ]
  },
  {
   "cell_type": "code",
   "execution_count": 79,
   "id": "19c14a71",
   "metadata": {
    "ExecuteTime": {
     "end_time": "2023-09-06T04:07:42.645348Z",
     "start_time": "2023-09-06T04:07:42.623655Z"
    }
   },
   "outputs": [],
   "source": [
    "high_returned = returned_data[returned_data['Profile_spend_year'] == 'high']\n",
    "moderate_returned = returned_data[returned_data['Profile_spend_year'] == 'moderate']\n",
    "low_returned = returned_data[returned_data['Profile_spend_year'] == 'low']"
   ]
  },
  {
   "cell_type": "code",
   "execution_count": 80,
   "id": "f64e1fed",
   "metadata": {
    "ExecuteTime": {
     "end_time": "2023-09-06T04:07:46.437317Z",
     "start_time": "2023-09-06T04:07:45.814507Z"
    }
   },
   "outputs": [
    {
     "data": {
      "text/plain": [
       "Text(0.5, 1.0, 'Low Profile Returned Unit Price')"
      ]
     },
     "execution_count": 80,
     "metadata": {},
     "output_type": "execute_result"
    },
    {
     "data": {
      "image/png": "[encoded data removed]",
      "text/plain": [
       "<Figure size 1200x400 with 3 Axes>"
      ]
     },
     "metadata": {},
     "output_type": "display_data"
    }
   ],
   "source": [
    "fig, axs = plt.subplots(1, 3, figsize=(12, 4))\n",
    "\n",
    "sns.histplot(data=high_returned, x='UnitPrice', kde=True, ax=axs[0])\n",
    "axs[0].set_title('High Profile Returned Unit Price')\n",
    "\n",
    "sns.histplot(data=moderate_returned, x='UnitPrice', kde=True, ax=axs[1])\n",
    "axs[1].set_title('Moderate Profile Returned Unit Price')\n",
    "\n",
    "sns.histplot(data=low_returned, x='UnitPrice', kde=True, ax=axs[2])\n",
    "axs[2].set_title('Low Profile Returned Unit Price')"
   ]
  },
  {
   "cell_type": "markdown",
   "id": "e8047ff1",
   "metadata": {},
   "source": [
    "**Summary**\n",
    "\n",
    "- **Return Patterns:** All the customer profile have the almost the same pattern of kde. It means that the price for returned units are same across all the customer profile.   \n",
    "\n",
    "\n",
    "- **Impact for cheap priced units :** Most returned units majority from the cheap units less than $2.5. The reason maybe due too the cheap product has less quality that can malfunction quickly or break easily with the small force especially during shipping. \n",
    "\n",
    "\n",
    "- **Impact for expensive priced units :** Some expensive priced units also being returned, although they are relatively less common. Expensive priced units have better quality that may the reason why it much lesser compared with cheap priced units.\n",
    "\n",
    "\n",
    "- **Quantity buy units effect the returned product :** 'high' customer profile have much higher average quantity compared with others. Therefore, it caused the number for returned units for this customer profile much higher compared with the rest. \n",
    "\n",
    "Deeper investigation and data is needed to gain more accurate conclusions and reasons."
   ]
  },
  {
   "cell_type": "markdown",
   "id": "31f37b90",
   "metadata": {},
   "source": [
    "# Hypotheses Testing "
   ]
  },
  {
   "cell_type": "markdown",
   "id": "cfadf90a",
   "metadata": {},
   "source": [
    "## Hypothesis 1"
   ]
  },
  {
   "cell_type": "markdown",
   "id": "a085d1b6",
   "metadata": {},
   "source": [
    "- H0: Customers spend more in October/November compared to the other months in the current year. \n",
    "- Ha: Customers do not spend more in October/November compared to the other months in the current year."
   ]
  },
  {
   "cell_type": "code",
   "execution_count": 81,
   "id": "e5fa8772",
   "metadata": {
    "ExecuteTime": {
     "end_time": "2023-09-06T04:08:12.414852Z",
     "start_time": "2023-09-06T04:08:11.934463Z"
    }
   },
   "outputs": [
    {
     "name": "stdout",
     "output_type": "stream",
     "text": [
      "\n",
      "One-sided Independent T-Test Results:\n",
      "t-statistic: -23.55785182544692\n",
      "p-value: 1.0\n",
      "Fail to reject the null hypothesis.\n",
      "Customers spend more in October/November compared to the other months in the current year\n"
     ]
    }
   ],
   "source": [
    "end_of_year_data = transaction_data[(transaction_data[\"Month\"].str.endswith(\"10\")) | (transaction_data[\"Month\"].str.endswith(\"11\"))]\n",
    "other_months_data = transaction_data[~(transaction_data[\"Month\"].str.endswith(\"10\")) & ~(transaction_data[\"Month\"].str.endswith(\"11\")) & ~(transaction_data[\"Month\"].str.endswith(\"12\"))]\n",
    "alpha = 0.05\n",
    "\n",
    "# One-sided independent t-test\n",
    "statistic, p_value = ttest_ind(end_of_year_data[\"Total_payment\"], other_months_data[\"Total_payment\"], alternative='greater')\n",
    "\n",
    "print(\"\\nOne-sided Independent T-Test Results:\")\n",
    "print(\"t-statistic:\", statistic)\n",
    "print(\"p-value:\", p_value)\n",
    "\n",
    "# Compare p-value with the significance level (alpha)\n",
    "if p_value > alpha:\n",
    "    print(\"Fail to reject the null hypothesis.\")\n",
    "    print(\"Customers spend more in October/November compared to the other months in the current year\")    \n",
    "else:\n",
    "    print(\"Reject the null hypothesis.\")\n",
    "    print(\"Customers do not spend more in October/November compared to the other months in the current year.\")\n",
    "    "
   ]
  },
  {
   "cell_type": "markdown",
   "id": "5c97d8bf",
   "metadata": {},
   "source": [
    "**Observation**\n",
    "\n",
    "The t-statistic value for the comparison between October/November and the other months is -18.6800. The p-value associated with this comparison is 1.0. The analysis fails to reject the null hypothesis. This indicates that Customers spend more in October/November compared to the other months in the current year. "
   ]
  },
  {
   "cell_type": "markdown",
   "id": "14f23ded",
   "metadata": {},
   "source": [
    "## Hypothesis 2 "
   ]
  },
  {
   "cell_type": "markdown",
   "id": "c79a88f4",
   "metadata": {},
   "source": [
    "\n",
    "- H0: Number of customers in end-of-year months is significantly more than other months \n",
    "\n",
    "- Ha: Number of customers in end-of-year months is not significantly more than other months."
   ]
  },
  {
   "cell_type": "code",
   "execution_count": 82,
   "id": "cd616878",
   "metadata": {
    "ExecuteTime": {
     "end_time": "2023-09-06T04:08:36.025987Z",
     "start_time": "2023-09-06T04:08:35.548523Z"
    }
   },
   "outputs": [
    {
     "name": "stdout",
     "output_type": "stream",
     "text": [
      "\n",
      "One-sided Independent T-Test Results:\n",
      "t-statistic: 5.413253185557451\n",
      "p-value: 0.00021278531843376542\n",
      "Fail to reject the null hypothesis.\n",
      "Number of customers in end-of-year months is significantly more than other months.\n"
     ]
    }
   ],
   "source": [
    "end_of_year_data = transaction_data[(transaction_data[\"Month\"].str.endswith(\"10\")) | (transaction_data[\"Month\"].str.endswith(\"11\"))]\n",
    "other_months_data = transaction_data[~(transaction_data[\"Month\"].str.endswith(\"10\")) & ~(transaction_data[\"Month\"].str.endswith(\"11\")) & ~(transaction_data[\"Month\"].str.endswith(\"12\"))]\n",
    "alpha = 0.05\n",
    "\n",
    "num_customer_end = end_of_year_data.groupby(['Month'])[['CustomerID']].nunique()\n",
    "num_customer_other = other_months_data.groupby(['Month'])[['CustomerID']].nunique()\n",
    "\n",
    "# One-sided independent t-test\n",
    "statistic, p_value = ttest_ind(num_customer_end[\"CustomerID\"], num_customer_other[\"CustomerID\"], alternative='greater')\n",
    "\n",
    "print(\"\\nOne-sided Independent T-Test Results:\")\n",
    "print(\"t-statistic:\", statistic)\n",
    "print(\"p-value:\", p_value)\n",
    "\n",
    "# Compare p-value with the significance level (alpha)\n",
    "if p_value < alpha:\n",
    "    print(\"Fail to reject the null hypothesis.\")\n",
    "    print(\"Number of customers in end-of-year months is significantly more than other months.\")\n",
    "else:\n",
    "    \n",
    "    print(\"Reject the null hypothesis.\")\n",
    "    print(\"Number of customers in end-of-year months is not significantly more than other months.\")"
   ]
  },
  {
   "cell_type": "markdown",
   "id": "f3218f67",
   "metadata": {},
   "source": [
    "**Observation** \n",
    "\n",
    "The obtained t-statistic of 5.286 indicates a substantial difference between the mean number of customers in the end-of-year months and the mean number of customers in the other months. The p-value of 0.000251 suggests that the probability of observing such a significant difference by chance alone is very low. Therefore, we have strong evidence to support the conclusion that the number of customers in the end-of-year months is significantly higher than in the other months."
   ]
  },
  {
   "cell_type": "markdown",
   "id": "af28c762",
   "metadata": {},
   "source": [
    "## Hypothesis 3"
   ]
  },
  {
   "cell_type": "markdown",
   "id": "56509678",
   "metadata": {
    "ExecuteTime": {
     "end_time": "2023-09-06T04:08:53.856809Z",
     "start_time": "2023-09-06T04:08:53.844804Z"
    }
   },
   "source": [
    "- H0: The 'high' customer profile spending quantities is greater than the 'moderate' customer profile spending.\n",
    "- Ha: The 'high' customer profile spending quantities is not greater than the 'moderate' customer profile spending.\n",
    "\n",
    "\n",
    "- H0: The 'high' customer profile spending quantities is greater than the 'low' customer profile spending.\n",
    "- Ha: The 'high' customer profile spending quantities is not greater than the 'low' customer profile spending."
   ]
  },
  {
   "cell_type": "code",
   "execution_count": 84,
   "id": "a61df72e",
   "metadata": {
    "ExecuteTime": {
     "end_time": "2023-09-06T04:08:59.412649Z",
     "start_time": "2023-09-06T04:08:59.308560Z"
    }
   },
   "outputs": [
    {
     "name": "stdout",
     "output_type": "stream",
     "text": [
      "\n",
      "One-sided Independent T-Test Results High-Moderate :\n",
      "t-statistic: 30.393039937807355\n",
      "p-value: 7.219917766719289e-203\n",
      "The analysis does not provide sufficient evidence to reject the null hypothesis.\n",
      "The 'high' customer profile spending quantities is greater than the 'moderate' customer profile spending.\n",
      "\n",
      "One-sided Independent T-Test Results High-Low :\n",
      "t-statistic: 46.5381143615257\n",
      "p-value: 0.0\n",
      "The analysis does not provide sufficient evidence to reject the null hypothesis.\n",
      "The 'high' customer profile spending quantities is greater than the 'low' customer profile spending.\n"
     ]
    }
   ],
   "source": [
    "high_profile_data = transaction_data[transaction_data[\"Profile_spend_year\"] == \"high\"]\n",
    "mod_profiles_data = transaction_data[transaction_data[\"Profile_spend_year\"] == \"moderate\"]\n",
    "low_profiles_data = transaction_data[transaction_data[\"Profile_spend_year\"] == \"low\"]\n",
    "\n",
    "high_profile_quantity = high_profile_data[\"Quantity\"]\n",
    "mod_profiles_quantity = mod_profiles_data[\"Quantity\"]\n",
    "low_profiles_quantity = low_profiles_data[\"Quantity\"]\n",
    "\n",
    "alpha = 0.05 \n",
    "# One-sided independent t-test\n",
    "statistic1, p_value1 = ttest_ind(high_profile_quantity, mod_profiles_quantity, alternative='greater')\n",
    "statistic2, p_value2 = ttest_ind(high_profile_quantity, low_profiles_quantity, alternative='greater')\n",
    "\n",
    "print(\"\\nOne-sided Independent T-Test Results High-Moderate :\")\n",
    "print(\"t-statistic:\", statistic1)\n",
    "print(\"p-value:\", p_value1)\n",
    "\n",
    "if p_value1 < alpha:\n",
    "    print(\"The analysis does not provide sufficient evidence to reject the null hypothesis.\")\n",
    "    print(\"The 'high' customer profile spending quantities is greater than the 'moderate' customer profile spending.\")    \n",
    "else:\n",
    "    print(\"The analysis provides evidence to reject the null hypothesis.\")\n",
    "    print(\"The 'high' customer profile spending quantities is not greater than the 'moderate' customer profile spending.\")\n",
    "\n",
    "    \n",
    "print(\"\\nOne-sided Independent T-Test Results High-Low :\")\n",
    "print(\"t-statistic:\", statistic2)\n",
    "print(\"p-value:\", p_value2)\n",
    "\n",
    "if p_value2 < alpha:\n",
    "    print(\"The analysis does not provide sufficient evidence to reject the null hypothesis.\")\n",
    "    print(\"The 'high' customer profile spending quantities is greater than the 'low' customer profile spending.\")\n",
    "else:\n",
    "    print(\"The analysis provides evidence to reject the null hypothesis.\")\n",
    "    print(\"The 'high' customer profile spending quantities is not greater than the 'low' customer profile spending.\")"
   ]
  },
  {
   "cell_type": "markdown",
   "id": "fd0109ac",
   "metadata": {},
   "source": [
    "**Observation**\n",
    "\n",
    "- High-Moderate comparison:\n",
    "\n",
    "    The t-statistic of 38.732 and a p-value of 0.0 indicate a highly significant difference between the spending quantities of the \"high\" and \"moderate\" customer profiles. The analysis does not provide sufficient evidence to reject the null hypothesis, suggesting that there is no significant difference between the spending quantities of the \"high\" and \"moderate\" customer profiles. However, based on the t-statistic and the p-value being close to zero, we can infer that the spending quantities of the \"high\" customer profile are substantially greater than those of the \"moderate\" customer profile.\n",
    "\n",
    "\n",
    "- High-Low comparison:\n",
    "\n",
    "    The t-statistic of 44.344 and a p-value of 0.0 indicate a highly significant difference between the spending quantities of the \"high\" and \"low\" customer profiles. Similar to the previous comparison, the analysis does not provide sufficient evidence to reject the null hypothesis, suggesting that there is no significant difference between the spending quantities of the \"high\" and \"low\" customer profiles. However, the t-statistic and the p-value being close to zero suggest that the spending quantities of the \"high\" customer profile are significantly greater than those of the \"low\" customer profile."
   ]
  },
  {
   "cell_type": "markdown",
   "id": "3d5f7cae",
   "metadata": {},
   "source": [
    "## Hypothesis 4"
   ]
  },
  {
   "cell_type": "markdown",
   "id": "0ec1eb91",
   "metadata": {},
   "source": [
    "- H0: The 'high' customer profile spending unit price is higher than the 'moderate' customer profile spending.\n",
    "- Ha: The 'high' customer profile spending unit price is not higher than the 'moderate' customer profile spending.\n",
    "\n",
    "\n",
    "- H0: The 'high' customer profile spending unit price is higher than the 'low' customer profile spending.\n",
    "- Ha: The 'high' customer profile spending unit price is not higher than the 'low' customer profile spending."
   ]
  },
  {
   "cell_type": "code",
   "execution_count": 85,
   "id": "5cf0b6ea",
   "metadata": {
    "ExecuteTime": {
     "end_time": "2023-09-06T04:09:21.258264Z",
     "start_time": "2023-09-06T04:09:21.234688Z"
    }
   },
   "outputs": [
    {
     "name": "stdout",
     "output_type": "stream",
     "text": [
      "\n",
      "One-sided Independent T-Test Results High-Moderate :\n",
      "t-statistic: 4.1326435830360335\n",
      "p-value: 1.7935887737061792e-05\n",
      "The analysis does not provide sufficient evidence to reject the null hypothesis.\n",
      "The 'high' customer profile spending unit price is higher than the 'moderate' customer profile spending.\n",
      "\n",
      "One-sided Independent T-Test Results High-Low :\n",
      "t-statistic: 6.925817606947382\n",
      "p-value: 2.173320692372591e-12\n",
      "The analysis does not provide sufficient evidence to reject the null hypothesis.\n",
      "The 'high' customer profile spending unit price is higher than the 'low' customer profile spending.\n"
     ]
    }
   ],
   "source": [
    "high_profile_price = high_profile_data[\"UnitPrice\"]\n",
    "mod_profiles_price = mod_profiles_data[\"UnitPrice\"]\n",
    "low_profiles_price = low_profiles_data[\"UnitPrice\"]\n",
    "\n",
    "alpha = 0.05 \n",
    "# One-sided independent t-test\n",
    "statistic1, p_value1 = ttest_ind(high_profile_price, mod_profiles_price, alternative='greater')\n",
    "statistic2, p_value2 = ttest_ind(high_profile_price, low_profiles_price, alternative='greater')\n",
    "\n",
    "print(\"\\nOne-sided Independent T-Test Results High-Moderate :\")\n",
    "print(\"t-statistic:\", statistic1)\n",
    "print(\"p-value:\", p_value1)\n",
    "\n",
    "if p_value1 < alpha:\n",
    "    print(\"The analysis does not provide sufficient evidence to reject the null hypothesis.\")\n",
    "    print(\"The 'high' customer profile spending unit price is higher than the 'moderate' customer profile spending.\")    \n",
    "else:\n",
    "    print(\"The analysis provides evidence to reject the null hypothesis.\")\n",
    "    print(\"he 'high' customer profile spending unit price is not higher than the 'moderate' customer profile spending.\")\n",
    "\n",
    "    \n",
    "print(\"\\nOne-sided Independent T-Test Results High-Low :\")\n",
    "print(\"t-statistic:\", statistic2)\n",
    "print(\"p-value:\", p_value2)\n",
    "\n",
    "if p_value2 < alpha:\n",
    "    print(\"The analysis does not provide sufficient evidence to reject the null hypothesis.\")\n",
    "    print(\"The 'high' customer profile spending unit price is higher than the 'low' customer profile spending.\")\n",
    "else:\n",
    "    print(\"The analysis provides evidence to reject the null hypothesis.\")\n",
    "    print(\"The 'high' customer profile spending unit price is not higher than the 'low' customer profile spending.\")"
   ]
  },
  {
   "cell_type": "markdown",
   "id": "83ab8adf",
   "metadata": {},
   "source": [
    "**Observation**\n",
    "\n",
    "- High-Moderate Customer Profiles:\n",
    "\n",
    "    The t-statistic value of 4.7600559839921655 indicates a significant difference between the two customer profiles. The p-value of 9.681385454090138e-07 is extremely small, suggesting strong evidence against the null hypothesis. In other words, the 'high' customer profile spending unit price is higher than the 'moderate' customer profile spending on average.\n",
    "    \n",
    "    \n",
    "- High-Low Customer Profiles:\n",
    "    \n",
    "    The t-statistic value of 2.5520319216614586 indicates a moderate difference between the two customer profiles. The p-value of 0.005355139612224666, although small, does not reach a conventional threshold for statistical significance. In other words, the 'high' customer profile spending unit price is higher than the 'low' customer profile spending on average"
   ]
  },
  {
   "cell_type": "markdown",
   "id": "1dd24be1",
   "metadata": {},
   "source": [
    "## Hypothesis 5"
   ]
  },
  {
   "cell_type": "markdown",
   "id": "319c4420",
   "metadata": {},
   "source": [
    "- H0: The 'high' customer profile spending returned quantities is greater than the 'moderate' customer profile spending.\n",
    "- Ha: The 'high' customer profile spending returned quantities is lower than the 'moderate' customer profile spending.\n",
    "\n",
    "\n",
    "- H0: The 'high' customer profile spending returned quantities is greater than the 'low' customer profile spending.\n",
    "- Ha: The 'high' customer profile spending returned quantities is lower than the 'low' customer profile spending."
   ]
  },
  {
   "cell_type": "code",
   "execution_count": 86,
   "id": "8343c395",
   "metadata": {
    "ExecuteTime": {
     "end_time": "2023-09-06T04:09:46.672834Z",
     "start_time": "2023-09-06T04:09:46.658667Z"
    }
   },
   "outputs": [
    {
     "name": "stdout",
     "output_type": "stream",
     "text": [
      "\n",
      "One-sided Independent T-Test Results High-Moderate :\n",
      "t-statistic: 3.5609247997107025\n",
      "p-value: 0.00018603777018829515\n",
      "The analysis does not provide sufficient evidence to reject the null hypothesis.\n",
      "The 'high' customer profile spending returned quantities is greater than the 'moderate' customer profile spending.\n",
      "\n",
      "One-sided Independent T-Test Results High-Low :\n",
      "t-statistic: 7.253210363298224\n",
      "p-value: 2.3276972985624456e-13\n",
      "The analysis does not provide sufficient evidence to reject the null hypothesis.\n",
      "The 'high' customer profile spending returned quantities is greater than the 'low' customer profile spending.\n"
     ]
    }
   ],
   "source": [
    "high_profile_return = returned_data[returned_data[\"Profile_spend_year\"] == \"high\"]\n",
    "mod_profiles_return = returned_data[returned_data[\"Profile_spend_year\"] == \"moderate\"]\n",
    "low_profiles_return = returned_data[returned_data[\"Profile_spend_year\"] == \"low\"]\n",
    "\n",
    "high_profile_quantity_return = high_profile_return[\"Quantity\"]\n",
    "mod_profiles_quantity_return = mod_profiles_return[\"Quantity\"]\n",
    "low_profiles_quantity_return = low_profiles_return[\"Quantity\"]\n",
    "\n",
    "alpha = 0.05 \n",
    "# One-sided independent t-test\n",
    "statistic1, p_value1 = ttest_ind(high_profile_quantity_return, mod_profiles_quantity_return, alternative='greater')\n",
    "statistic2, p_value2 = ttest_ind(high_profile_quantity_return, low_profiles_quantity_return, alternative='greater')\n",
    "\n",
    "print(\"\\nOne-sided Independent T-Test Results High-Moderate :\")\n",
    "print(\"t-statistic:\", statistic1)\n",
    "print(\"p-value:\", p_value1)\n",
    "\n",
    "if p_value1 < alpha:\n",
    "    print(\"The analysis does not provide sufficient evidence to reject the null hypothesis.\")\n",
    "    print(\"The 'high' customer profile spending returned quantities is greater than the 'moderate' customer profile spending.\")    \n",
    "else:\n",
    "    print(\"The analysis provides evidence to reject the null hypothesis.\")\n",
    "    print(\"The 'high' customer profile spending returned quantities is lower than the 'moderate' customer profile spending.\")\n",
    "\n",
    "    \n",
    "print(\"\\nOne-sided Independent T-Test Results High-Low :\")\n",
    "print(\"t-statistic:\", statistic2)\n",
    "print(\"p-value:\", p_value2)\n",
    "\n",
    "if p_value2 < alpha:\n",
    "    print(\"The analysis does not provide sufficient evidence to reject the null hypothesis.\")\n",
    "    print(\"The 'high' customer profile spending returned quantities is greater than the 'low' customer profile spending.\")\n",
    "else:\n",
    "    print(\"The analysis provides evidence to reject the null hypothesis.\")\n",
    "    print(\"The 'high' customer profile spending returned quantities is lower than the 'low' customer profile spending.\")"
   ]
  },
  {
   "cell_type": "markdown",
   "id": "9ef5d612",
   "metadata": {},
   "source": [
    "**Observation**\n",
    "\n",
    "- High-Moderate Comparison:\n",
    "\n",
    "    The t-statistic value for the high-moderate customer profile comparison is 2.3005. The p-value associated with this comparison is 0.0107. The analysis does not provide sufficient evidence to reject the null hypothesis. Therefore, the 'high' customer profile spending returned quantities is greater than the 'moderate' customer profile spending.\n",
    "\n",
    "\n",
    "- High-Low Comparison:\n",
    "\n",
    "    The t-statistic value for the high-low customer profile comparison is 4.1961. The p-value associated with this comparison is 1.3797e-05. The analysis does not provide sufficient evidence to reject the null hypothesis. Therefore, the 'high' customer profile spending returned quantities is lower than the 'low' customer profile spending."
   ]
  },
  {
   "cell_type": "markdown",
   "id": "0edb51be",
   "metadata": {},
   "source": [
    "# Segmentation"
   ]
  },
  {
   "cell_type": "markdown",
   "id": "deb42e95",
   "metadata": {},
   "source": [
    "Prepare the data for segmentation"
   ]
  },
  {
   "cell_type": "code",
   "execution_count": 87,
   "id": "9bc9b1f8",
   "metadata": {
    "ExecuteTime": {
     "end_time": "2023-09-06T04:10:09.279706Z",
     "start_time": "2023-09-06T04:10:09.265749Z"
    }
   },
   "outputs": [
    {
     "data": {
      "text/html": [
       "<div>\n",
       "<style scoped>\n",
       "    .dataframe tbody tr th:only-of-type {\n",
       "        vertical-align: middle;\n",
       "    }\n",
       "\n",
       "    .dataframe tbody tr th {\n",
       "        vertical-align: top;\n",
       "    }\n",
       "\n",
       "    .dataframe thead th {\n",
       "        text-align: right;\n",
       "    }\n",
       "</style>\n",
       "<table border=\"1\" class=\"dataframe\">\n",
       "  <thead>\n",
       "    <tr style=\"text-align: right;\">\n",
       "      <th></th>\n",
       "      <th>InvoiceNo</th>\n",
       "      <th>StockCode</th>\n",
       "      <th>Description</th>\n",
       "      <th>Quantity</th>\n",
       "      <th>InvoiceDate</th>\n",
       "      <th>UnitPrice</th>\n",
       "      <th>CustomerID</th>\n",
       "      <th>Date</th>\n",
       "      <th>Time</th>\n",
       "      <th>Month</th>\n",
       "      <th>Total_payment</th>\n",
       "      <th>Total_payment_year</th>\n",
       "      <th>Profile_spend_year</th>\n",
       "    </tr>\n",
       "  </thead>\n",
       "  <tbody>\n",
       "    <tr>\n",
       "      <th>0</th>\n",
       "      <td>536847</td>\n",
       "      <td>22161</td>\n",
       "      <td>HEART DECORATION RUSTIC HANGING</td>\n",
       "      <td>24</td>\n",
       "      <td>2018-12-01 09:31:00</td>\n",
       "      <td>0.65</td>\n",
       "      <td>17135.0</td>\n",
       "      <td>2018-12-01</td>\n",
       "      <td>09:31:00</td>\n",
       "      <td>2018-12</td>\n",
       "      <td>15.6</td>\n",
       "      <td>603.45</td>\n",
       "      <td>moderate</td>\n",
       "    </tr>\n",
       "    <tr>\n",
       "      <th>1</th>\n",
       "      <td>536847</td>\n",
       "      <td>22065</td>\n",
       "      <td>CHRISTMAS PUDDING TRINKET POT</td>\n",
       "      <td>24</td>\n",
       "      <td>2018-12-01 09:31:00</td>\n",
       "      <td>1.45</td>\n",
       "      <td>17135.0</td>\n",
       "      <td>2018-12-01</td>\n",
       "      <td>09:31:00</td>\n",
       "      <td>2018-12</td>\n",
       "      <td>34.8</td>\n",
       "      <td>603.45</td>\n",
       "      <td>moderate</td>\n",
       "    </tr>\n",
       "    <tr>\n",
       "      <th>2</th>\n",
       "      <td>536847</td>\n",
       "      <td>20956</td>\n",
       "      <td>PORCELAIN T-LIGHT HOLDERS ASSORTED</td>\n",
       "      <td>12</td>\n",
       "      <td>2018-12-01 09:31:00</td>\n",
       "      <td>1.25</td>\n",
       "      <td>17135.0</td>\n",
       "      <td>2018-12-01</td>\n",
       "      <td>09:31:00</td>\n",
       "      <td>2018-12</td>\n",
       "      <td>15.0</td>\n",
       "      <td>603.45</td>\n",
       "      <td>moderate</td>\n",
       "    </tr>\n",
       "    <tr>\n",
       "      <th>3</th>\n",
       "      <td>536847</td>\n",
       "      <td>84347</td>\n",
       "      <td>ROTATING SILVER ANGELS T-LIGHT HLDR</td>\n",
       "      <td>6</td>\n",
       "      <td>2018-12-01 09:31:00</td>\n",
       "      <td>2.55</td>\n",
       "      <td>17135.0</td>\n",
       "      <td>2018-12-01</td>\n",
       "      <td>09:31:00</td>\n",
       "      <td>2018-12</td>\n",
       "      <td>15.3</td>\n",
       "      <td>603.45</td>\n",
       "      <td>moderate</td>\n",
       "    </tr>\n",
       "    <tr>\n",
       "      <th>4</th>\n",
       "      <td>536847</td>\n",
       "      <td>21231</td>\n",
       "      <td>SWEETHEART CERAMIC TRINKET BOX</td>\n",
       "      <td>24</td>\n",
       "      <td>2018-12-01 09:31:00</td>\n",
       "      <td>1.25</td>\n",
       "      <td>17135.0</td>\n",
       "      <td>2018-12-01</td>\n",
       "      <td>09:31:00</td>\n",
       "      <td>2018-12</td>\n",
       "      <td>30.0</td>\n",
       "      <td>603.45</td>\n",
       "      <td>moderate</td>\n",
       "    </tr>\n",
       "  </tbody>\n",
       "</table>\n",
       "</div>"
      ],
      "text/plain": [
       "  InvoiceNo StockCode                          Description  Quantity  \\\n",
       "0    536847     22161     HEART DECORATION RUSTIC HANGING         24   \n",
       "1    536847     22065       CHRISTMAS PUDDING TRINKET POT         24   \n",
       "2    536847     20956   PORCELAIN T-LIGHT HOLDERS ASSORTED        12   \n",
       "3    536847     84347  ROTATING SILVER ANGELS T-LIGHT HLDR         6   \n",
       "4    536847     21231       SWEETHEART CERAMIC TRINKET BOX        24   \n",
       "\n",
       "          InvoiceDate  UnitPrice  CustomerID       Date      Time    Month  \\\n",
       "0 2018-12-01 09:31:00       0.65     17135.0 2018-12-01  09:31:00  2018-12   \n",
       "1 2018-12-01 09:31:00       1.45     17135.0 2018-12-01  09:31:00  2018-12   \n",
       "2 2018-12-01 09:31:00       1.25     17135.0 2018-12-01  09:31:00  2018-12   \n",
       "3 2018-12-01 09:31:00       2.55     17135.0 2018-12-01  09:31:00  2018-12   \n",
       "4 2018-12-01 09:31:00       1.25     17135.0 2018-12-01  09:31:00  2018-12   \n",
       "\n",
       "   Total_payment  Total_payment_year Profile_spend_year  \n",
       "0           15.6              603.45           moderate  \n",
       "1           34.8              603.45           moderate  \n",
       "2           15.0              603.45           moderate  \n",
       "3           15.3              603.45           moderate  \n",
       "4           30.0              603.45           moderate  "
      ]
     },
     "execution_count": 87,
     "metadata": {},
     "output_type": "execute_result"
    }
   ],
   "source": [
    "transaction_data.head()"
   ]
  },
  {
   "cell_type": "code",
   "execution_count": 88,
   "id": "634a36e5",
   "metadata": {
    "ExecuteTime": {
     "end_time": "2023-09-06T04:10:14.605641Z",
     "start_time": "2023-09-06T04:10:14.593637Z"
    }
   },
   "outputs": [
    {
     "data": {
      "text/html": [
       "<div>\n",
       "<style scoped>\n",
       "    .dataframe tbody tr th:only-of-type {\n",
       "        vertical-align: middle;\n",
       "    }\n",
       "\n",
       "    .dataframe tbody tr th {\n",
       "        vertical-align: top;\n",
       "    }\n",
       "\n",
       "    .dataframe thead th {\n",
       "        text-align: right;\n",
       "    }\n",
       "</style>\n",
       "<table border=\"1\" class=\"dataframe\">\n",
       "  <thead>\n",
       "    <tr style=\"text-align: right;\">\n",
       "      <th></th>\n",
       "      <th>InvoiceNo</th>\n",
       "      <th>StockCode</th>\n",
       "      <th>Description</th>\n",
       "      <th>Quantity</th>\n",
       "      <th>InvoiceDate</th>\n",
       "      <th>UnitPrice</th>\n",
       "      <th>CustomerID</th>\n",
       "      <th>Date</th>\n",
       "      <th>Time</th>\n",
       "      <th>Month</th>\n",
       "      <th>Profile_spend_year</th>\n",
       "    </tr>\n",
       "  </thead>\n",
       "  <tbody>\n",
       "    <tr>\n",
       "      <th>0</th>\n",
       "      <td>C536854</td>\n",
       "      <td>22158</td>\n",
       "      <td>3 HEARTS HANGING DECORATION RUSTIC</td>\n",
       "      <td>-1</td>\n",
       "      <td>2018-12-01 10:09:00</td>\n",
       "      <td>2.95</td>\n",
       "      <td>15240.0</td>\n",
       "      <td>2018-12-01</td>\n",
       "      <td>10:09:00</td>\n",
       "      <td>2018-12</td>\n",
       "      <td>moderate</td>\n",
       "    </tr>\n",
       "    <tr>\n",
       "      <th>1</th>\n",
       "      <td>C536854</td>\n",
       "      <td>22944</td>\n",
       "      <td>CHRISTMAS METAL POSTCARD WITH BELLS</td>\n",
       "      <td>-1</td>\n",
       "      <td>2018-12-01 10:09:00</td>\n",
       "      <td>1.25</td>\n",
       "      <td>15240.0</td>\n",
       "      <td>2018-12-01</td>\n",
       "      <td>10:09:00</td>\n",
       "      <td>2018-12</td>\n",
       "      <td>moderate</td>\n",
       "    </tr>\n",
       "    <tr>\n",
       "      <th>2</th>\n",
       "      <td>C536854</td>\n",
       "      <td>21871</td>\n",
       "      <td>SAVE THE PLANET MUG</td>\n",
       "      <td>-1</td>\n",
       "      <td>2018-12-01 10:09:00</td>\n",
       "      <td>1.25</td>\n",
       "      <td>15240.0</td>\n",
       "      <td>2018-12-01</td>\n",
       "      <td>10:09:00</td>\n",
       "      <td>2018-12</td>\n",
       "      <td>moderate</td>\n",
       "    </tr>\n",
       "    <tr>\n",
       "      <th>3</th>\n",
       "      <td>C543779</td>\n",
       "      <td>22083</td>\n",
       "      <td>PAPER CHAIN KIT RETROSPOT</td>\n",
       "      <td>-4</td>\n",
       "      <td>2019-02-09 16:32:00</td>\n",
       "      <td>2.95</td>\n",
       "      <td>15240.0</td>\n",
       "      <td>2019-02-09</td>\n",
       "      <td>16:32:00</td>\n",
       "      <td>2019-02</td>\n",
       "      <td>moderate</td>\n",
       "    </tr>\n",
       "    <tr>\n",
       "      <th>4</th>\n",
       "      <td>C543779</td>\n",
       "      <td>21218</td>\n",
       "      <td>RED SPOTTY BISCUIT TIN</td>\n",
       "      <td>-1</td>\n",
       "      <td>2019-02-09 16:32:00</td>\n",
       "      <td>3.75</td>\n",
       "      <td>15240.0</td>\n",
       "      <td>2019-02-09</td>\n",
       "      <td>16:32:00</td>\n",
       "      <td>2019-02</td>\n",
       "      <td>moderate</td>\n",
       "    </tr>\n",
       "  </tbody>\n",
       "</table>\n",
       "</div>"
      ],
      "text/plain": [
       "  InvoiceNo StockCode                          Description  Quantity  \\\n",
       "0   C536854     22158   3 HEARTS HANGING DECORATION RUSTIC        -1   \n",
       "1   C536854     22944  CHRISTMAS METAL POSTCARD WITH BELLS        -1   \n",
       "2   C536854     21871                  SAVE THE PLANET MUG        -1   \n",
       "3   C543779     22083            PAPER CHAIN KIT RETROSPOT        -4   \n",
       "4   C543779     21218               RED SPOTTY BISCUIT TIN        -1   \n",
       "\n",
       "          InvoiceDate  UnitPrice  CustomerID       Date      Time    Month  \\\n",
       "0 2018-12-01 10:09:00       2.95     15240.0 2018-12-01  10:09:00  2018-12   \n",
       "1 2018-12-01 10:09:00       1.25     15240.0 2018-12-01  10:09:00  2018-12   \n",
       "2 2018-12-01 10:09:00       1.25     15240.0 2018-12-01  10:09:00  2018-12   \n",
       "3 2019-02-09 16:32:00       2.95     15240.0 2019-02-09  16:32:00  2019-02   \n",
       "4 2019-02-09 16:32:00       3.75     15240.0 2019-02-09  16:32:00  2019-02   \n",
       "\n",
       "  Profile_spend_year  \n",
       "0           moderate  \n",
       "1           moderate  \n",
       "2           moderate  \n",
       "3           moderate  \n",
       "4           moderate  "
      ]
     },
     "execution_count": 88,
     "metadata": {},
     "output_type": "execute_result"
    }
   ],
   "source": [
    "returned_data.head()"
   ]
  },
  {
   "cell_type": "markdown",
   "id": "929802cf",
   "metadata": {},
   "source": [
    "## RFM Analysis"
   ]
  },
  {
   "cell_type": "code",
   "execution_count": 89,
   "id": "12fc71a1",
   "metadata": {
    "ExecuteTime": {
     "end_time": "2023-09-06T04:10:26.348468Z",
     "start_time": "2023-09-06T04:10:25.864786Z"
    }
   },
   "outputs": [
    {
     "data": {
      "text/html": [
       "<div>\n",
       "<style scoped>\n",
       "    .dataframe tbody tr th:only-of-type {\n",
       "        vertical-align: middle;\n",
       "    }\n",
       "\n",
       "    .dataframe tbody tr th {\n",
       "        vertical-align: top;\n",
       "    }\n",
       "\n",
       "    .dataframe thead th {\n",
       "        text-align: right;\n",
       "    }\n",
       "</style>\n",
       "<table border=\"1\" class=\"dataframe\">\n",
       "  <thead>\n",
       "    <tr style=\"text-align: right;\">\n",
       "      <th></th>\n",
       "      <th>Date</th>\n",
       "    </tr>\n",
       "    <tr>\n",
       "      <th>CustomerID</th>\n",
       "      <th></th>\n",
       "    </tr>\n",
       "  </thead>\n",
       "  <tbody>\n",
       "    <tr>\n",
       "      <th>12347.0</th>\n",
       "      <td>33</td>\n",
       "    </tr>\n",
       "    <tr>\n",
       "      <th>12348.0</th>\n",
       "      <td>242</td>\n",
       "    </tr>\n",
       "    <tr>\n",
       "      <th>12349.0</th>\n",
       "      <td>12</td>\n",
       "    </tr>\n",
       "    <tr>\n",
       "      <th>12350.0</th>\n",
       "      <td>304</td>\n",
       "    </tr>\n",
       "    <tr>\n",
       "      <th>12352.0</th>\n",
       "      <td>30</td>\n",
       "    </tr>\n",
       "  </tbody>\n",
       "</table>\n",
       "</div>"
      ],
      "text/plain": [
       "            Date\n",
       "CustomerID      \n",
       "12347.0       33\n",
       "12348.0      242\n",
       "12349.0       12\n",
       "12350.0      304\n",
       "12352.0       30"
      ]
     },
     "execution_count": 89,
     "metadata": {},
     "output_type": "execute_result"
    }
   ],
   "source": [
    "day = '2019-12-01'\n",
    "day = pd.to_datetime(day)\n",
    "\n",
    "recency = transaction_data.groupby(['CustomerID']).agg({\"Date\": lambda x:((day-x.max()).days)})\n",
    "recency.head()"
   ]
  },
  {
   "cell_type": "code",
   "execution_count": 90,
   "id": "2d637f5c",
   "metadata": {
    "ExecuteTime": {
     "end_time": "2023-09-06T04:10:30.030609Z",
     "start_time": "2023-09-06T04:10:29.992710Z"
    }
   },
   "outputs": [
    {
     "data": {
      "text/html": [
       "<div>\n",
       "<style scoped>\n",
       "    .dataframe tbody tr th:only-of-type {\n",
       "        vertical-align: middle;\n",
       "    }\n",
       "\n",
       "    .dataframe tbody tr th {\n",
       "        vertical-align: top;\n",
       "    }\n",
       "\n",
       "    .dataframe thead th {\n",
       "        text-align: right;\n",
       "    }\n",
       "</style>\n",
       "<table border=\"1\" class=\"dataframe\">\n",
       "  <thead>\n",
       "    <tr style=\"text-align: right;\">\n",
       "      <th></th>\n",
       "      <th>InvoiceNo</th>\n",
       "    </tr>\n",
       "    <tr>\n",
       "      <th>CustomerID</th>\n",
       "      <th></th>\n",
       "    </tr>\n",
       "  </thead>\n",
       "  <tbody>\n",
       "    <tr>\n",
       "      <th>12347.0</th>\n",
       "      <td>6</td>\n",
       "    </tr>\n",
       "    <tr>\n",
       "      <th>12348.0</th>\n",
       "      <td>2</td>\n",
       "    </tr>\n",
       "    <tr>\n",
       "      <th>12349.0</th>\n",
       "      <td>1</td>\n",
       "    </tr>\n",
       "    <tr>\n",
       "      <th>12350.0</th>\n",
       "      <td>1</td>\n",
       "    </tr>\n",
       "    <tr>\n",
       "      <th>12352.0</th>\n",
       "      <td>7</td>\n",
       "    </tr>\n",
       "  </tbody>\n",
       "</table>\n",
       "</div>"
      ],
      "text/plain": [
       "            InvoiceNo\n",
       "CustomerID           \n",
       "12347.0             6\n",
       "12348.0             2\n",
       "12349.0             1\n",
       "12350.0             1\n",
       "12352.0             7"
      ]
     },
     "execution_count": 90,
     "metadata": {},
     "output_type": "execute_result"
    }
   ],
   "source": [
    "freq_data = transaction_data.copy()\n",
    "freq = freq_data.drop_duplicates(subset='InvoiceNo').groupby(['CustomerID'])[['InvoiceNo']].count()\n",
    "freq.head()"
   ]
  },
  {
   "cell_type": "code",
   "execution_count": 91,
   "id": "aa7a9c83",
   "metadata": {
    "ExecuteTime": {
     "end_time": "2023-09-06T04:10:34.189313Z",
     "start_time": "2023-09-06T04:10:34.152748Z"
    }
   },
   "outputs": [
    {
     "data": {
      "text/html": [
       "<div>\n",
       "<style scoped>\n",
       "    .dataframe tbody tr th:only-of-type {\n",
       "        vertical-align: middle;\n",
       "    }\n",
       "\n",
       "    .dataframe tbody tr th {\n",
       "        vertical-align: top;\n",
       "    }\n",
       "\n",
       "    .dataframe thead th {\n",
       "        text-align: right;\n",
       "    }\n",
       "</style>\n",
       "<table border=\"1\" class=\"dataframe\">\n",
       "  <thead>\n",
       "    <tr style=\"text-align: right;\">\n",
       "      <th></th>\n",
       "      <th>Total_payment</th>\n",
       "    </tr>\n",
       "    <tr>\n",
       "      <th>CustomerID</th>\n",
       "      <th></th>\n",
       "    </tr>\n",
       "  </thead>\n",
       "  <tbody>\n",
       "    <tr>\n",
       "      <th>12347.0</th>\n",
       "      <td>3243.62</td>\n",
       "    </tr>\n",
       "    <tr>\n",
       "      <th>12348.0</th>\n",
       "      <td>37.40</td>\n",
       "    </tr>\n",
       "    <tr>\n",
       "      <th>12349.0</th>\n",
       "      <td>1242.80</td>\n",
       "    </tr>\n",
       "    <tr>\n",
       "      <th>12350.0</th>\n",
       "      <td>294.40</td>\n",
       "    </tr>\n",
       "    <tr>\n",
       "      <th>12352.0</th>\n",
       "      <td>1385.74</td>\n",
       "    </tr>\n",
       "  </tbody>\n",
       "</table>\n",
       "</div>"
      ],
      "text/plain": [
       "            Total_payment\n",
       "CustomerID               \n",
       "12347.0           3243.62\n",
       "12348.0             37.40\n",
       "12349.0           1242.80\n",
       "12350.0            294.40\n",
       "12352.0           1385.74"
      ]
     },
     "execution_count": 91,
     "metadata": {},
     "output_type": "execute_result"
    }
   ],
   "source": [
    "payment = transaction_data.groupby(['CustomerID'])[['Total_payment']].sum()\n",
    "payment.head()"
   ]
  },
  {
   "cell_type": "code",
   "execution_count": 92,
   "id": "a3f8e355",
   "metadata": {
    "ExecuteTime": {
     "end_time": "2023-09-06T04:10:37.864166Z",
     "start_time": "2023-09-06T04:10:37.840602Z"
    }
   },
   "outputs": [
    {
     "data": {
      "text/html": [
       "<div>\n",
       "<style scoped>\n",
       "    .dataframe tbody tr th:only-of-type {\n",
       "        vertical-align: middle;\n",
       "    }\n",
       "\n",
       "    .dataframe tbody tr th {\n",
       "        vertical-align: top;\n",
       "    }\n",
       "\n",
       "    .dataframe thead th {\n",
       "        text-align: right;\n",
       "    }\n",
       "</style>\n",
       "<table border=\"1\" class=\"dataframe\">\n",
       "  <thead>\n",
       "    <tr style=\"text-align: right;\">\n",
       "      <th></th>\n",
       "      <th>Date</th>\n",
       "      <th>InvoiceNo</th>\n",
       "      <th>Total_payment</th>\n",
       "    </tr>\n",
       "    <tr>\n",
       "      <th>CustomerID</th>\n",
       "      <th></th>\n",
       "      <th></th>\n",
       "      <th></th>\n",
       "    </tr>\n",
       "  </thead>\n",
       "  <tbody>\n",
       "    <tr>\n",
       "      <th>12347.0</th>\n",
       "      <td>33</td>\n",
       "      <td>6</td>\n",
       "      <td>3243.62</td>\n",
       "    </tr>\n",
       "    <tr>\n",
       "      <th>12348.0</th>\n",
       "      <td>242</td>\n",
       "      <td>2</td>\n",
       "      <td>37.40</td>\n",
       "    </tr>\n",
       "    <tr>\n",
       "      <th>12349.0</th>\n",
       "      <td>12</td>\n",
       "      <td>1</td>\n",
       "      <td>1242.80</td>\n",
       "    </tr>\n",
       "    <tr>\n",
       "      <th>12350.0</th>\n",
       "      <td>304</td>\n",
       "      <td>1</td>\n",
       "      <td>294.40</td>\n",
       "    </tr>\n",
       "    <tr>\n",
       "      <th>12352.0</th>\n",
       "      <td>30</td>\n",
       "      <td>7</td>\n",
       "      <td>1385.74</td>\n",
       "    </tr>\n",
       "    <tr>\n",
       "      <th>...</th>\n",
       "      <td>...</td>\n",
       "      <td>...</td>\n",
       "      <td>...</td>\n",
       "    </tr>\n",
       "    <tr>\n",
       "      <th>18280.0</th>\n",
       "      <td>271</td>\n",
       "      <td>1</td>\n",
       "      <td>180.60</td>\n",
       "    </tr>\n",
       "    <tr>\n",
       "      <th>18281.0</th>\n",
       "      <td>174</td>\n",
       "      <td>1</td>\n",
       "      <td>31.80</td>\n",
       "    </tr>\n",
       "    <tr>\n",
       "      <th>18282.0</th>\n",
       "      <td>1</td>\n",
       "      <td>2</td>\n",
       "      <td>159.09</td>\n",
       "    </tr>\n",
       "    <tr>\n",
       "      <th>18283.0</th>\n",
       "      <td>3</td>\n",
       "      <td>15</td>\n",
       "      <td>1736.45</td>\n",
       "    </tr>\n",
       "    <tr>\n",
       "      <th>18287.0</th>\n",
       "      <td>52</td>\n",
       "      <td>2</td>\n",
       "      <td>987.44</td>\n",
       "    </tr>\n",
       "  </tbody>\n",
       "</table>\n",
       "<p>4154 rows × 3 columns</p>\n",
       "</div>"
      ],
      "text/plain": [
       "            Date  InvoiceNo  Total_payment\n",
       "CustomerID                                \n",
       "12347.0       33          6        3243.62\n",
       "12348.0      242          2          37.40\n",
       "12349.0       12          1        1242.80\n",
       "12350.0      304          1         294.40\n",
       "12352.0       30          7        1385.74\n",
       "...          ...        ...            ...\n",
       "18280.0      271          1         180.60\n",
       "18281.0      174          1          31.80\n",
       "18282.0        1          2         159.09\n",
       "18283.0        3         15        1736.45\n",
       "18287.0       52          2         987.44\n",
       "\n",
       "[4154 rows x 3 columns]"
      ]
     },
     "execution_count": 92,
     "metadata": {},
     "output_type": "execute_result"
    }
   ],
   "source": [
    "RFM = pd.concat([recency,freq,payment],axis=1)\n",
    "RFM"
   ]
  },
  {
   "cell_type": "code",
   "execution_count": 93,
   "id": "cb60d83a",
   "metadata": {
    "ExecuteTime": {
     "end_time": "2023-09-06T04:10:42.481430Z",
     "start_time": "2023-09-06T04:10:42.473428Z"
    }
   },
   "outputs": [
    {
     "data": {
      "text/html": [
       "<div>\n",
       "<style scoped>\n",
       "    .dataframe tbody tr th:only-of-type {\n",
       "        vertical-align: middle;\n",
       "    }\n",
       "\n",
       "    .dataframe tbody tr th {\n",
       "        vertical-align: top;\n",
       "    }\n",
       "\n",
       "    .dataframe thead th {\n",
       "        text-align: right;\n",
       "    }\n",
       "</style>\n",
       "<table border=\"1\" class=\"dataframe\">\n",
       "  <thead>\n",
       "    <tr style=\"text-align: right;\">\n",
       "      <th></th>\n",
       "      <th>Recency</th>\n",
       "      <th>Frequency</th>\n",
       "      <th>Monetary</th>\n",
       "    </tr>\n",
       "    <tr>\n",
       "      <th>CustomerID</th>\n",
       "      <th></th>\n",
       "      <th></th>\n",
       "      <th></th>\n",
       "    </tr>\n",
       "  </thead>\n",
       "  <tbody>\n",
       "    <tr>\n",
       "      <th>12347.0</th>\n",
       "      <td>33</td>\n",
       "      <td>6</td>\n",
       "      <td>3243.62</td>\n",
       "    </tr>\n",
       "    <tr>\n",
       "      <th>12348.0</th>\n",
       "      <td>242</td>\n",
       "      <td>2</td>\n",
       "      <td>37.40</td>\n",
       "    </tr>\n",
       "    <tr>\n",
       "      <th>12349.0</th>\n",
       "      <td>12</td>\n",
       "      <td>1</td>\n",
       "      <td>1242.80</td>\n",
       "    </tr>\n",
       "    <tr>\n",
       "      <th>12350.0</th>\n",
       "      <td>304</td>\n",
       "      <td>1</td>\n",
       "      <td>294.40</td>\n",
       "    </tr>\n",
       "    <tr>\n",
       "      <th>12352.0</th>\n",
       "      <td>30</td>\n",
       "      <td>7</td>\n",
       "      <td>1385.74</td>\n",
       "    </tr>\n",
       "  </tbody>\n",
       "</table>\n",
       "</div>"
      ],
      "text/plain": [
       "            Recency  Frequency  Monetary\n",
       "CustomerID                              \n",
       "12347.0          33          6   3243.62\n",
       "12348.0         242          2     37.40\n",
       "12349.0          12          1   1242.80\n",
       "12350.0         304          1    294.40\n",
       "12352.0          30          7   1385.74"
      ]
     },
     "execution_count": 93,
     "metadata": {},
     "output_type": "execute_result"
    }
   ],
   "source": [
    "RFM.columns = ['Recency','Frequency','Monetary']\n",
    "RFM.head()"
   ]
  },
  {
   "cell_type": "code",
   "execution_count": 94,
   "id": "59cf20d1",
   "metadata": {
    "ExecuteTime": {
     "end_time": "2023-09-06T04:10:46.064007Z",
     "start_time": "2023-09-06T04:10:46.048053Z"
    }
   },
   "outputs": [],
   "source": [
    "scaler = StandardScaler()\n",
    "scaler = scaler.fit_transform(RFM)"
   ]
  },
  {
   "cell_type": "code",
   "execution_count": 95,
   "id": "e2ec4128",
   "metadata": {
    "ExecuteTime": {
     "end_time": "2023-09-06T04:10:51.417159Z",
     "start_time": "2023-09-06T04:10:50.840981Z"
    }
   },
   "outputs": [
    {
     "data": {
      "image/png": "[encoded data removed]",
      "text/plain": [
       "<Figure size 640x480 with 1 Axes>"
      ]
     },
     "metadata": {},
     "output_type": "display_data"
    }
   ],
   "source": [
    "inertia = []\n",
    "for i in np.arange(1,10):\n",
    "    kmeans = KMeans(n_clusters =i)\n",
    "    kmeans.fit(scaler)\n",
    "    inertia.append(kmeans.inertia_)\n",
    "plt.plot(inertia,marker='o')\n",
    "plt.xlabel('Values of i') \n",
    "plt.ylabel('Inertia') \n",
    "plt.title('Elbow Method For Optimal i')\n",
    "plt.show()"
   ]
  },
  {
   "cell_type": "code",
   "execution_count": 96,
   "id": "4a71305f",
   "metadata": {
    "ExecuteTime": {
     "end_time": "2023-09-06T04:10:58.027631Z",
     "start_time": "2023-09-06T04:10:55.968404Z"
    }
   },
   "outputs": [
    {
     "data": {
      "image/png": "[encoded data removed]",
      "text/plain": [
       "<Figure size 640x480 with 1 Axes>"
      ]
     },
     "metadata": {},
     "output_type": "display_data"
    }
   ],
   "source": [
    "range_n_clusters = [2, 3, 4, 5, 6, 7, 8]\n",
    "silhouette_avg = []\n",
    "\n",
    "for k in range_n_clusters:\n",
    "    kmeans = KMeans(n_clusters=k)\n",
    "    kmeans.fit(scaler)\n",
    "    cluster_labels = kmeans.labels_    \n",
    "    silhouette_avg.append(silhouette_score(scaler, cluster_labels))\n",
    "    \n",
    "plt.plot(range_n_clusters,silhouette_avg,marker='o')\n",
    "plt.xlabel('Values of K') \n",
    "plt.ylabel('Silhouette score') \n",
    "plt.title('Silhouette analysis For Optimal K')\n",
    "plt.show()"
   ]
  },
  {
   "cell_type": "code",
   "execution_count": 97,
   "id": "0a9dbdb4",
   "metadata": {
    "ExecuteTime": {
     "end_time": "2023-09-06T04:11:01.036781Z",
     "start_time": "2023-09-06T04:11:00.992693Z"
    }
   },
   "outputs": [],
   "source": [
    "km = KMeans(n_clusters = 4,random_state= 0)\n",
    "labels = km.fit_predict(scaler)\n",
    "RFM['Cluster'] = labels+1"
   ]
  },
  {
   "cell_type": "code",
   "execution_count": 98,
   "id": "f5488119",
   "metadata": {
    "ExecuteTime": {
     "end_time": "2023-09-06T04:11:04.333735Z",
     "start_time": "2023-09-06T04:11:04.320070Z"
    }
   },
   "outputs": [
    {
     "data": {
      "text/html": [
       "<div>\n",
       "<style scoped>\n",
       "    .dataframe tbody tr th:only-of-type {\n",
       "        vertical-align: middle;\n",
       "    }\n",
       "\n",
       "    .dataframe tbody tr th {\n",
       "        vertical-align: top;\n",
       "    }\n",
       "\n",
       "    .dataframe thead th {\n",
       "        text-align: right;\n",
       "    }\n",
       "</style>\n",
       "<table border=\"1\" class=\"dataframe\">\n",
       "  <thead>\n",
       "    <tr style=\"text-align: right;\">\n",
       "      <th></th>\n",
       "      <th>Recency</th>\n",
       "      <th>Frequency</th>\n",
       "      <th>Monetary</th>\n",
       "    </tr>\n",
       "    <tr>\n",
       "      <th>Cluster</th>\n",
       "      <th></th>\n",
       "      <th></th>\n",
       "      <th></th>\n",
       "    </tr>\n",
       "  </thead>\n",
       "  <tbody>\n",
       "    <tr>\n",
       "      <th>1</th>\n",
       "      <td>41.293932</td>\n",
       "      <td>3.400561</td>\n",
       "      <td>936.282610</td>\n",
       "    </tr>\n",
       "    <tr>\n",
       "      <th>2</th>\n",
       "      <td>236.165725</td>\n",
       "      <td>1.521657</td>\n",
       "      <td>361.937731</td>\n",
       "    </tr>\n",
       "    <tr>\n",
       "      <th>3</th>\n",
       "      <td>13.130802</td>\n",
       "      <td>18.637131</td>\n",
       "      <td>6279.162194</td>\n",
       "    </tr>\n",
       "    <tr>\n",
       "      <th>4</th>\n",
       "      <td>1.500000</td>\n",
       "      <td>144.250000</td>\n",
       "      <td>47129.772500</td>\n",
       "    </tr>\n",
       "  </tbody>\n",
       "</table>\n",
       "</div>"
      ],
      "text/plain": [
       "            Recency   Frequency      Monetary\n",
       "Cluster                                      \n",
       "1         41.293932    3.400561    936.282610\n",
       "2        236.165725    1.521657    361.937731\n",
       "3         13.130802   18.637131   6279.162194\n",
       "4          1.500000  144.250000  47129.772500"
      ]
     },
     "execution_count": 98,
     "metadata": {},
     "output_type": "execute_result"
    }
   ],
   "source": [
    "RFM.groupby('Cluster').mean()"
   ]
  },
  {
   "cell_type": "markdown",
   "id": "810f8957",
   "metadata": {},
   "source": [
    "**Observations**\n",
    "\n",
    "Cluster 1: \"Moderate Engagers\"\n",
    "\n",
    "Reasoning: Customers in this cluster have made moderately recent purchases and have a moderate purchase frequency and monetary value. They are engaged with the business but not as active as customers in other clusters.\n",
    "\n",
    "Cluster 2: \"Inactive Spenders\"\n",
    "\n",
    "Reasoning: Customers in this cluster have not made recent purchases and have a low purchase frequency and monetary value. They are less engaged with the business and are not spending as much as customers in other clusters.\n",
    "\n",
    "Cluster 3: \"High-Value Repeat Customers\"\n",
    "\n",
    "Reasoning: Customers in this cluster have made recent purchases, have a high purchase frequency, and have spent a significant amount of money. They are valuable customers who make repeated purchases and contribute to the business's revenue.\n",
    "\n",
    "Cluster 4: \"Super Active High Spenders\"\n",
    "\n",
    "Reasoning: Customers in this cluster have made very recent purchases, have an extremely high purchase frequency, and have spent a substantial amount of money. They are the most active and highest-spending customers in the dataset."
   ]
  },
  {
   "cell_type": "code",
   "execution_count": 99,
   "id": "ec5f24cc",
   "metadata": {
    "ExecuteTime": {
     "end_time": "2023-09-06T04:11:17.175090Z",
     "start_time": "2023-09-06T04:11:17.128022Z"
    }
   },
   "outputs": [],
   "source": [
    "def func(row):\n",
    "    if row['Cluster'] == 1:\n",
    "        return 'Moderate Engagers'\n",
    "    elif row['Cluster'] == 2:\n",
    "        return 'Inactive Spenders'\n",
    "    elif row['Cluster'] == 3:\n",
    "        return 'High-Value Repeat Customers'\n",
    "    else: \n",
    "        return 'Super Active High Spenders'\n",
    "    \n",
    "RFM['Type'] = RFM.apply(func,axis=1)"
   ]
  },
  {
   "cell_type": "code",
   "execution_count": 100,
   "id": "f8092441",
   "metadata": {
    "ExecuteTime": {
     "end_time": "2023-09-06T04:11:21.025874Z",
     "start_time": "2023-09-06T04:11:21.008870Z"
    }
   },
   "outputs": [
    {
     "data": {
      "text/html": [
       "<div>\n",
       "<style scoped>\n",
       "    .dataframe tbody tr th:only-of-type {\n",
       "        vertical-align: middle;\n",
       "    }\n",
       "\n",
       "    .dataframe tbody tr th {\n",
       "        vertical-align: top;\n",
       "    }\n",
       "\n",
       "    .dataframe thead th {\n",
       "        text-align: right;\n",
       "    }\n",
       "</style>\n",
       "<table border=\"1\" class=\"dataframe\">\n",
       "  <thead>\n",
       "    <tr style=\"text-align: right;\">\n",
       "      <th></th>\n",
       "      <th>CustomerID</th>\n",
       "      <th>Recency</th>\n",
       "      <th>Frequency</th>\n",
       "      <th>Monetary</th>\n",
       "      <th>Cluster</th>\n",
       "      <th>Type</th>\n",
       "    </tr>\n",
       "  </thead>\n",
       "  <tbody>\n",
       "    <tr>\n",
       "      <th>0</th>\n",
       "      <td>12347.0</td>\n",
       "      <td>33</td>\n",
       "      <td>6</td>\n",
       "      <td>3243.62</td>\n",
       "      <td>1</td>\n",
       "      <td>Moderate Engagers</td>\n",
       "    </tr>\n",
       "    <tr>\n",
       "      <th>1</th>\n",
       "      <td>12348.0</td>\n",
       "      <td>242</td>\n",
       "      <td>2</td>\n",
       "      <td>37.40</td>\n",
       "      <td>2</td>\n",
       "      <td>Inactive Spenders</td>\n",
       "    </tr>\n",
       "    <tr>\n",
       "      <th>2</th>\n",
       "      <td>12349.0</td>\n",
       "      <td>12</td>\n",
       "      <td>1</td>\n",
       "      <td>1242.80</td>\n",
       "      <td>1</td>\n",
       "      <td>Moderate Engagers</td>\n",
       "    </tr>\n",
       "    <tr>\n",
       "      <th>3</th>\n",
       "      <td>12350.0</td>\n",
       "      <td>304</td>\n",
       "      <td>1</td>\n",
       "      <td>294.40</td>\n",
       "      <td>2</td>\n",
       "      <td>Inactive Spenders</td>\n",
       "    </tr>\n",
       "    <tr>\n",
       "      <th>4</th>\n",
       "      <td>12352.0</td>\n",
       "      <td>30</td>\n",
       "      <td>7</td>\n",
       "      <td>1385.74</td>\n",
       "      <td>1</td>\n",
       "      <td>Moderate Engagers</td>\n",
       "    </tr>\n",
       "    <tr>\n",
       "      <th>...</th>\n",
       "      <td>...</td>\n",
       "      <td>...</td>\n",
       "      <td>...</td>\n",
       "      <td>...</td>\n",
       "      <td>...</td>\n",
       "      <td>...</td>\n",
       "    </tr>\n",
       "    <tr>\n",
       "      <th>4149</th>\n",
       "      <td>18280.0</td>\n",
       "      <td>271</td>\n",
       "      <td>1</td>\n",
       "      <td>180.60</td>\n",
       "      <td>2</td>\n",
       "      <td>Inactive Spenders</td>\n",
       "    </tr>\n",
       "    <tr>\n",
       "      <th>4150</th>\n",
       "      <td>18281.0</td>\n",
       "      <td>174</td>\n",
       "      <td>1</td>\n",
       "      <td>31.80</td>\n",
       "      <td>2</td>\n",
       "      <td>Inactive Spenders</td>\n",
       "    </tr>\n",
       "    <tr>\n",
       "      <th>4151</th>\n",
       "      <td>18282.0</td>\n",
       "      <td>1</td>\n",
       "      <td>2</td>\n",
       "      <td>159.09</td>\n",
       "      <td>1</td>\n",
       "      <td>Moderate Engagers</td>\n",
       "    </tr>\n",
       "    <tr>\n",
       "      <th>4152</th>\n",
       "      <td>18283.0</td>\n",
       "      <td>3</td>\n",
       "      <td>15</td>\n",
       "      <td>1736.45</td>\n",
       "      <td>1</td>\n",
       "      <td>Moderate Engagers</td>\n",
       "    </tr>\n",
       "    <tr>\n",
       "      <th>4153</th>\n",
       "      <td>18287.0</td>\n",
       "      <td>52</td>\n",
       "      <td>2</td>\n",
       "      <td>987.44</td>\n",
       "      <td>1</td>\n",
       "      <td>Moderate Engagers</td>\n",
       "    </tr>\n",
       "  </tbody>\n",
       "</table>\n",
       "<p>4154 rows × 6 columns</p>\n",
       "</div>"
      ],
      "text/plain": [
       "      CustomerID  Recency  Frequency  Monetary  Cluster               Type\n",
       "0        12347.0       33          6   3243.62        1  Moderate Engagers\n",
       "1        12348.0      242          2     37.40        2  Inactive Spenders\n",
       "2        12349.0       12          1   1242.80        1  Moderate Engagers\n",
       "3        12350.0      304          1    294.40        2  Inactive Spenders\n",
       "4        12352.0       30          7   1385.74        1  Moderate Engagers\n",
       "...          ...      ...        ...       ...      ...                ...\n",
       "4149     18280.0      271          1    180.60        2  Inactive Spenders\n",
       "4150     18281.0      174          1     31.80        2  Inactive Spenders\n",
       "4151     18282.0        1          2    159.09        1  Moderate Engagers\n",
       "4152     18283.0        3         15   1736.45        1  Moderate Engagers\n",
       "4153     18287.0       52          2    987.44        1  Moderate Engagers\n",
       "\n",
       "[4154 rows x 6 columns]"
      ]
     },
     "execution_count": 100,
     "metadata": {},
     "output_type": "execute_result"
    }
   ],
   "source": [
    "RFM = RFM.reset_index()\n",
    "RFM"
   ]
  },
  {
   "cell_type": "code",
   "execution_count": 101,
   "id": "404ed7e0",
   "metadata": {
    "ExecuteTime": {
     "end_time": "2023-09-06T04:11:24.735291Z",
     "start_time": "2023-09-06T04:11:24.719718Z"
    }
   },
   "outputs": [
    {
     "data": {
      "text/plain": [
       "Moderate Engagers              2851\n",
       "Inactive Spenders              1062\n",
       "High-Value Repeat Customers     237\n",
       "Super Active High Spenders        4\n",
       "Name: Type, dtype: int64"
      ]
     },
     "execution_count": 101,
     "metadata": {},
     "output_type": "execute_result"
    }
   ],
   "source": [
    "result = RFM['Type'].value_counts()\n",
    "result"
   ]
  },
  {
   "cell_type": "code",
   "execution_count": 102,
   "id": "f19b3bde",
   "metadata": {
    "ExecuteTime": {
     "end_time": "2023-09-06T04:11:27.965214Z",
     "start_time": "2023-09-06T04:11:27.839600Z"
    }
   },
   "outputs": [
    {
     "data": {
      "image/png": "[encoded data removed]",
      "text/plain": [
       "<Figure size 640x480 with 1 Axes>"
      ]
     },
     "metadata": {},
     "output_type": "display_data"
    }
   ],
   "source": [
    "num_clusters = len(result)\n",
    "cmap = plt.get_cmap('Paired')\n",
    "colors = [cmap(i) for i in np.linspace(0, 1, num_clusters)]\n",
    "\n",
    "result.plot(kind='barh', color=colors)\n",
    "plt.show()"
   ]
  },
  {
   "cell_type": "code",
   "execution_count": 103,
   "id": "2c51211e",
   "metadata": {
    "ExecuteTime": {
     "end_time": "2023-09-06T04:11:31.945053Z",
     "start_time": "2023-09-06T04:11:31.759056Z"
    }
   },
   "outputs": [
    {
     "data": {
      "image/png": "[encoded data removed]",
      "text/plain": [
       "<Figure size 1000x400 with 2 Axes>"
      ]
     },
     "metadata": {},
     "output_type": "display_data"
    }
   ],
   "source": [
    "rfm_count = RFM.groupby('Type').agg({'CustomerID':'nunique'}).reset_index()\n",
    "\n",
    "fig, axs = plt.subplots(1, 2, figsize=(10, 4))\n",
    "axs[0].pie(rfm_count['CustomerID'], labels=rfm_count['Type'], autopct=lambda pct: f\"{pct:.1f}%\\n{int(pct/100*sum(rfm_count['CustomerID']))}\")\n",
    "axs[1].pie(profile_count['CustomerID'], labels=profile_count['Profile_spend_year'], autopct=lambda pct: f\"{pct:.1f}%\\n{int(pct/100*sum(profile_count['CustomerID']))}\")\n",
    "\n",
    "# Add titles\n",
    "axs[0].set_title('Customer Segmentation Using RFM')\n",
    "axs[1].set_title('Customer Profile')\n",
    "\n",
    "plt.tight_layout()\n",
    "\n",
    "# Display the charts\n",
    "plt.show()"
   ]
  },
  {
   "cell_type": "markdown",
   "id": "c2419a47",
   "metadata": {},
   "source": [
    "**Summary**\n",
    "\n",
    "The majority of customers are mederate engagers or dormant (Cluster 1), followed by inactive spenders customers (Cluster 2). A smaller segment of high-value repeat customers (Cluster 3) and a very small group of super active high spenders customers (Cluster 4) are also present. This information can help inform targeted marketing strategies and efforts to re-engage inactive customers, retain regular customers, and provide special attention to high-value customers.\n",
    "\n",
    "There are also included the different between the customer profile and the customer segmentation. As we can see even the customers are being in the low spender profile, there are still probability that the customer were in moderate engagers segmentation. Therefore, the customer segmentation can provide the more information on our customer behaviour."
   ]
  },
  {
   "cell_type": "markdown",
   "id": "988f3e43",
   "metadata": {
    "ExecuteTime": {
     "end_time": "2023-09-06T04:11:44.425694Z",
     "start_time": "2023-09-06T04:11:44.421693Z"
    }
   },
   "source": [
    "# Overall Conclusions"
   ]
  },
  {
   "cell_type": "markdown",
   "id": "434210e7",
   "metadata": {},
   "source": [
    "## EDA"
   ]
  },
  {
   "cell_type": "markdown",
   "id": "829d678e",
   "metadata": {},
   "source": [
    "<u>Analysis based on time period<u>\n",
    "\n",
    "\n",
    "**Total payment in transaction per month**\n",
    "\n",
    "- The total payment transactions exhibit fluctuations from month to month, indicating variations in profit. There are noticeable increases and decreases in profit over different periods. \n",
    "\n",
    "- Additionally, by analyzing the monthly profit figures, potential seasonal trends or patterns can be identified. If there is a consistent increase or decrease in profit during certain months, it may indicate the influence of seasonal factors. Understanding these seasonal trends can help in planning and adjusting business strategies accordingly. \n",
    " \n",
    "- Furthermore, it is important to identify peaks and troughs in the profit figures. Months with exceptionally high or low profits compared to the surrounding months can provide insights into events, campaigns, or external factors that impact the business during those periods. This information can be used to replicate successful strategies or address issues that may have caused negative impacts.\n",
    "\n",
    "**Number of customers that do transaction per month**\n",
    "    \n",
    "- The customer count exhibits fluctuations from month to month, indicating variations in customer activity or behavior. This suggests that customer engagement and transactional activity can vary throughout the year. \n",
    " \n",
    "- Analyzing the monthly customer count figures, potential seasonal trends or patterns in customer behavior can be identified. Consistant increased and decreaase may indicate the influence of seasonal factors on customer engagement. Understanding these seasonal trends can help in planning marketing campaigns, promotions, and inventory management during specific periods. \n",
    "    \n",
    "- Comparing the customer count figures over consecutive months can reveal trends in customer engagement growth or decline. This information is valuable for assessing the effectiveness of customer acquisition and retention strategies. Consistent increases in customer count may indicate successful acquisition efforts, while declines may signal a need to focus on customer retention strategies. \n",
    "    \n",
    "- The data on customer count can also be used for forecasting and planning future ecommerce operations. By understanding the fluctuations and trends in customer count, businesses can allocate resources, adjust marketing strategies, and optimize customer engagement initiatives. This helps in ensuring that adequate resources are available to meet customer demands and that marketing efforts are targeted effectively.\n",
    "    \n",
    "    \n",
    "<u>Analysis based on Customer Profile<u>\n",
    "\n",
    "**Relationship between Customer Profile and Average Quantity**\n",
    "\n",
    "The data is divided into three spending profiles: high, low, and moderate. These profiles indicate different spending levels for the given time period. \n",
    "- The \"high\" customer profile tends to have a consistent average quantity in their purchases. This suggests that customers in this profile consistently buy larger quantities of products. \n",
    "- The \"moderate\" customer profile exhibits some variation in average quantity. This indicates that customers in this profile may have different purchasing behaviors, with some buying larger quantities and others buying smaller quantities.  \n",
    "- The \"low\" customer profile shows unpredictability in terms of average quantity. This suggests that customers in this profile have varying purchasing behaviors and may not follow a consistent pattern in terms of the quantities they purchase.\n",
    "\n",
    "Additionally, by analyzing the \"Month\" column, it is possible to identify monthly trends and seasonal patterns. There may be certain months where the customer profiles, particularly the \"low\" profile, have higher or lower spending levels. These monthly trends and seasonality can provide insights into customer behavior and help in planning marketing strategies or adjusting inventory levels accordingly.\n",
    "\n",
    "**Relationship between Customer Profile and Unit Price**\n",
    "\n",
    "The data is categorized into three spending profiles: high, low, and moderate. These profiles suggest different spending levels for the given time period.\n",
    "\n",
    "- The \"high\" spending profile tends to consistently purchase products at a higher average unit price. This suggests that customers in this profile have a higher spending capacity and are willing to pay more for the products they purchase.\n",
    "\n",
    "- The \"moderate\" spending profile exhibits some variation in average unit price. This indicates that customers in this profile may have different spending behaviors, with some purchasing products at higher prices and others at lower prices. The average unit price for this profile may vary more compared to the \"high\" profile.\n",
    "\n",
    "- The \"low\" spending profile shows unpredictability in terms of average unit price. This suggests that customers in this profile have varying spending behaviors and may not follow a consistent pattern in terms of the prices they are willing to pay. The average unit price for this profile may fluctuate more and be less predictable compared to the other profiles.\n",
    "\n",
    "By analyzing the \"Month\" column, it is possible to identify monthly trends and seasonal patterns in average unit price. There may be certain months where all customer profiles experience higher or lower average unit prices. These monthly trends and seasonality can provide insights into customer behavior and help in planning pricing strategies or adjusting inventory levels accordingly.\n",
    "\n",
    "**Relationship between Customer Profile and Returned Unit Price**\n",
    "    \n",
    "- The analysis of return patterns across different customer profiles reveals some interesting insights. The kernel density estimation (KDE) plots indicate that the price for returned units is similar across all customer profiles, suggesting a consistent return pattern regardless of the spending profile.\n",
    "\n",
    "- The majority of returned units are from the cheaper priced units, specifically those priced less than $2.5. The relatively low quality of these cheap units could be a contributing factor to their higher return rates.\n",
    "\n",
    "- Some expensive units are also being returned, although they are less common. The reasons for the returns of expensive units could vary and would require further investigation and data analysis to understand better.\n",
    "\n",
    "- The quantity of units purchased also seems to have an impact on the number of returns. This suggests that customers who buy larger quantities may encounter more issues with the products they purchase, leading to a higher likelihood of returns."
   ]
  },
  {
   "cell_type": "markdown",
   "id": "fa014e44",
   "metadata": {},
   "source": [
    "## Hypotheses Testing"
   ]
  },
  {
   "cell_type": "markdown",
   "id": "bb6271e0",
   "metadata": {},
   "source": [
    "**Hypothesis 1 : Customers spend more in October/November compared to the other months in the current year.**\n",
    "\n",
    "The analysis fails to reject the hypothesis. This indicates that Customers spend more in October/November compared to the other months in the current year. This suggests that there may have a specific seasonal pattern of increased spending during these months.\n",
    "\n",
    "**Hypothesis 2 : Number of customers in end-of-year months is significantly more than other months.**\n",
    "\n",
    "The analysis fails to reject the hypothesis. The number of customers in the end-of-year months is significantly higher than in the other months. This suggests that there may be a notable increase in customer activity or engagement during the end-of-year period.\n",
    "\n",
    "**Hypothesis 3 : The 'high' customer profile spending quantities is greater than the others customer profile spending.**\n",
    "\n",
    "The analysis fails to reject the hypothesis. The spending quantities of the \"high\" customer profile are substantially greater than those of the \"moderate\" customer profile and the \"low\" customer profile. This suggests that there may be a substantial difference in spending quantities among the customer profiles.\n",
    "\n",
    "**Hypothesis 4 : The 'high' customer profile spending unit price is higher than the others customer profile spending.**\n",
    "\n",
    "The analysis fails to reject the hypothesis. The 'high' customer profile spending unit price is higher than the 'moderate' customer profile spending on average and the 'low' customer profile spending on average. This suggests that there may be a significant disparity in unit prices among the customer profiles.\n",
    "\n",
    "**Hypothesis 5 : The 'high' customer profile spending returned quantities is greater than the others customer profile spending.**\n",
    "\n",
    "The analysis fails to reject the hypothesis. Therefore, the 'high' customer profile spending returned quantities is greater than the 'moderate' customer profile spending and the 'low' customer profile spending. This suggests that there may be a substantial difference in the number of returned quantities among the customer profiles."
   ]
  },
  {
   "cell_type": "markdown",
   "id": "d335cf42",
   "metadata": {},
   "source": [
    "## RFM Analysis"
   ]
  },
  {
   "cell_type": "markdown",
   "id": "5f0cfffe",
   "metadata": {
    "ExecuteTime": {
     "end_time": "2023-09-06T04:12:23.163795Z",
     "start_time": "2023-09-06T04:12:23.149390Z"
    }
   },
   "source": [
    "In conclusion, the RFM analysis has helped identify four distinct customer clusters:\n",
    "\n",
    "- \"Moderate Engagers\": \n",
    "\n",
    "This cluster consists of customers who have made moderately recent purchases, with a moderate purchase frequency and monetary value. They are engaged with the business but not as active as customers in other clusters.\n",
    "\n",
    "- \"Inactive Spenders\": \n",
    "\n",
    "Customers in this cluster have not made recent purchases and exhibit a low purchase frequency and monetary value. They are less engaged with the business and do not spend as much as customers in other clusters.\n",
    "\n",
    "- \"High-Value Repeat Customers\": \n",
    "\n",
    "This cluster comprises customers who have made recent purchases, exhibit a high purchase frequency, and have spent a significant amount of money. They are valuable customers who make repeated purchases, contributing substantially to the business's revenue.\n",
    "\n",
    "- \"Super Active High Spenders\": \n",
    "\n",
    "This cluster represents customers who have made very recent purchases, display an extremely high purchase frequency, and have spent a substantial amount of money. They are the most active and highest-spending customers in the dataset.\n",
    "\n",
    "By understanding these customer clusters, you can tailor your marketing strategies and customer engagement approaches to cater to their specific needs and preferences. This segmentation can help optimize customer targeting, retention efforts, and overall business growth."
   ]
  },
  {
   "cell_type": "markdown",
   "id": "1fbc6c3b",
   "metadata": {},
   "source": [
    "## Conclusion \n",
    "\n",
    "From the EDA to Segmentation chapter, we can see more detail on analysis for the customer behavior and spending pattern that can be used to classified  each customer to their cluster. EDA chapter, the data being analysed to get the picture or pattern with customer behavior. Then, the last chapter which is Segmentation, the customer being classifed with the same customer behavior. The segmentation show that inactive users have the most number compared to others. It is important for the business to devise strategies to re-engage and reactivate these customers to increase their activity and potentially regain their loyalty. "
   ]
  },
  {
   "cell_type": "markdown",
   "id": "ec792619",
   "metadata": {},
   "source": [
    "# References"
   ]
  },
  {
   "cell_type": "markdown",
   "id": "1edfcd32",
   "metadata": {},
   "source": [
    "1. Customer Segementation vs Users Segmentation\n",
    "   - Explore the different segmentation \n",
    "   - https://simonpenny.wordpress.com/2021/04/29/whats-the-difference-between-customer-segmentation-and-customer-personas/\n",
    "\n",
    "\n",
    "2. EDA\n",
    "    - Explore the key points in EDA\n",
    "    - https://www.knowledgehut.com/blog/data-science/eda-data-science\n",
    "\n",
    "\n",
    "3. What is Hypothesis Testing? Types and Methods\n",
    "    - Explore the best Hypothesis Testing for the project\n",
    "    - https://www.analyticssteps.com/blogs/what-hypothesis-testing-types-and-methods\n",
    "\n",
    "\n",
    "4. Basic concept of RFM analysis\n",
    "    - Explore the usage for RFM analysis\n",
    "    - https://clevertap.com/blog/rfm-analysis/ \n",
    "\n",
    "\n",
    "5. RFM analysis \n",
    "    - Learn how to create the RFM analysis in coding.\n",
    "    - https://www.geeksforgeeks.org/rfm-analysis-analysis-using-python/ "
   ]
  }
 ],
 "metadata": {
  "kernelspec": {
   "display_name": "Python 3 (ipykernel)",
   "language": "python",
   "name": "python3"
  },
  "language_info": {
   "codemirror_mode": {
    "name": "ipython",
    "version": 3
   },
   "file_extension": ".py",
   "mimetype": "text/x-python",
   "name": "python",
   "nbconvert_exporter": "python",
   "pygments_lexer": "ipython3",
   "version": "3.10.9"
  },
  "nbTranslate": {
   "displayLangs": [
    "*"
   ],
   "hotkey": "alt-t",
   "langInMainMenu": true,
   "sourceLang": "en",
   "targetLang": "fr",
   "useGoogleTranslate": true
  },
  "toc": {
   "base_numbering": 1,
   "nav_menu": {},
   "number_sections": true,
   "sideBar": true,
   "skip_h1_title": false,
   "title_cell": "Table of Contents",
   "title_sidebar": "Contents",
   "toc_cell": false,
   "toc_position": {},
   "toc_section_display": true,
   "toc_window_display": false
  }
 },
 "nbformat": 4,
 "nbformat_minor": 5
}
